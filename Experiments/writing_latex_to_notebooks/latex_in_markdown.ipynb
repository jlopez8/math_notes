{
 "cells": [
  {
   "cell_type": "markdown",
   "id": "93947b2a",
   "metadata": {},
   "source": [
    "## Some Latex"
   ]
  },
  {
   "cell_type": "markdown",
   "id": "5882e1d6",
   "metadata": {},
   "source": [
    "$\\int_0^\\infty \\frac{1}{x} dx$"
   ]
  },
  {
   "cell_type": "code",
   "execution_count": null,
   "id": "ae428fa8",
   "metadata": {},
   "outputs": [],
   "source": []
  }
 ],
 "metadata": {
  "kernelspec": {
   "display_name": "Python 3",
   "language": "python",
   "name": "python3"
  },
  "language_info": {
   "codemirror_mode": {
    "name": "ipython",
    "version": 3
   },
   "file_extension": ".py",
   "mimetype": "text/x-python",
   "name": "python",
   "nbconvert_exporter": "python",
   "pygments_lexer": "ipython3",
   "version": "3.9.4"
  }
 },
 "nbformat": 4,
 "nbformat_minor": 5
}
