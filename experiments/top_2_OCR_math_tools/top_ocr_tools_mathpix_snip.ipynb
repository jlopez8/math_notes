{
 "cells": [
  {
   "cell_type": "markdown",
   "id": "db08ace0",
   "metadata": {},
   "source": [
    "# Experiment via Jupyter Top 2 OCR tools\n",
    "\n",
    "Description: \n",
    "\n",
    "Figure out the interface between Jupyter and APIs/models of the top 2 OCR tools. \n",
    "Consider using a separate notebook for each OCR tool.\n",
    "\n",
    "Learn how the Python request module works to interface with APIs.\n",
    "\n",
    "Deliverables:\n",
    "\n",
    "Successfully interact with an API via Jupyter. Able to receive a valid JSON request. \n",
    "\n",
    "Successfully generate predictions in Jupyter for top OCR models. In a notebook, be able to feed a static image into each tool and receive a LaTeX tool.\n",
    "\n",
    "Possibly render a LaTeX string as math to the notebook. "
   ]
  },
  {
   "cell_type": "markdown",
   "id": "90e354d9",
   "metadata": {},
   "source": [
    "# OCR Mathpix OCR\n",
    "\n",
    "\n",
    "## useful links\n",
    "https://medium.com/swlh/using-and-calling-an-api-with-python-494a18cb1f44"
   ]
  },
  {
   "cell_type": "code",
   "execution_count": 3,
   "id": "60531828",
   "metadata": {},
   "outputs": [],
   "source": [
    "# pip install requests\n",
    "# pip install --upgrade requests\n",
    "\n",
    "import requests\n",
    "\n",
    "import sys\n",
    "import base64\n",
    "import requests\n",
    "import json\n",
    "\n",
    "from IPython.display import Markdown as md"
   ]
  },
  {
   "cell_type": "markdown",
   "id": "9eac03c8",
   "metadata": {},
   "source": [
    "# Working w API requests"
   ]
  },
  {
   "cell_type": "code",
   "execution_count": 2,
   "id": "ebda6374",
   "metadata": {},
   "outputs": [],
   "source": [
    "r = requests.get('https://www.romexchange.com/')"
   ]
  },
  {
   "cell_type": "code",
   "execution_count": 3,
   "id": "01d453a7",
   "metadata": {},
   "outputs": [
    {
     "data": {
      "text/plain": [
       "406"
      ]
     },
     "execution_count": 3,
     "metadata": {},
     "output_type": "execute_result"
    }
   ],
   "source": [
    "r.status_code"
   ]
  },
  {
   "cell_type": "markdown",
   "id": "d0933e54",
   "metadata": {},
   "source": [
    "We get a 406. 406 Not Acceptable.\n",
    "\n",
    "What we can do is feed it something it likes and understands rather than just the query."
   ]
  },
  {
   "cell_type": "code",
   "execution_count": 4,
   "id": "098518e5",
   "metadata": {},
   "outputs": [],
   "source": [
    "url = 'https://www.romexchange.com/'\n",
    "\n",
    "headers = { 'Content-type': 'application/json'}"
   ]
  },
  {
   "cell_type": "code",
   "execution_count": 5,
   "id": "24a39dd6",
   "metadata": {},
   "outputs": [
    {
     "data": {
      "text/plain": [
       "406"
      ]
     },
     "execution_count": 5,
     "metadata": {},
     "output_type": "execute_result"
    }
   ],
   "source": [
    "r = requests.get(url, headers = headers)\n",
    "r.status_code"
   ]
  },
  {
   "cell_type": "markdown",
   "id": "fb620660",
   "metadata": {},
   "source": [
    "This will still not work but it's closer...\n",
    "Problem is the default python user agane is 'python-requests/2.21.0' is likely being blocked so we'll do something else."
   ]
  },
  {
   "cell_type": "code",
   "execution_count": 6,
   "id": "de067a95",
   "metadata": {},
   "outputs": [
    {
     "data": {
      "text/plain": [
       "200"
      ]
     },
     "execution_count": 6,
     "metadata": {},
     "output_type": "execute_result"
    }
   ],
   "source": [
    "url = 'https://www.romexchange.com/'\n",
    "\n",
    "headers = {'User-Agent': 'XY', 'Content-type':'application/json'}\n",
    "\n",
    "r = requests.get(url, headers=headers)\n",
    "\n",
    "r.status_code"
   ]
  },
  {
   "cell_type": "markdown",
   "id": "29061deb",
   "metadata": {},
   "source": [
    "Returns a 200 so we had a valid request.\n",
    "\n",
    "Now to take a look at the content, we can call the .text method to get out some information."
   ]
  },
  {
   "cell_type": "code",
   "execution_count": 7,
   "id": "faae3bd8",
   "metadata": {},
   "outputs": [
    {
     "data": {
      "text/plain": [
       "'<!doctype html><html lang=\"en\"><head><meta charset=\"utf-8\"><meta name=\"viewport\" content=\"width=device-width,initial-scale=1,shrink-to-fit=no\"><meta name=\"theme-color\" content=\"#000000\"><meta name=\"description\" content=\"Track price changes of any item in Ragnarok M on the Global and SEA servers. Easily see which item prices are rising or falling the fastest and compare between servers to gain an advantage in trading.\"><meta name=\"keywords\" content=\"Ragnarok, Online, Mobile, Eternal Love, Exchange, History, ROM, Ragnarok M, RO, Price, Market, Tracker, Global, SEA\"><meta property=\"og:site_name\" content=\"ROM Exchange\"><meta property=\"og:title\" content=\"ROM Exchange - Ragnarok M: Eternal Love Exchange Price History\"><meta property=\"og:description\" content=\"Track price changes of any item in Ragnarok M on the Global and SEA servers. Easily see which item prices are rising or falling the fastest and compare between servers to gain an advantage in trading.\"><meta property=\"og:image\" content=\"/images/og_image.png\"><link rel=\"manifest\" href=\"/manifest.json\"><link rel=\"shortcut icon\" href=\"/favicon.ico\"><link rel=\"stylesheet\" href=\"https://fonts.googleapis.com/css?family=Roboto:300,400,500\"/><link rel=\"stylesheet\" href=\"https://fonts.googleapis.com/icon?family=Material+Icons\"/><title>ROM Exchange - Ragnarok M: Eternal Love Exchange Price History</title><link href=\"/static/css/main.2cec7f57.chunk.css\" rel=\"stylesheet\"></head><body><noscript>You need to enable JavaScript to run this app.</noscript><div id=\"root\"></div><script>!function(l){function e(e){for(var r,t,n=e[0],o=e[1],u=e[2],f=0,i=[];f<n.length;f++)t=n[f],p[t]&&i.push(p[t][0]),p[t]=0;for(r in o)Object.prototype.hasOwnProperty.call(o,r)&&(l[r]=o[r]);for(s&&s(e);i.length;)i.shift()();return c.push.apply(c,u||[]),a()}function a(){for(var e,r=0;r<c.length;r++){for(var t=c[r],n=!0,o=1;o<t.length;o++){var u=t[o];0!==p[u]&&(n=!1)}n&&(c.splice(r--,1),e=f(f.s=t[0]))}return e}var t={},p={2:0},c=[];function f(e){if(t[e])return t[e].exports;var r=t[e]={i:e,l:!1,exports:{}};return l[e].call(r.exports,r,r.exports,f),r.l=!0,r.exports}f.m=l,f.c=t,f.d=function(e,r,t){f.o(e,r)||Object.defineProperty(e,r,{enumerable:!0,get:t})},f.r=function(e){\"undefined\"!=typeof Symbol&&Symbol.toStringTag&&Object.defineProperty(e,Symbol.toStringTag,{value:\"Module\"}),Object.defineProperty(e,\"__esModule\",{value:!0})},f.t=function(r,e){if(1&e&&(r=f(r)),8&e)return r;if(4&e&&\"object\"==typeof r&&r&&r.__esModule)return r;var t=Object.create(null);if(f.r(t),Object.defineProperty(t,\"default\",{enumerable:!0,value:r}),2&e&&\"string\"!=typeof r)for(var n in r)f.d(t,n,function(e){return r[e]}.bind(null,n));return t},f.n=function(e){var r=e&&e.__esModule?function(){return e.default}:function(){return e};return f.d(r,\"a\",r),r},f.o=function(e,r){return Object.prototype.hasOwnProperty.call(e,r)},f.p=\"/\";var r=this.webpackJsonp=this.webpackJsonp||[],n=r.push.bind(r);r.push=e,r=r.slice();for(var o=0;o<r.length;o++)e(r[o]);var s=n;a()}([])</script><script src=\"/static/js/1.ad152b9e.chunk.js\"></script><script src=\"/static/js/main.226be9fb.chunk.js\"></script></body></html>'"
      ]
     },
     "execution_count": 7,
     "metadata": {},
     "output_type": "execute_result"
    }
   ],
   "source": [
    "r.text"
   ]
  },
  {
   "cell_type": "markdown",
   "id": "b827fef5",
   "metadata": {},
   "source": [
    "# Applying this to MathPix\n",
    "\n",
    "https://mathpix.com/docs/ocr/examples\n",
    "\n",
    "https://docs.mathpix.com/#process-image-v3-text\n",
    "\n",
    "https://api.mathpix.com/v3/text"
   ]
  },
  {
   "cell_type": "markdown",
   "id": "4869c7db",
   "metadata": {},
   "source": [
    "## Write the Code\n",
    "\n",
    "Send an API request and get the response back. \n",
    "Transform this request.\n",
    "\n",
    "First use a hand-written picture you used."
   ]
  },
  {
   "cell_type": "code",
   "execution_count": 9,
   "id": "9b31af70",
   "metadata": {},
   "outputs": [
    {
     "name": "stdout",
     "output_type": "stream",
     "text": [
      "{\n",
      "    \"auto_rotate_confidence\": 0.9951534127435329,\n",
      "    \"auto_rotate_degrees\": 90,\n",
      "    \"confidence\": 1,\n",
      "    \"confidence_rate\": 1,\n",
      "    \"is_handwritten\": true,\n",
      "    \"is_printed\": false,\n",
      "    \"latex_styled\": \"\\\\int \\\\frac{1}{x^{2}+5^{2}} d x\",\n",
      "    \"request_id\": \"02f26e73a1930265cb734a433d5266c2\",\n",
      "    \"text\": \"\\\\( \\\\int \\\\frac{1}{x^{2}+5^{2}} d x \\\\)\"\n",
      "}\n"
     ]
    }
   ],
   "source": [
    "# this dictionary is necess for handling...\n",
    "{\n",
    "    \"src\": \"data:image/jpeg;base64,...\",\n",
    "    \"formats\": [\"text\", \"data\", \"html\"],\n",
    "    \"data_options\": {\n",
    "        \"include_asciimath\": True,\n",
    "        \"include_latex\": True\n",
    "    }\n",
    "}\n",
    "\n",
    "# put desired file path here\n",
    "file_path = 'static math/integral_smpl_1.jpg'\n",
    "image_uri = \"data:image/jpg;base64,\" + base64.b64encode(open(file_path, \"rb\").read()).decode()\n",
    "\n",
    "r = requests.post(\"https://api.mathpix.com/v3/text\",\n",
    "    data=json.dumps({'src': image_uri}),\n",
    "    headers={\"app_id\": \"jaime_meriz13_gmail_com_0ae761_524ac2\", \n",
    "             \"app_key\": \"8c504ea5335669f6a2c567f97fab91b34e6fee47f2f8ed849535dd2c2402bf24\",\n",
    "             \"Content-type\": \"application/json\"})\n",
    "\n",
    "print(json.dumps(json.loads(r.text), indent=4, sort_keys=True))"
   ]
  },
  {
   "cell_type": "markdown",
   "id": "60537179",
   "metadata": {},
   "source": [
    "## Process LaTeX\n",
    "\n",
    "With the inital request, turn it into regular LaTeX printed to the screen. \n",
    "\n",
    "Beyond this, produce several test cases with varying image inputs."
   ]
  },
  {
   "cell_type": "code",
   "execution_count": 10,
   "id": "11fdc5c3",
   "metadata": {},
   "outputs": [
    {
     "name": "stdout",
     "output_type": "stream",
     "text": [
      "\\int \\frac{1}{x^{2}+5^{2}} d x\n"
     ]
    }
   ],
   "source": [
    "json_return = json.loads(r.text)\n",
    "latex_return = json_return.get(\"latex_styled\")\n",
    "\n",
    "# expected: \\int \\frac{1}{x^{2}+5^{2}} d x\n",
    "print(latex_return)"
   ]
  },
  {
   "cell_type": "markdown",
   "id": "4ac92171",
   "metadata": {},
   "source": [
    "We can write to the screen using a code cell. There is a thread talking about widgets available for markdown to be able to do this. \n",
    "\n",
    "https://stackoverflow.com/questions/18878083/can-i-use-variables-on-an-ipython-notebook-markup-cell/43911937"
   ]
  },
  {
   "cell_type": "code",
   "execution_count": 4,
   "id": "a9147140",
   "metadata": {},
   "outputs": [
    {
     "ename": "NameError",
     "evalue": "name 'latex_return' is not defined",
     "output_type": "error",
     "traceback": [
      "\u001b[0;31m---------------------------------------------------------------------------\u001b[0m",
      "\u001b[0;31mNameError\u001b[0m                                 Traceback (most recent call last)",
      "\u001b[0;32m<ipython-input-4-607e9e22e9c3>\u001b[0m in \u001b[0;36m<module>\u001b[0;34m\u001b[0m\n\u001b[1;32m      1\u001b[0m \u001b[0;31m# see above import for the meaning behind this\u001b[0m\u001b[0;34m\u001b[0m\u001b[0;34m\u001b[0m\u001b[0;34m\u001b[0m\u001b[0m\n\u001b[1;32m      2\u001b[0m \u001b[0;34m\u001b[0m\u001b[0m\n\u001b[0;32m----> 3\u001b[0;31m \u001b[0mmd\u001b[0m\u001b[0;34m(\u001b[0m\u001b[0;34m\"$ %s $\"\u001b[0m\u001b[0;34m%\u001b[0m\u001b[0;34m(\u001b[0m\u001b[0mlatex_return\u001b[0m\u001b[0;34m)\u001b[0m\u001b[0;34m)\u001b[0m\u001b[0;34m\u001b[0m\u001b[0;34m\u001b[0m\u001b[0m\n\u001b[0m",
      "\u001b[0;31mNameError\u001b[0m: name 'latex_return' is not defined"
     ]
    }
   ],
   "source": [
    "# see above import for the meaning behind this\n",
    "\n",
    "md(\"$ %s $\"%(latex_return))"
   ]
  },
  {
   "cell_type": "markdown",
   "id": "97128c5c",
   "metadata": {},
   "source": [
    "## how well did it do?\n",
    "\n",
    "<img style=\"transform: rotate(-90deg); width:200px\" src=\"static math/integral_smpl_1.jpg\" />\n",
    "\n",
    "We successfully translated the one-line equation correctly."
   ]
  },
  {
   "cell_type": "markdown",
   "id": "905c7744",
   "metadata": {},
   "source": [
    "# Test Case 1\n",
    "\n",
    "Try submitting a block of hand-written equations.\n",
    "\n",
    "## Submit an API request"
   ]
  },
  {
   "cell_type": "code",
   "execution_count": 10,
   "id": "5a60ea94",
   "metadata": {},
   "outputs": [
    {
     "name": "stdout",
     "output_type": "stream",
     "text": [
      "{\n",
      "    \"auto_rotate_confidence\": 0.9968418261936909,\n",
      "    \"auto_rotate_degrees\": 90,\n",
      "    \"confidence\": 0.9912392695173367,\n",
      "    \"confidence_rate\": 0.9912392695173367,\n",
      "    \"is_handwritten\": true,\n",
      "    \"is_printed\": false,\n",
      "    \"latex_styled\": \"\\\\begin{array}{l}\\nx=5 \\\\tan \\\\theta \\\\\\\\\\nd x=5 \\\\sec ^{2} \\\\theta d \\\\theta \\\\\\\\\\n\\\\frac{5^{2}}{x^{2}+5^{2}}=\\\\cos ^{2} \\\\theta \\\\\\\\\\n\\\\frac{\\\\cos ^{2} \\\\theta}{5^{2}}=\\\\frac{1}{x^{2}+5^{2}}\\n\\\\end{array}\",\n",
      "    \"request_id\": \"c06dc207bf84186b9acda71511f17571\",\n",
      "    \"text\": \"\\\\( x=5 \\\\tan \\\\theta \\\\)\\n\\\\( d x=5 \\\\sec ^{2} \\\\theta d \\\\theta \\\\)\\n\\\\( \\\\frac{5^{2}}{x^{2}+5^{2}}=\\\\cos ^{2} \\\\theta \\\\)\\n\\\\( \\\\frac{\\\\cos ^{2} \\\\theta}{5^{2}}=\\\\frac{1}{x^{2}+5^{2}} \\\\)\"\n",
      "}\n"
     ]
    }
   ],
   "source": [
    "## HARD INQUIRY\n",
    "# put desired file path here\n",
    "file_path = 'static math/u_substitution_smpl_1.jpg'\n",
    "image_uri = \"data:image/jpg;base64,\" + base64.b64encode(open(file_path, \"rb\").read()).decode()\n",
    "\n",
    "r = requests.post(\"https://api.mathpix.com/v3/text\",\n",
    "    data=json.dumps({'src': image_uri}),\n",
    "    headers={\"app_id\": \"jaime_meriz13_gmail_com_0ae761_524ac2\", \n",
    "             \"app_key\": \"8c504ea5335669f6a2c567f97fab91b34e6fee47f2f8ed849535dd2c2402bf24\",\n",
    "             \"Content-type\": \"application/json\"})\n",
    "\n",
    "print(json.dumps(json.loads(r.text), indent=4, sort_keys=True))"
   ]
  },
  {
   "cell_type": "markdown",
   "id": "c97b06da",
   "metadata": {},
   "source": [
    "## produce the LaTeX"
   ]
  },
  {
   "cell_type": "code",
   "execution_count": 11,
   "id": "e21b7a33",
   "metadata": {},
   "outputs": [
    {
     "name": "stdout",
     "output_type": "stream",
     "text": [
      "\\begin{array}{l}\n",
      "x=5 \\tan \\theta \\\\\n",
      "d x=5 \\sec ^{2} \\theta d \\theta \\\\\n",
      "\\frac{5^{2}}{x^{2}+5^{2}}=\\cos ^{2} \\theta \\\\\n",
      "\\frac{\\cos ^{2} \\theta}{5^{2}}=\\frac{1}{x^{2}+5^{2}}\n",
      "\\end{array}\n"
     ]
    }
   ],
   "source": [
    "json_return = json.loads(r.text)\n",
    "latex_return = json_return.get(\"latex_styled\")\n",
    "\n",
    "print(latex_return)"
   ]
  },
  {
   "cell_type": "markdown",
   "id": "08f4391a",
   "metadata": {},
   "source": [
    "## print the LaTeX to the screen"
   ]
  },
  {
   "cell_type": "code",
   "execution_count": 2,
   "id": "cc1f0827",
   "metadata": {},
   "outputs": [
    {
     "ename": "NameError",
     "evalue": "name 'md' is not defined",
     "output_type": "error",
     "traceback": [
      "\u001b[0;31m---------------------------------------------------------------------------\u001b[0m",
      "\u001b[0;31mNameError\u001b[0m                                 Traceback (most recent call last)",
      "\u001b[0;32m<ipython-input-2-960b6398de7d>\u001b[0m in \u001b[0;36m<module>\u001b[0;34m\u001b[0m\n\u001b[0;32m----> 1\u001b[0;31m \u001b[0mmd\u001b[0m\u001b[0;34m(\u001b[0m\u001b[0;34m\"$ %s $\"\u001b[0m\u001b[0;34m%\u001b[0m\u001b[0;34m(\u001b[0m\u001b[0mlatex_return\u001b[0m\u001b[0;34m)\u001b[0m\u001b[0;34m)\u001b[0m\u001b[0;34m\u001b[0m\u001b[0;34m\u001b[0m\u001b[0m\n\u001b[0m",
      "\u001b[0;31mNameError\u001b[0m: name 'md' is not defined"
     ]
    }
   ],
   "source": [
    "md(\"$ %s $\"%(latex_return))"
   ]
  },
  {
   "cell_type": "markdown",
   "id": "00f37d0f",
   "metadata": {},
   "source": [
    "'latex_return'"
   ]
  },
  {
   "cell_type": "markdown",
   "id": "8059fcb3",
   "metadata": {},
   "source": [
    "## how well did we do?\n",
    "\n",
    "The image below was converted perfectly.\n",
    "\n",
    "<img style=\"transform: rotate(-90deg); width:250px\" src=\"static math/u_substitution_smpl_1.jpg\" />"
   ]
  },
  {
   "cell_type": "code",
   "execution_count": null,
   "id": "c64a86e7",
   "metadata": {},
   "outputs": [],
   "source": []
  }
 ],
 "metadata": {
  "kernelspec": {
   "display_name": "Python 3",
   "language": "python",
   "name": "python3"
  },
  "language_info": {
   "codemirror_mode": {
    "name": "ipython",
    "version": 3
   },
   "file_extension": ".py",
   "mimetype": "text/x-python",
   "name": "python",
   "nbconvert_exporter": "python",
   "pygments_lexer": "ipython3",
   "version": "3.9.4"
  }
 },
 "nbformat": 4,
 "nbformat_minor": 5
}
