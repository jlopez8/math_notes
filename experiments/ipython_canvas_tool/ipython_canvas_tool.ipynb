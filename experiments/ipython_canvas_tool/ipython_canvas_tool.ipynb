{
 "cells": [
  {
   "cell_type": "markdown",
   "id": "c5790738-3378-4afc-a86b-bc916cb370c6",
   "metadata": {},
   "source": [
    "# Ipython Canvas Experiment"
   ]
  },
  {
   "cell_type": "markdown",
   "id": "62172087-df75-44c0-b638-308566ffade6",
   "metadata": {},
   "source": [
    "Break away from using tkinter canvas and see if the same functionality can be created using only Ipython widgets."
   ]
  },
  {
   "cell_type": "markdown",
   "id": "ff5af5a5-6b0b-4680-bd4e-1f6784de89ae",
   "metadata": {},
   "source": [
    "## Research"
   ]
  },
  {
   "cell_type": "markdown",
   "id": "863bd061-2841-4230-a6a1-04d12dd7f77d",
   "metadata": {},
   "source": [
    "### ipycanvas\n",
    "https://github.com/martinRenou/ipycanvas\n",
    "This tool came up earlier in research phase. Unused because the canvas drawing style was discontinuous and dot-like, making it look less like smooth handwriting.\n",
    "\n",
    "### list of widgets\n",
    "https://ipywidgets.readthedocs.io/en/latest/examples/Widget%20List.html\n",
    "\n",
    "### alternatives to tkinter canvas\n",
    "https://wiki.tcl-lang.org/page/Alternative+Canvases\n"
   ]
  },
  {
   "cell_type": "markdown",
   "id": "a4680f82-1d39-4893-b88d-6a7135d08dcc",
   "metadata": {},
   "source": [
    "# Ipycanvas (Revisitied)"
   ]
  },
  {
   "cell_type": "markdown",
   "id": "f90087ef-e6c5-4be2-96f9-4a55e1723c07",
   "metadata": {},
   "source": [
    "Originally found in **experiments/Testing ipycanvas**. We can recreate the canvas code here and see if there are changes we can adapt to make it as deployable as the tkinter prototype."
   ]
  },
  {
   "cell_type": "markdown",
   "id": "a094d299-ec20-4e69-bc5f-f20d42c9ee4a",
   "metadata": {},
   "source": [
    "**How does this compare to the tkinter code?**\n",
    "\n",
    "- **tkinter:** \n",
    "    - fast\n",
    "    - is not embedded: b/c it uses its own way of poppinp up a window\n",
    "    - binds command to button \n",
    "    - instantiates tkinter canvas\n",
    "\n",
    "- **ipycanvas:** \n",
    "    - slow af\n",
    "        - this is just so slow. I can't imagine there a nice way to speed up the performance that's going to be doable soon enough\n",
    "    - is embedded\n",
    "    - roughcanvas \n",
    "    - uses roughcanvas.RoughCanvas \n",
    "    - not sure if it can support other functionality as tkinter's canvas such as button saving "
   ]
  },
  {
   "cell_type": "code",
   "execution_count": 67,
   "id": "021b3fb7-6f74-424b-a031-243535271381",
   "metadata": {},
   "outputs": [],
   "source": [
    "import ipywidgets as widgets\n",
    "from ipywidgets import Image\n",
    "from ipywidgets import ColorPicker, IntSlider, link, AppLayout, HBox, VBox\n",
    "\n",
    "import PIL\n",
    "from PIL import Image, ImageDraw\n",
    "\n",
    "from ipycanvas import RoughCanvas, hold_canvas"
   ]
  },
  {
   "cell_type": "code",
   "execution_count": 71,
   "id": "71a39454-6be6-4134-a65a-7656f0d55451",
   "metadata": {},
   "outputs": [
    {
     "data": {
      "application/vnd.jupyter.widget-view+json": {
       "model_id": "ab294962c9d3468a9d543dd306250b02",
       "version_major": 2,
       "version_minor": 0
      },
      "text/plain": [
       "Button(description='Save Canvas', style=ButtonStyle())"
      ]
     },
     "metadata": {},
     "output_type": "display_data"
    },
    {
     "data": {
      "application/vnd.jupyter.widget-view+json": {
       "model_id": "120e05e3d06341b6873d5ec763ee56a7",
       "version_major": 2,
       "version_minor": 0
      },
      "text/plain": [
       "VBox(children=(RoughCanvas(height=200, width=600),))"
      ]
     },
     "metadata": {},
     "output_type": "display_data"
    }
   ],
   "source": [
    "def btn_save_eventhandler(self):\n",
    "    filename = \"tempfile.png\"\n",
    "    canvas_image.save(filename)\n",
    "\n",
    "def on_mouse_down(x, y):\n",
    "    global drawing\n",
    "    global position\n",
    "    global shape\n",
    "\n",
    "    drawing = True\n",
    "    position = (x, y)\n",
    "    shape = [position]\n",
    "    \n",
    "def on_mouse_move(x, y):\n",
    "    global drawing\n",
    "    global position\n",
    "    global shape\n",
    "\n",
    "    x_0 = position[0]\n",
    "    y_0 = position[1]\n",
    "        \n",
    "    if not drawing:\n",
    "        return\n",
    "\n",
    "    with hold_canvas(canvas):\n",
    "        canvas.stroke_line(x_0, y_0, x, y)\n",
    "        position = (x, y)\n",
    "    shape.append(position)\n",
    "\n",
    "def on_mouse_up(x, y, canvas_fill=False):\n",
    "    global drawing\n",
    "    global position\n",
    "    global shape\n",
    "    \n",
    "    x_0 = position[0]\n",
    "    y_0 = position[1]\n",
    "    \n",
    "    drawing = False\n",
    "    \n",
    "    with hold_canvas(canvas):\n",
    "        canvas.stroke_line(x_0-1, y_0-1, x+1, y+1)\n",
    "        \n",
    "# <<<<< this command is to draw out a connected shape\n",
    "    for i in range(len(shape)):\n",
    "        x_0 = shape[i][0]\n",
    "        y_0 = shape[i][1]\n",
    "        x_1 = shape[i+1][0]\n",
    "        y_1 = shape[i+1][1]\n",
    "        draw.line([x_0, y_0, x_1, y_1],fill=\"black\",width=2)\n",
    "# >>>>>\n",
    "        \n",
    "    \n",
    "drawing = False\n",
    "position = None\n",
    "shape = []\n",
    "width = 600\n",
    "height = 200\n",
    "\n",
    "# Instantiate ipycanvas RoughCanvas and use \n",
    "# PIL to create an empty image and draw object to draw on\n",
    "# memory only, not visible to the user.\n",
    "canvas = RoughCanvas(width=width, height=height)\n",
    "canvas_image = PIL.Image.new(\"L\", (width, height), color=\"white\")\n",
    "draw = ImageDraw.Draw(canvas_image)\n",
    "\n",
    "canvas.on_mouse_down(on_mouse_down)\n",
    "canvas.on_mouse_move(on_mouse_move)\n",
    "canvas.on_mouse_up(on_mouse_up)\n",
    "canvas.stroke_style = \"#749cb8\"\n",
    "canvas.line_width = 1.5\n",
    "\n",
    "# <<<< this button is to save the background canvas\n",
    "btn_save = widgets.Button(description=\"Save Canvas\")\n",
    "display(btn_save)\n",
    "\n",
    "btn_save.on_click(btn_save_eventhandler)\n",
    "# >>>>\n",
    "\n",
    "link((picker, \"value\"), (canvas, \"stroke_style\"))\n",
    "link((picker, \"value\"), (canvas, \"fill_style\"))\n",
    "\n",
    "\n",
    "VBox((canvas, ))\n",
    "\n"
   ]
  },
  {
   "cell_type": "markdown",
   "id": "2ad662aa-ce68-4e0e-90ad-5d8ba13b2431",
   "metadata": {},
   "source": [
    "### Post production work"
   ]
  },
  {
   "cell_type": "code",
   "execution_count": 65,
   "id": "75c3cf8d-4756-4c6a-8e8f-d44be82d01da",
   "metadata": {},
   "outputs": [
    {
     "name": "stdout",
     "output_type": "stream",
     "text": [
      "shape [(35.3653198940474, 88.90328494082881), (34.500642016990625, 88.90328494082881), ('YAH', 'YAY'), (35.3653198940474, 88.90328494082881), ('YAH', 'YAY'), (37.094675648160965, 88.90328494082881), ('YAH', 'YAY'), (40.55338715638809, 88.90328494082881), ('YAH', 'YAY'), (45.74145441872878, 88.90328494082881), ('YAH', 'YAY'), (60.44097832869405, 88.03860704475787), ('YAH', 'YAY'), (65.62904559103474, 87.17392914868691), ('YAH', 'YAY'), (70.81711285337542, 87.17392914868691), ('YAH', 'YAY'), (73.41114648454577, 86.30925125261595), ('YAH', 'YAY'), (76.86985799277289, 85.44457335654499), ('YAH', 'YAY'), (79.46389162394323, 85.44457335654499), ('YAH', 'YAY'), (82.92260313217035, 84.57989546047403), ('YAH', 'YAY'), (85.5166367633407, 84.57989546047403), ('YAH', 'YAY'), (88.11067039451105, 84.57989546047403), ('YAH', 'YAY'), (91.56938190273816, 84.57989546047403), ('YAH', 'YAY'), (93.29873765685173, 84.57989546047403), ('YAH', 'YAY'), (94.1634155339085, 84.57989546047403), ('YAH', 'YAY'), (97.62212704213563, 84.57989546047403), ('YAH', 'YAY'), (98.48680491919241, 84.57989546047403), ('YAH', 'YAY'), (100.21616067330598, 84.57989546047403), ('YAH', 'YAY'), (101.08083855036276, 84.57989546047403), ('YAH', 'YAY'), (101.94551642741953, 84.57989546047403), ('YAH', 'YAY'), (101.94551642741953, 84.57989546047403), ('YAH', 'YAY')]\n"
     ]
    }
   ],
   "source": [
    "print(\"shape\", shape)"
   ]
  },
  {
   "cell_type": "code",
   "execution_count": null,
   "id": "30b66bff-b4b6-47af-bf77-b511eee98111",
   "metadata": {},
   "outputs": [],
   "source": []
  }
 ],
 "metadata": {
  "kernelspec": {
   "display_name": "Python 3",
   "language": "python",
   "name": "python3"
  },
  "language_info": {
   "codemirror_mode": {
    "name": "ipython",
    "version": 3
   },
   "file_extension": ".py",
   "mimetype": "text/x-python",
   "name": "python",
   "nbconvert_exporter": "python",
   "pygments_lexer": "ipython3",
   "version": "3.9.4"
  }
 },
 "nbformat": 4,
 "nbformat_minor": 5
}
