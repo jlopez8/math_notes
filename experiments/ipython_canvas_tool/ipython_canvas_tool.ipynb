{
 "cells": [
  {
   "cell_type": "markdown",
   "id": "c5790738-3378-4afc-a86b-bc916cb370c6",
   "metadata": {},
   "source": [
    "# Ipython Canvas Experiment"
   ]
  },
  {
   "cell_type": "markdown",
   "id": "62172087-df75-44c0-b638-308566ffade6",
   "metadata": {},
   "source": [
    "Break away from using tkinter canvas and see if the same functionality can be created using only Ipython widgets."
   ]
  },
  {
   "cell_type": "markdown",
   "id": "ff5af5a5-6b0b-4680-bd4e-1f6784de89ae",
   "metadata": {},
   "source": [
    "## Research"
   ]
  },
  {
   "cell_type": "markdown",
   "id": "863bd061-2841-4230-a6a1-04d12dd7f77d",
   "metadata": {},
   "source": [
    "### ipycanvas\n",
    "https://github.com/martinRenou/ipycanvas\n",
    "This tool came up earlier in research phase. Unused because the canvas drawing style was discontinuous and dot-like, making it look less like smooth handwriting.\n",
    "\n",
    "### list of widgets\n",
    "https://ipywidgets.readthedocs.io/en/latest/examples/Widget%20List.html\n",
    "\n",
    "### alternatives to tkinter canvas\n",
    "https://wiki.tcl-lang.org/page/Alternative+Canvases\n"
   ]
  },
  {
   "cell_type": "markdown",
   "id": "a4680f82-1d39-4893-b88d-6a7135d08dcc",
   "metadata": {},
   "source": [
    "# Ipycanvas (Revisitied)"
   ]
  },
  {
   "cell_type": "markdown",
   "id": "f90087ef-e6c5-4be2-96f9-4a55e1723c07",
   "metadata": {},
   "source": [
    "Originally found in **experiments/Testing ipycanvas**. We can recreate the canvas code here and see if there are changes we can adapt to make it as deployable as the tkinter prototype."
   ]
  },
  {
   "cell_type": "markdown",
   "id": "a094d299-ec20-4e69-bc5f-f20d42c9ee4a",
   "metadata": {},
   "source": [
    "**How does this compare to the tkinter code?**\n",
    "\n",
    "- **tkinter:** \n",
    "    - fast\n",
    "    - is not embedded: b/c it uses its own way of poppinp up a window\n",
    "    - binds command to button \n",
    "    - instantiates tkinter canvas\n",
    "\n",
    "- **ipycanvas:** \n",
    "    - slow\n",
    "        - tends to be marginally slower than the tkinter canvas\n",
    "    - is embedded\n",
    "    - roughcanvas \n",
    "    - uses roughcanvas.RoughCanvas \n",
    "    - not sure if it can support other functionality as tkinter's canvas such as button saving "
   ]
  },
  {
   "cell_type": "markdown",
   "id": "e961e567-086f-4f65-af75-08bf14be4522",
   "metadata": {},
   "source": [
    "**Development**\n",
    "\n",
    "This tool is working out okay, despite any cons. It is capable of embedding a can as immediately in a cell.  \n",
    "Functionality is being added to send this canvas for prediction using previously built code."
   ]
  },
  {
   "cell_type": "code",
   "execution_count": 29,
   "id": "021b3fb7-6f74-424b-a031-243535271381",
   "metadata": {},
   "outputs": [],
   "source": [
    "import os\n",
    "import base64\n",
    "\n",
    "import ipywidgets as widgets\n",
    "from ipywidgets import Image\n",
    "from ipywidgets import ColorPicker, IntSlider, link, AppLayout, HBox, VBox\n",
    "\n",
    "from ipycanvas import RoughCanvas, hold_canvas\n",
    "\n",
    "import PIL\n",
    "from PIL import Image, ImageDraw\n",
    "\n",
    "import requests\n",
    "import json\n",
    "\n",
    "import configs.configs as cfg"
   ]
  },
  {
   "cell_type": "code",
   "execution_count": 30,
   "id": "1bc921c2-dbf1-422a-9537-58c2b7270044",
   "metadata": {},
   "outputs": [],
   "source": [
    "# Mathpix API key details.\n",
    "app_id = cfg.math_pix_key[\"app_id\"]  \n",
    "app_key = cfg.math_pix_key[\"app_key\"]"
   ]
  },
  {
   "cell_type": "code",
   "execution_count": 31,
   "id": "599a453c-b1bf-466a-9ceb-6743bde565a7",
   "metadata": {},
   "outputs": [],
   "source": [
    "def ocr_request(filename):\n",
    "    \"\"\"Sends an API request to MathPix API to be handled by the OCR .\n",
    "    \n",
    "    :param filename: Filename of the image to be sent to the MathPix API for a LaTeX prediction.\n",
    "    :type filename: str\n",
    " \n",
    "    :return: Latex-formatted string.\n",
    "    :rtype: str\n",
    "    \"\"\"\n",
    "    \n",
    "    dict_request={\n",
    "            \"src\": \"data:image/png\",\n",
    "            \"formats\": [\"text\", \"data\", \"html\"],\n",
    "            \"data_options\": {\n",
    "            \"include_asciimath\": True,\n",
    "            \"include_latex\": True\n",
    "            }\n",
    "        }\n",
    "\n",
    "    # Put desired filename from earlier.\n",
    "    image_uri = \"data:image/png;base64,\" + base64.b64encode(open(filename, \"rb\").read()).decode()\n",
    "\n",
    "    # Send the request.\n",
    "    r = requests.post(\"https://api.mathpix.com/v3/text\",\n",
    "                      data=json.dumps({'src': image_uri}),\n",
    "                      headers={\"app_id\": app_id, \n",
    "                               \"app_key\": app_key,\n",
    "                               \"Content-type\": \"application/json\"})\n",
    "    \n",
    "    json_return = json.loads(r.text)\n",
    "    latex_return = json_return.get(\"latex_styled\")\n",
    "    \n",
    "    return latex_return"
   ]
  },
  {
   "cell_type": "code",
   "execution_count": 39,
   "id": "71a39454-6be6-4134-a65a-7656f0d55451",
   "metadata": {},
   "outputs": [
    {
     "data": {
      "application/vnd.jupyter.widget-view+json": {
       "model_id": "7bc7ed9b8dbd40168e6ad86ed4ec28d0",
       "version_major": 2,
       "version_minor": 0
      },
      "text/plain": [
       "Button(description='Browse Files', style=ButtonStyle())"
      ]
     },
     "metadata": {},
     "output_type": "display_data"
    },
    {
     "data": {
      "application/vnd.jupyter.widget-view+json": {
       "model_id": "685ec983e3d849ff96a99e3e2740625f",
       "version_major": 2,
       "version_minor": 0
      },
      "text/plain": [
       "Button(description='Save Canvas', style=ButtonStyle())"
      ]
     },
     "metadata": {},
     "output_type": "display_data"
    },
    {
     "data": {
      "application/vnd.jupyter.widget-view+json": {
       "model_id": "9ddb5b1e54cb45c2a91c0bc8f0578d3d",
       "version_major": 2,
       "version_minor": 0
      },
      "text/plain": [
       "Button(description='Predict LaTeX!', style=ButtonStyle())"
      ]
     },
     "metadata": {},
     "output_type": "display_data"
    },
    {
     "data": {
      "application/vnd.jupyter.widget-view+json": {
       "model_id": "db6b1f68eaf7464f8ef098fc7fe8fc61",
       "version_major": 2,
       "version_minor": 0
      },
      "text/plain": [
       "VBox(children=(RoughCanvas(height=400, width=600),))"
      ]
     },
     "metadata": {},
     "output_type": "display_data"
    }
   ],
   "source": [
    "def btn_save_eventhandler(self):\n",
    "    filename = \"tempfile.jpg\"\n",
    "    canvas_image.save(filename)\n",
    "\n",
    "def btn_explore_eventhandler(self):\n",
    "    print(\"explore - - !\")\n",
    "    init_browse_dir = os.getcwd()\n",
    "    \n",
    "    filename[\"name\"] = filedialog.askopenfilename(\n",
    "        initialdir = init_browse_dir, title = \"Select a File\",\n",
    "        filetypes = ((\"png files\",\".png\"), (\"jpg files\",\".jpg\"), (\"all files\",\"*.*\")))\n",
    "    \n",
    "def btn_pred_eventhandler(self, filename=\"tempfile.jpg\"):\n",
    "    latex_return = ocr_request(filename)\n",
    "    latex_pred.append(latex_return\n",
    "                     )\n",
    "    print(\"latex_return: \")\n",
    "    print(latex_return)\n",
    "    \n",
    "def on_mouse_down(x, y):\n",
    "    global drawing\n",
    "    global position\n",
    "    global shape\n",
    "\n",
    "    drawing = True\n",
    "    position = (x, y)\n",
    "    shape = [position]\n",
    "    \n",
    "def on_mouse_move(x, y):\n",
    "    global drawing\n",
    "    global position\n",
    "    global shape\n",
    "\n",
    "    x_0 = position[0]\n",
    "    y_0 = position[1]\n",
    "        \n",
    "    if not drawing:\n",
    "        return\n",
    "\n",
    "    with hold_canvas(canvas):\n",
    "        canvas.stroke_line(x_0, y_0, x, y)\n",
    "        position = (x, y)\n",
    "    shape.append(position)\n",
    "\n",
    "def on_mouse_up(x, y, canvas_fill=False):\n",
    "    global drawing\n",
    "    global position\n",
    "    global shape\n",
    "    \n",
    "    x_0 = position[0]\n",
    "    y_0 = position[1]\n",
    "    \n",
    "    drawing = False\n",
    "    \n",
    "    with hold_canvas(canvas):\n",
    "        canvas.stroke_line(x_0-1, y_0-1, x+1, y+1)\n",
    "        \n",
    "    for i in range(len(shape)):\n",
    "        x_0 = shape[i][0]\n",
    "        y_0 = shape[i][1]\n",
    "        x_1 = shape[i+1][0]\n",
    "        y_1 = shape[i+1][1]\n",
    "        draw.line([x_0, y_0, x_1, y_1],fill=\"black\",width=2)        \n",
    "    \n",
    "drawing = False\n",
    "position = None\n",
    "shape = []\n",
    "width = 600\n",
    "height = 400\n",
    "\n",
    "latex_pred = []\n",
    "\n",
    "# Instantiate ipycanvas RoughCanvas and use \n",
    "# PIL to create an empty image and draw object to draw on\n",
    "# memory only, not visible to the user.\n",
    "canvas = RoughCanvas(width=width, height=height)\n",
    "canvas_image = PIL.Image.new(\"L\", (width, height), color=\"white\")\n",
    "draw = ImageDraw.Draw(canvas_image)\n",
    "\n",
    "# Canvas Actions.\n",
    "canvas.on_mouse_down(on_mouse_down)\n",
    "canvas.on_mouse_move(on_mouse_move)\n",
    "canvas.on_mouse_up(on_mouse_up)\n",
    "canvas.stroke_style = \"black\"\n",
    "canvas.line_width = 1.5\n",
    "\n",
    "# Buttons.\n",
    "btn_explore = widgets.Button(description=\"Browse Files\")\n",
    "btn_save = widgets.Button(description=\"Save Canvas\")\n",
    "btn_pred = widgets.Button(description=\"Predict LaTeX!\")\n",
    "\n",
    "btn_save.on_click(btn_save_eventhandler)\n",
    "btn_pred.on_click(btn_pred_eventhandler)\n",
    "btn_explore.on_click(btn_explore_eventhandler)\n",
    "\n",
    "display(btn_explore)\n",
    "display(btn_save)\n",
    "display(btn_pred)\n",
    "\n",
    "\n",
    "VBox((canvas, ))"
   ]
  },
  {
   "cell_type": "markdown",
   "id": "2ad662aa-ce68-4e0e-90ad-5d8ba13b2431",
   "metadata": {},
   "source": [
    "### Post production work"
   ]
  },
  {
   "cell_type": "code",
   "execution_count": null,
   "id": "75c3cf8d-4756-4c6a-8e8f-d44be82d01da",
   "metadata": {},
   "outputs": [],
   "source": []
  },
  {
   "cell_type": "code",
   "execution_count": null,
   "id": "30b66bff-b4b6-47af-bf77-b511eee98111",
   "metadata": {},
   "outputs": [],
   "source": []
  }
 ],
 "metadata": {
  "kernelspec": {
   "display_name": "Python 3",
   "language": "python",
   "name": "python3"
  },
  "language_info": {
   "codemirror_mode": {
    "name": "ipython",
    "version": 3
   },
   "file_extension": ".py",
   "mimetype": "text/x-python",
   "name": "python",
   "nbconvert_exporter": "python",
   "pygments_lexer": "ipython3",
   "version": "3.9.4"
  }
 },
 "nbformat": 4,
 "nbformat_minor": 5
}
