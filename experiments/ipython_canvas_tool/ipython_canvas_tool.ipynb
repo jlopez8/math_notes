{
 "cells": [
  {
   "cell_type": "markdown",
   "id": "48eee973",
   "metadata": {},
   "source": [
    "# Ipython Canvas Tool Embedding Experiment"
   ]
  },
  {
   "cell_type": "markdown",
   "id": "6ccdf71f",
   "metadata": {},
   "source": [
    "Break away from using tkinter canvas and see if the same functionality can be created using only Ipython widgets."
   ]
  },
  {
   "cell_type": "markdown",
   "id": "38fd98f7",
   "metadata": {},
   "source": [
    "## Research"
   ]
  },
  {
   "cell_type": "markdown",
   "id": "cd784ed7",
   "metadata": {},
   "source": [
    "### ipycanvas\n",
    "https://github.com/martinRenou/ipycanvas\n",
    "This tool came up earlier in research phase. Unused because the canvas drawing style was discontinuous and dot-like, making it look less like smooth handwriting.\n",
    "\n",
    "### list of widgets\n",
    "https://ipywidgets.readthedocs.io/en/latest/examples/Widget%20List.html\n",
    "\n",
    "### alternatives to tkinter canvas\n",
    "https://wiki.tcl-lang.org/page/Alternative+Canvases\n"
   ]
  },
  {
   "cell_type": "markdown",
   "id": "b02233cf",
   "metadata": {},
   "source": [
    "# Ipycanvas (Revisitied)"
   ]
  },
  {
   "cell_type": "markdown",
   "id": "efc719a4",
   "metadata": {},
   "source": [
    "Originally found in **experiments/Testing ipycanvas**. We can recreate the canvas code here and see if there are changes we can adapt to make it as deployable as the tkinter prototype."
   ]
  },
  {
   "cell_type": "markdown",
   "id": "d158b422",
   "metadata": {},
   "source": [
    "**How does this compare to the tkinter code?**\n",
    "\n",
    "- **tkinter:** \n",
    "    - fast\n",
    "    - is not embedded: b/c it uses its own way of poppinp up a window\n",
    "    - binds command to button \n",
    "    - instantiates tkinter canvas   \n",
    "\n",
    "- **ipycanvas:**\n",
    "    - slow\n",
    "        - tends to be marginally slower than the tkinter canvas\n",
    "    - is embedded\n",
    "    - roughcanvas \n",
    "    - uses roughcanvas.RoughCanvas \n",
    "    - not sure if it can support other functionality as tkinter's canvas such as button saving "
   ]
  },
  {
   "cell_type": "markdown",
   "id": "52d75392",
   "metadata": {},
   "source": [
    "**Development**\n",
    "\n",
    "This tool is working out okay, despite any cons. It is capable of embedding a can as immediately in a cell.  \n",
    "Functionality is being added to send this canvas for prediction using previously built code."
   ]
  },
  {
   "cell_type": "code",
   "execution_count": 1,
   "id": "5d9eb72e",
   "metadata": {},
   "outputs": [],
   "source": [
    "import os\n",
    "import base64\n",
    "from pathlib import Path\n",
    "\n",
    "import ipywidgets as widgets\n",
    "from ipywidgets import Layout, Button, Box\n",
    "from ipywidgets import Image\n",
    "from ipywidgets import ColorPicker, IntSlider, link, AppLayout, HBox, VBox\n",
    "\n",
    "from ipycanvas import RoughCanvas, hold_canvas\n",
    "from ipyfilechooser import FileChooser\n",
    "\n",
    "import PIL\n",
    "from PIL import Image, ImageDraw\n",
    "\n",
    "from IPython.display import Markdown as md\n",
    "\n",
    "import requests\n",
    "import json\n",
    "\n",
    "import configs as cfg"
   ]
  },
  {
   "cell_type": "code",
   "execution_count": 2,
   "id": "a1d1143e-c470-4896-acf8-f15c964876bf",
   "metadata": {},
   "outputs": [
    {
     "data": {
      "text/plain": [
       "\u001b[0;31mSignature:\u001b[0m\n",
       "\u001b[0mdisplay\u001b[0m\u001b[0;34m(\u001b[0m\u001b[0;34m\u001b[0m\n",
       "\u001b[0;34m\u001b[0m    \u001b[0;34m*\u001b[0m\u001b[0mobjs\u001b[0m\u001b[0;34m,\u001b[0m\u001b[0;34m\u001b[0m\n",
       "\u001b[0;34m\u001b[0m    \u001b[0minclude\u001b[0m\u001b[0;34m=\u001b[0m\u001b[0;32mNone\u001b[0m\u001b[0;34m,\u001b[0m\u001b[0;34m\u001b[0m\n",
       "\u001b[0;34m\u001b[0m    \u001b[0mexclude\u001b[0m\u001b[0;34m=\u001b[0m\u001b[0;32mNone\u001b[0m\u001b[0;34m,\u001b[0m\u001b[0;34m\u001b[0m\n",
       "\u001b[0;34m\u001b[0m    \u001b[0mmetadata\u001b[0m\u001b[0;34m=\u001b[0m\u001b[0;32mNone\u001b[0m\u001b[0;34m,\u001b[0m\u001b[0;34m\u001b[0m\n",
       "\u001b[0;34m\u001b[0m    \u001b[0mtransient\u001b[0m\u001b[0;34m=\u001b[0m\u001b[0;32mNone\u001b[0m\u001b[0;34m,\u001b[0m\u001b[0;34m\u001b[0m\n",
       "\u001b[0;34m\u001b[0m    \u001b[0mdisplay_id\u001b[0m\u001b[0;34m=\u001b[0m\u001b[0;32mNone\u001b[0m\u001b[0;34m,\u001b[0m\u001b[0;34m\u001b[0m\n",
       "\u001b[0;34m\u001b[0m    \u001b[0;34m**\u001b[0m\u001b[0mkwargs\u001b[0m\u001b[0;34m,\u001b[0m\u001b[0;34m\u001b[0m\n",
       "\u001b[0;34m\u001b[0m\u001b[0;34m)\u001b[0m\u001b[0;34m\u001b[0m\u001b[0;34m\u001b[0m\u001b[0m\n",
       "\u001b[0;31mDocstring:\u001b[0m\n",
       "Display a Python object in all frontends.\n",
       "\n",
       "By default all representations will be computed and sent to the frontends.\n",
       "Frontends can decide which representation is used and how.\n",
       "\n",
       "In terminal IPython this will be similar to using :func:`print`, for use in richer\n",
       "frontends see Jupyter notebook examples with rich display logic.\n",
       "\n",
       "Parameters\n",
       "----------\n",
       "objs : tuple of objects\n",
       "    The Python objects to display.\n",
       "raw : bool, optional\n",
       "    Are the objects to be displayed already mimetype-keyed dicts of raw display data,\n",
       "    or Python objects that need to be formatted before display? [default: False]\n",
       "include : list, tuple or set, optional\n",
       "    A list of format type strings (MIME types) to include in the\n",
       "    format data dict. If this is set *only* the format types included\n",
       "    in this list will be computed.\n",
       "exclude : list, tuple or set, optional\n",
       "    A list of format type strings (MIME types) to exclude in the format\n",
       "    data dict. If this is set all format types will be computed,\n",
       "    except for those included in this argument.\n",
       "metadata : dict, optional\n",
       "    A dictionary of metadata to associate with the output.\n",
       "    mime-type keys in this dictionary will be associated with the individual\n",
       "    representation formats, if they exist.\n",
       "transient : dict, optional\n",
       "    A dictionary of transient data to associate with the output.\n",
       "    Data in this dict should not be persisted to files (e.g. notebooks).\n",
       "display_id : str, bool optional\n",
       "    Set an id for the display.\n",
       "    This id can be used for updating this display area later via update_display.\n",
       "    If given as `True`, generate a new `display_id`\n",
       "clear : bool, optional\n",
       "    Should the output area be cleared before displaying anything? If True,\n",
       "    this will wait for additional output before clearing. [default: False]\n",
       "kwargs: additional keyword-args, optional\n",
       "    Additional keyword-arguments are passed through to the display publisher.\n",
       "\n",
       "Returns\n",
       "-------\n",
       "\n",
       "handle: DisplayHandle\n",
       "    Returns a handle on updatable displays for use with :func:`update_display`,\n",
       "    if `display_id` is given. Returns :any:`None` if no `display_id` is given\n",
       "    (default).\n",
       "\n",
       "Examples\n",
       "--------\n",
       "\n",
       ">>> class Json(object):\n",
       "...     def __init__(self, json):\n",
       "...         self.json = json\n",
       "...     def _repr_pretty_(self, pp, cycle):\n",
       "...         import json\n",
       "...         pp.text(json.dumps(self.json, indent=2))\n",
       "...     def __repr__(self):\n",
       "...         return str(self.json)\n",
       "...\n",
       "\n",
       ">>> d = Json({1:2, 3: {4:5}})\n",
       "\n",
       ">>> print(d)\n",
       "{1: 2, 3: {4: 5}}\n",
       "\n",
       ">>> display(d)\n",
       "{\n",
       "  \"1\": 2,\n",
       "  \"3\": {\n",
       "    \"4\": 5\n",
       "  }\n",
       "}\n",
       "\n",
       ">>> def int_formatter(integer, pp, cycle):\n",
       "...     pp.text('I'*integer)\n",
       "\n",
       ">>> plain = get_ipython().display_formatter.formatters['text/plain']\n",
       ">>> plain.for_type(int, int_formatter)\n",
       "<function _repr_pprint at 0x...>\n",
       ">>> display(7-5)\n",
       "II\n",
       "\n",
       ">>> del plain.type_printers[int]\n",
       ">>> display(7-5)\n",
       "2\n",
       "\n",
       "See Also\n",
       "--------\n",
       "\n",
       ":func:`update_display`\n",
       "\n",
       "Notes\n",
       "-----\n",
       "\n",
       "In Python, objects can declare their textual representation using the\n",
       "`__repr__` method. IPython expands on this idea and allows objects to declare\n",
       "other, rich representations including:\n",
       "\n",
       "  - HTML\n",
       "  - JSON\n",
       "  - PNG\n",
       "  - JPEG\n",
       "  - SVG\n",
       "  - LaTeX\n",
       "\n",
       "A single object can declare some or all of these representations; all are\n",
       "handled by IPython's display system.\n",
       "\n",
       "The main idea of the first approach is that you have to implement special\n",
       "display methods when you define your class, one for each representation you\n",
       "want to use. Here is a list of the names of the special methods and the\n",
       "values they must return:\n",
       "\n",
       "  - `_repr_html_`: return raw HTML as a string, or a tuple (see below).\n",
       "  - `_repr_json_`: return a JSONable dict, or a tuple (see below).\n",
       "  - `_repr_jpeg_`: return raw JPEG data, or a tuple (see below).\n",
       "  - `_repr_png_`: return raw PNG data, or a tuple (see below).\n",
       "  - `_repr_svg_`: return raw SVG data as a string, or a tuple (see below).\n",
       "  - `_repr_latex_`: return LaTeX commands in a string surrounded by \"$\",\n",
       "                    or a tuple (see below).\n",
       "  - `_repr_mimebundle_`: return a full mimebundle containing the mapping\n",
       "                         from all mimetypes to data.\n",
       "                         Use this for any mime-type not listed above.\n",
       "\n",
       "The above functions may also return the object's metadata alonside the\n",
       "data.  If the metadata is available, the functions will return a tuple\n",
       "containing the data and metadata, in that order.  If there is no metadata\n",
       "available, then the functions will return the data only.\n",
       "\n",
       "When you are directly writing your own classes, you can adapt them for\n",
       "display in IPython by following the above approach. But in practice, you\n",
       "often need to work with existing classes that you can't easily modify.\n",
       "\n",
       "You can refer to the documentation on integrating with the display system in\n",
       "order to register custom formatters for already existing types\n",
       "(:ref:`integrating_rich_display`).\n",
       "\n",
       ".. versionadded:: 5.4 display available without import\n",
       ".. versionadded:: 6.1 display available without import\n",
       "\n",
       "Since IPython 5.4 and 6.1 :func:`display` is automatically made available to\n",
       "the user without import. If you are using display in a document that might\n",
       "be used in a pure python context or with older version of IPython, use the\n",
       "following import at the top of your file::\n",
       "\n",
       "    from IPython.display import display\n",
       "\u001b[0;31mFile:\u001b[0m      ~/opt/anaconda3/envs/project/lib/python3.9/site-packages/IPython/core/display.py\n",
       "\u001b[0;31mType:\u001b[0m      function\n"
      ]
     },
     "metadata": {},
     "output_type": "display_data"
    }
   ],
   "source": [
    "?display"
   ]
  },
  {
   "cell_type": "code",
   "execution_count": 3,
   "id": "7140c355",
   "metadata": {},
   "outputs": [],
   "source": [
    "# Mathpix API key details.\n",
    "app_id = cfg.math_pix_key[\"app_id\"]  \n",
    "app_key = cfg.math_pix_key[\"app_key\"]"
   ]
  },
  {
   "cell_type": "code",
   "execution_count": 4,
   "id": "d20bf74b",
   "metadata": {},
   "outputs": [],
   "source": [
    "def ocr_request(filename):\n",
    "    \"\"\"Sends an API request to MathPix API to be handled by the OCR .\n",
    "    \n",
    "    :param filename: Filename of the image to be sent to the MathPix API for a LaTeX prediction.\n",
    "    :type filename: str\n",
    " \n",
    "    :return: Latex-formatted string.\n",
    "    :rtype: str\n",
    "    \"\"\"\n",
    "    \n",
    "    dict_request={\n",
    "            \"src\": \"data:image/png\",\n",
    "            \"formats\": [\"text\", \"data\", \"html\"],\n",
    "            \"data_options\": {\n",
    "            \"include_asciimath\": True,\n",
    "            \"include_latex\": True\n",
    "            }\n",
    "        }\n",
    "\n",
    "    # Put desired filename from earlier.\n",
    "    image_uri = \"data:image/png;base64,\" + base64.b64encode(open(filename, \"rb\").read()).decode()\n",
    "\n",
    "    # Send the request.\n",
    "    r = requests.post(\"https://api.mathpix.com/v3/text\",\n",
    "                      data=json.dumps({'src': image_uri}),\n",
    "                      headers={\"app_id\": app_id, \n",
    "                               \"app_key\": app_key,\n",
    "                               \"Content-type\": \"application/json\"})\n",
    "    \n",
    "    json_return = json.loads(r.text)\n",
    "    latex_return = json_return.get(\"latex_styled\")\n",
    "    \n",
    "    return latex_return"
   ]
  },
  {
   "cell_type": "code",
   "execution_count": 5,
   "id": "0bfc7110-d0e6-4134-af28-4dadec778504",
   "metadata": {},
   "outputs": [],
   "source": [
    "def refresh_file_browse(change):\n",
    "    filename = fc.children[1].children[0].value + \"/\" + change.new\n",
    "    file = open(filename, \"rb\")\n",
    "    image = file.read()\n",
    "    img_preview.value = image\n",
    "\n",
    "def img_preview_handler(change):\n",
    "    print('this')\n",
    "#         prev_box.children[0].value = image\n",
    "#         print(\"refresh_file_browse\")\n",
    "#         img_preview.value = image\n",
    "\n",
    "def btn_save_eventhandler(self):\n",
    "    filename[\"name\"] = \"tempfile.jpg\"\n",
    "    canvas_image.save(filename[\"name\"])  \n",
    "    print(\"file saved as: \", filename[\"name\"])\n",
    "    \n",
    "def btn_pred_eventhandler(self):\n",
    "    filename[\"name\"] = \"tempfile.jpg\"\n",
    "    canvas_image.save(filename[\"name\"]) \n",
    "    \n",
    "    if fc.selected is not None:\n",
    "        latex_return = ocr_request(fc.selected)\n",
    "    else:\n",
    "        latex_return = ocr_request(filename[\"name\"])\n",
    "        \n",
    "    if latex_return is not None:\n",
    "        latex_pred[0] = latex_return\n",
    "        txt_preview.value =  latex_pred[0]\n",
    "        \n",
    "def on_mouse_down(x, y):\n",
    "    global drawing\n",
    "    global position\n",
    "    global shape\n",
    "\n",
    "    drawing = True\n",
    "    position = (x, y)\n",
    "    shape = [position]\n",
    "    \n",
    "def on_mouse_move(x, y):\n",
    "    global drawing\n",
    "    global position\n",
    "    global shape\n",
    "\n",
    "    x_0 = position[0]\n",
    "    y_0 = position[1]\n",
    "\n",
    "    if not drawing:\n",
    "        return\n",
    "\n",
    "    with hold_canvas(canvas):\n",
    "        canvas.stroke_line(x_0, y_0, x, y)\n",
    "        position = (x, y)\n",
    "    shape.append(position)\n",
    "\n",
    "def on_mouse_up(x, y, canvas_fill=False):\n",
    "    global drawing\n",
    "    global position\n",
    "    global shape\n",
    "    \n",
    "    x_0 = position[0]\n",
    "    y_0 = position[1]\n",
    "    \n",
    "    drawing = False\n",
    "    \n",
    "    with hold_canvas(canvas):\n",
    "        canvas.stroke_line(x_0-1, y_0-1, x+1, y+1)\n",
    "        \n",
    "    for i in range(len(shape)):\n",
    "        x_0 = shape[i][0]\n",
    "        y_0 = shape[i][1]\n",
    "        x_1 = shape[i+1][0]\n",
    "        y_1 = shape[i+1][1]\n",
    "        draw.line([x_0, y_0, x_1, y_1], fill=\"black\", width=2)        \n",
    "        \n",
    "drawing = False\n",
    "position = None\n",
    "shape = []\n",
    "width = 800\n",
    "height = 400\n",
    "\n",
    "latex_pred = [\"No LaTeX Loaded.\"]\n",
    "filename = {\"name\":\"tempfile.jpg\"}\n",
    "init_browse_dir = os.getcwd()\n",
    "\n",
    "# Instantiate ipycanvas RoughCanvas and use \n",
    "# PIL to create an empty image and draw object to draw on\n",
    "# memory only, not visible to the user.\n",
    "canvas = RoughCanvas(width=width, height=height)\n",
    "canvas_image = PIL.Image.new(\"L\", (width, height), color=\"white\")\n",
    "draw = ImageDraw.Draw(canvas_image)\n",
    "\n",
    "# Canvas actions.\n",
    "canvas.on_mouse_down(on_mouse_down)\n",
    "canvas.on_mouse_move(on_mouse_move)\n",
    "canvas.on_mouse_up(on_mouse_up)\n",
    "canvas.stroke_style = \"black\"\n",
    "canvas.line_width = 1.5\n",
    "\n",
    "# File browser widget.\n",
    "init_browse_dir = str(Path.home())\n",
    "fc = FileChooser(init_browse_dir, select_desc=\"Select\")\n",
    "fc.use_dir_icons = True\n",
    "fc.filter_pattern = ['*.jpg', '*.png']\n",
    "\n",
    "# Image preview widget.\n",
    "file = open(filename[\"name\"], \"rb\")\n",
    "image = file.read()\n",
    "img_preview = widgets.Image(\n",
    "    value=image,\n",
    "    format='png',\n",
    "    width=600,\n",
    "    height=300,\n",
    ")\n",
    "\n",
    "# Text preview widget.\n",
    "txt_preview = widgets.Text(\n",
    "    value=latex_pred[0],\n",
    "    placeholder='Type something',\n",
    "    description='String:',\n",
    "    disabled=False\n",
    ")\n",
    "\n",
    "# Buttons.\n",
    "# btn_browse = widgets.Button(description=\"Browse Files\")\n",
    "btn_save = widgets.Button(description=\"Save Canvas\")\n",
    "btn_pred = widgets.Button(description=\"Predict LaTeX!\")\n",
    "\n",
    "# btn_browse.on_click(btn_browse_eventhandler)\n",
    "btn_save.on_click(btn_save_eventhandler)\n",
    "btn_pred.on_click(btn_pred_eventhandler)\n",
    "\n",
    "# Layout.\n",
    "box_layout = Layout(display='flex',\n",
    "                    flex_flow='row',\n",
    "                    align_items='inherit',\n",
    "                    border='solid',\n",
    "                    width='100%')\n",
    "\n",
    "box_prev_layout = Layout(display='flex',\n",
    "                    flex_flow='row',\n",
    "                    align_items='inherit',\n",
    "                    border='solid',\n",
    "                    width='100%')\n",
    "\n",
    "box_pred_layout = Layout(display='flex',\n",
    "                    flex_flow='row',\n",
    "                    align_items='center',\n",
    "                    border='solid',\n",
    "                    width='100%')\n",
    "\n",
    "box_canv_layout = Layout(display='flex',\n",
    "                    flex_flow='row',\n",
    "                    align_items='inherit',\n",
    "                    border='solid',\n",
    "                    width='100%')\n",
    "# Boxes.\n",
    "btn_box = Box(children=[fc, btn_save, btn_pred], layout=box_layout)\n",
    "prev_box = Box(children=[img_preview], layout=box_prev_layout)\n",
    "pred_box = Box(children=[txt_preview], layout=box_pred_layout)\n",
    "canv_box =  Box(children=[canvas], layout=box_canv_layout)\n",
    "\n",
    "# Observers.\n",
    "fc.children[1].children[1].observe(refresh_file_browse, names='value')\n",
    "img_preview.observe(img_preview_handler, names='value')"
   ]
  },
  {
   "cell_type": "code",
   "execution_count": 684,
   "id": "1b95b986-bc27-4a70-a166-5628af7f9d31",
   "metadata": {},
   "outputs": [
    {
     "name": "stdout",
     "output_type": "stream",
     "text": [
      "/Users/jaimelopez\n"
     ]
    }
   ],
   "source": [
    "# print(fc.children[1].children[0].value)"
   ]
  },
  {
   "cell_type": "code",
   "execution_count": 6,
   "id": "7bb3e79b-666f-47ee-954d-e98a47318626",
   "metadata": {},
   "outputs": [
    {
     "data": {
      "application/vnd.jupyter.widget-view+json": {
       "model_id": "0b68f7db770d41478a37d9ddfb13f573",
       "version_major": 2,
       "version_minor": 0
      },
      "text/plain": [
       "VBox(children=(Box(children=(FileChooser(path='/Users/jaimelopez', filename='', title='HTML(value='', layout=L…"
      ]
     },
     "metadata": {},
     "output_type": "display_data"
    }
   ],
   "source": [
    "vb = VBox((btn_box, prev_box, pred_box, canv_box,))\n",
    "display(vb)"
   ]
  },
  {
   "cell_type": "code",
   "execution_count": 7,
   "id": "d6852973-b93e-4e33-8c3c-b55786a83927",
   "metadata": {},
   "outputs": [
    {
     "name": "stdout",
     "output_type": "stream",
     "text": [
      "tempfile.jpg\n",
      "tempfile.jpg\n"
     ]
    },
    {
     "data": {
      "application/vnd.jupyter.widget-view+json": {
       "model_id": "88bff3209cce45299eab90b609e5d98f",
       "version_major": 2,
       "version_minor": 0
      },
      "text/plain": [
       "Image(value=b'\\xff\\xd8\\xff\\xe0\\x00\\x10JFIF\\x00\\x01\\x01\\x00\\x00\\x01\\x00\\x01\\x00\\x00\\xff\\xdb\\x00C\\x00\\x08\\x06\\x0…"
      ]
     },
     "metadata": {},
     "output_type": "display_data"
    }
   ],
   "source": [
    "print(filename[\"name\"])\n",
    "print(filename[\"name\"])\n",
    "prev_box.children[0]"
   ]
  },
  {
   "cell_type": "code",
   "execution_count": 647,
   "id": "02cbd1b0-fd12-4ca1-8650-df1bfff08aa4",
   "metadata": {},
   "outputs": [
    {
     "data": {
      "application/vnd.jupyter.widget-view+json": {
       "model_id": "48c1f2a84b144cc0b5140ee8d57dacda",
       "version_major": 2,
       "version_minor": 0
      },
      "text/plain": [
       "FileChooser(path='/Users/jaimelopez', filename='', title='HTML(value='', layout=Layout(display='none'))', show…"
      ]
     },
     "metadata": {},
     "output_type": "display_data"
    }
   ],
   "source": [
    "# Text preview widget.\n",
    "def this_handler(change):\n",
    "    print(\"this handler success\")\n",
    "\n",
    "def common_filtering(year, purpose):\n",
    "    \"\"\"\n",
    "    Takes two input values and applies both values as filters\n",
    "    to the same dataframe.\n",
    "    \n",
    "    year = string.\n",
    "    purpose = string.\n",
    "    \"\"\"\n",
    "    ALL = 'ALL'\n",
    "    \n",
    "    output.clear_output()\n",
    "    \n",
    "    if (year == ALL) and (purpose == ALL):\n",
    "        common_filter = df_london\n",
    "    elif (year == ALL):\n",
    "        common_filter = df_london[df_london.purpose == purpose]\n",
    "    elif (purpose == ALL):\n",
    "        common_filter = df_london[df_london.year == year]\n",
    "    else:\n",
    "        common_filter = df_london[\n",
    "            (df_london.year == year) \n",
    "            & (df_london.purpose == purpose)]\n",
    "\n",
    "# File browser widget.\n",
    "init_browse_dir = str(Path.home())\n",
    "fc = FileChooser(init_browse_dir, select_desc=\"File Browse\")\n",
    "fc.use_dir_icons = True\n",
    "fc.filter_pattern = ['*.jpg', '*.png']\n",
    "\n",
    "\n",
    "txt_preview = widgets.Text(\n",
    "    value=latex_pred[0],\n",
    "    placeholder='Type something',\n",
    "    description='String:',\n",
    "    disabled=False\n",
    ")\n",
    "\n",
    "txt_preview.observe(this_handler, names='value')\n",
    "txt_preview\n",
    "\n",
    "fc.children[1].children[1].observe(this_handler, names='value')\n",
    "fc.children[1].children[1].keys\n",
    "fc\n"
   ]
  },
  {
   "cell_type": "code",
   "execution_count": 648,
   "id": "fb0a4563-246d-4599-88fe-cf30320e7855",
   "metadata": {},
   "outputs": [
    {
     "name": "stdout",
     "output_type": "stream",
     "text": [
      "\n"
     ]
    }
   ],
   "source": [
    "# print(fc.children[1])\n",
    "print(fc.children[1].children[1].value)"
   ]
  },
  {
   "cell_type": "markdown",
   "id": "82bae77f",
   "metadata": {},
   "source": [
    "### Post production work"
   ]
  },
  {
   "cell_type": "code",
   "execution_count": 320,
   "id": "460e2c2c",
   "metadata": {},
   "outputs": [],
   "source": [
    "# md(\"$ %s $\"%(latex_pred))\n",
    "\n",
    "# latex_string = f\"$$\\huge {latex_pred[0]}$$\"\n",
    "\n",
    "# md(latex_string)"
   ]
  },
  {
   "cell_type": "code",
   "execution_count": 321,
   "id": "b5617fb3-7b53-4d8f-a9a1-ffcb6285c1aa",
   "metadata": {},
   "outputs": [
    {
     "data": {
      "text/plain": [
       "'No LaTeX Loaded.'"
      ]
     },
     "execution_count": 321,
     "metadata": {},
     "output_type": "execute_result"
    }
   ],
   "source": [
    "latex_pred[0]"
   ]
  },
  {
   "cell_type": "code",
   "execution_count": null,
   "id": "5fb1351b",
   "metadata": {},
   "outputs": [],
   "source": []
  },
  {
   "cell_type": "code",
   "execution_count": null,
   "id": "57b5423b",
   "metadata": {},
   "outputs": [],
   "source": []
  }
 ],
 "metadata": {
  "kernelspec": {
   "display_name": "Python 3",
   "language": "python",
   "name": "python3"
  },
  "language_info": {
   "codemirror_mode": {
    "name": "ipython",
    "version": 3
   },
   "file_extension": ".py",
   "mimetype": "text/x-python",
   "name": "python",
   "nbconvert_exporter": "python",
   "pygments_lexer": "ipython3",
   "version": "3.9.4"
  }
 },
 "nbformat": 4,
 "nbformat_minor": 5
}
