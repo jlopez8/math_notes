{
 "cells": [
  {
   "cell_type": "markdown",
   "id": "7d91483f",
   "metadata": {},
   "source": [
    "# Experimenting w tkinter"
   ]
  },
  {
   "cell_type": "markdown",
   "id": "09e99d29",
   "metadata": {},
   "source": [
    "## Summary\n",
    "\n",
    "It's possible to create fast, lightweight canvases using tkinter. By construction, canvases open in a separate window. In this folder we experiment with embedding this canvas in a cell, the way that iPyCanvas does.\n",
    "\n",
    "tkinter canvases support styling options for drawing such as line color , marker width, and canvas background color. I suggest locking these options so the user writes with a relatively narrow (width<5) black marker on a white canvas to best suit the OCR.\n",
    "\n",
    "Embedding tkinter is an ongoing process. tkinter operates in an independent window that serves as a canvas where drawing takes place. We must take this operation and insert it ina cell. ipycanvas works in this manner, but there is no interoperability between the tkinter class created to run the canvas and ipycanvas' method to populate a canvas inside a cell. See **Embedding in a cell** below to find the latest state of my thoughts on what could happen to make this work. "
   ]
  },
  {
   "cell_type": "markdown",
   "id": "210056e0",
   "metadata": {},
   "source": [
    "## Simple canvas\n",
    "\n",
    "The code below outputs a canvas in a separate window.\n"
   ]
  },
  {
   "cell_type": "code",
   "execution_count": 4,
   "id": "1d3ae5cc",
   "metadata": {},
   "outputs": [],
   "source": [
    "# from tkinter import * #originally wildcard import\n",
    "from tkinter import Tk\n",
    "from tkinter import Canvas\n",
    "from tkinter import ttk\n",
    "from tkinter import constants as con\n",
    "\n",
    "def savePosn(event):\n",
    "    global lastx, lasty\n",
    "    lastx, lasty = event.x, event.y\n",
    "\n",
    "def addLine(event):\n",
    "    canvas.create_line((lastx, lasty, event.x, event.y))\n",
    "    savePosn(event)\n",
    "\n",
    "root = Tk()\n",
    "\n",
    "root.columnconfigure(0, weight=1)\n",
    "root.rowconfigure(0, weight=1)\n",
    "\n",
    "canvas = Canvas(root)\n",
    "canvas.grid(column=0, row=0, sticky=(con.N, con.W, con.E ,con.S ))\n",
    "canvas.bind(\"<Button-1>\", savePosn)\n",
    "canvas.bind(\"<B1-Motion>\", addLine)\n",
    "\n",
    "# print(type())\n",
    "\n",
    "root.mainloop(0)"
   ]
  },
  {
   "cell_type": "markdown",
   "id": "b6b66a81",
   "metadata": {},
   "source": [
    "## Output 1:\n",
    "\n",
    "The root object with the mainloop() method will open a window where drawing takes place.\n",
    "\n",
    "<img src=\"./figures/tkinter_canvas_1.png\" alt=\"Kitten\" title=\"A cute kitten\" width=\"350\" height=\"100\" /> \n"
   ]
  },
  {
   "cell_type": "markdown",
   "id": "97da41e5",
   "metadata": {},
   "source": [
    "## Another canvas\n",
    "\n",
    "This canvas encapsulates some of the code above so global variables are not used."
   ]
  },
  {
   "cell_type": "code",
   "execution_count": 5,
   "id": "fedcdca2",
   "metadata": {},
   "outputs": [],
   "source": [
    "# from tkinter import *\n",
    "from tkinter import Tk\n",
    "from tkinter import Canvas\n",
    "from tkinter import ttk\n",
    "from tkinter import constants as con\n",
    "\n",
    "class Sketchpad(Canvas):\n",
    "    def __init__(self, parent, **kwargs):\n",
    "        super().__init__(parent, **kwargs)\n",
    "        self.bind(\"<Button-1>\", self.save_posn)\n",
    "        self.bind(\"<B1-Motion>\", self.add_line)\n",
    "        \n",
    "    def save_posn(self, event):\n",
    "        self.lastx, self.lasty = event.x, event.y\n",
    "\n",
    "    def add_line(self, event):\n",
    "        # default option\n",
    "        #self.create_line((self.lastx, self.lasty, event.x, event.y))\n",
    "        \n",
    "        # some other ways to instantiate this line\n",
    "        self.create_line((self.lastx, self.lasty, event.x, event.y),\n",
    "                         fill=\"black\", width=1)\n",
    "        self.save_posn(event)\n",
    "\n",
    "root = Tk()\n",
    "root.columnconfigure(0, weight=1)\n",
    "root.rowconfigure(0, weight=1)\n",
    "\n",
    "# default\n",
    "# sketch = Sketchpad(root)\n",
    "\n",
    "# white background\n",
    "sketch = Sketchpad(root,background=\"white\")\n",
    "sketch.grid(column=0, row=0, sticky=(con.N, con.W, con.E, con.S))\n",
    "\n",
    "root.mainloop()"
   ]
  },
  {
   "cell_type": "markdown",
   "id": "4c5e9cac",
   "metadata": {},
   "source": [
    "## Output 2:\n",
    "\n",
    "With the default options.\n",
    "\n",
    "<img src=\"./figures/tkinter_canvas_2.png\" alt=\"\" title=\"\" width=\"350\" height=\"100\" /> "
   ]
  },
  {
   "cell_type": "markdown",
   "id": "9e63286c",
   "metadata": {},
   "source": [
    "## Output 3:\n",
    "\n",
    "Playing with multiple options can be done like this:  \n",
    "\n",
    "`self.create_line((self.lastx, self.lasty, event.x, event.y), fill=\"red\", width=5)`\n",
    "\n",
    "There are issues with wider paint brushes in that they tend to segment.  I think the color black with a width <5 is best so the OCR receives quality data.  Background color can alos play a role. Best set this to white so there is a higher contrast between writing (black) and canvas (white)."
   ]
  },
  {
   "cell_type": "markdown",
   "id": "6156c524",
   "metadata": {},
   "source": [
    "<img src=\"./figures/tkinter_canvas_3.png\" alt=\"\" title=\"\" width=\"350\" height=\"100\" /> \n",
    "\n",
    "<img src=\"./figures/tkinter_canvas_4.png\" alt=\"\" title=\"\" width=\"350\" height=\"100\" /> \n",
    "\n",
    "<img src=\"./figures/tkinter_canvas_5.png\" alt=\"\" title=\"\" width=\"350\" height=\"100\" /> "
   ]
  },
  {
   "cell_type": "markdown",
   "id": "262c5f3d",
   "metadata": {},
   "source": [
    "## Output 4:\n",
    "\n",
    "Tkinter canvas with a white background.\n",
    "\n",
    "`sketch = Sketchpad(root,background=\"white\")`"
   ]
  },
  {
   "cell_type": "markdown",
   "id": "911a3b9d",
   "metadata": {},
   "source": [
    "<img src=\"./figures/tkinter_canvas_6.png\" alt=\"\" title=\"\" width=\"350\" height=\"100\" /> "
   ]
  },
  {
   "cell_type": "markdown",
   "id": "f1c471c2",
   "metadata": {},
   "source": [
    "## Embedding into a cell\n",
    "\n",
    "Recall ipycanvas code, replicated here below."
   ]
  },
  {
   "cell_type": "markdown",
   "id": "b2e7216a",
   "metadata": {},
   "source": [
    "tkinter embeds a canvas in a cell by using its ipywidget `HBox`.\n",
    "Below are the imports for ipycanvas."
   ]
  },
  {
   "cell_type": "code",
   "execution_count": 6,
   "id": "1523eb46",
   "metadata": {},
   "outputs": [],
   "source": [
    "from ipywidgets import Image\n",
    "\n",
    "from ipywidgets import ColorPicker, IntSlider, link, AppLayout, HBox\n",
    "\n",
    "from ipycanvas import RoughCanvas, hold_canvas"
   ]
  },
  {
   "cell_type": "code",
   "execution_count": 7,
   "id": "736e3008",
   "metadata": {},
   "outputs": [],
   "source": [
    "# the settings modify the canvas size\n",
    "width = 2000\n",
    "height = 1000"
   ]
  },
  {
   "cell_type": "markdown",
   "id": "e7388efa",
   "metadata": {},
   "source": [
    "ipycanvas uses an object called RoughCanvas (type = <class 'ipycanvas.canvas.RoughCanvas'>) as the actual canvas widget the user draws on. \n",
    "\n",
    "Further down **HBox** (type = <class 'ipywidgets.widgets.widget_box.HBox'>) is applied to a tuple of widgets, which the user can interact with to style the drawing of the canvas. For now, the option below only admits the canvas and no other widgets. \n",
    "\n",
    "**HBox** is a cell container for the RoughCanvas. This what the user sees immediately below a cell to draw in. I'm thinking this can be modified to use tkinter's canvas instead, in lieu of finding a solution that exists for tkinter exclusively, which I don't exactly see."
   ]
  },
  {
   "cell_type": "code",
   "execution_count": 23,
   "id": "02de1aed",
   "metadata": {},
   "outputs": [
    {
     "data": {
      "application/vnd.jupyter.widget-view+json": {
       "model_id": "317998777f524fe6916e733516310448",
       "version_major": 2,
       "version_minor": 0
      },
      "text/plain": [
       "HBox(children=(RoughCanvas(height=1000, width=2000),))"
      ]
     },
     "metadata": {},
     "output_type": "display_data"
    }
   ],
   "source": [
    "canvas = RoughCanvas(width=width, height=height)\n",
    "\n",
    "drawing = False\n",
    "position = None\n",
    "shape = []\n",
    "\n",
    "\n",
    "def on_mouse_down(x, y):\n",
    "    global drawing\n",
    "    global position\n",
    "    global shape\n",
    "\n",
    "    drawing = True\n",
    "    position = (x, y)\n",
    "    shape = [position]\n",
    "\n",
    "\n",
    "def on_mouse_move(x, y):\n",
    "    global drawing\n",
    "    global position\n",
    "    global shape\n",
    "\n",
    "    if not drawing:\n",
    "        return\n",
    "\n",
    "    with hold_canvas(canvas):\n",
    "        canvas.stroke_line(position[0], position[1], x, y)\n",
    "\n",
    "        position = (x, y)\n",
    "\n",
    "    shape.append(position)\n",
    "\n",
    "\n",
    "def on_mouse_up(x, y):\n",
    "    global drawing\n",
    "    global position\n",
    "    global shape\n",
    "\n",
    "    drawing = False\n",
    "    \n",
    "    with hold_canvas(canvas):\n",
    "        canvas.stroke_line(position[0], position[1], x, y)\n",
    "#         canvas.fill_polygon(shape)\n",
    "\n",
    "    shape = []\n",
    "\n",
    "\n",
    "canvas.on_mouse_down(on_mouse_down)\n",
    "canvas.on_mouse_move(on_mouse_move)\n",
    "canvas.on_mouse_up(on_mouse_up)\n",
    "\n",
    "canvas.stroke_style = '#749cb8'\n",
    "canvas.line_width = 15.0\n",
    "\n",
    "picker = ColorPicker(description='Color:', value='black')\n",
    "\n",
    "link((picker, 'value'), (canvas, 'stroke_style'))\n",
    "link((picker, 'value'), (canvas, 'fill_style'))\n",
    "\n",
    "# diagnose: what type is this canvas that goes to HBox?\n",
    "# print(type(canvas))\n",
    "\n",
    "# HBox(canvas)\n",
    "\n",
    "# diagnose: type of HBox\n",
    "# print(type(HBox((canvas, canvas))))\n",
    "\n",
    "# HBox that actually draws the widget being used.\n",
    "HBox((canvas,))"
   ]
  },
  {
   "cell_type": "code",
   "execution_count": null,
   "id": "0b404d7c",
   "metadata": {},
   "outputs": [],
   "source": []
  }
 ],
 "metadata": {
  "kernelspec": {
   "display_name": "Python 3",
   "language": "python",
   "name": "python3"
  },
  "language_info": {
   "codemirror_mode": {
    "name": "ipython",
    "version": 3
   },
   "file_extension": ".py",
   "mimetype": "text/x-python",
   "name": "python",
   "nbconvert_exporter": "python",
   "pygments_lexer": "ipython3",
   "version": "3.9.4"
  }
 },
 "nbformat": 4,
 "nbformat_minor": 5
}
