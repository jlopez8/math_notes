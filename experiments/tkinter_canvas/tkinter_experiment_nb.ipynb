{
 "cells": [
  {
   "cell_type": "markdown",
   "id": "1b72d144",
   "metadata": {},
   "source": [
    "# Experimenting w tkinter"
   ]
  },
  {
   "cell_type": "markdown",
   "id": "0f79a216",
   "metadata": {},
   "source": [
    "## Simple canvas\n",
    "\n",
    "The code below outputs a canvas in a separate window.\n"
   ]
  },
  {
   "cell_type": "code",
   "execution_count": 45,
   "id": "bc9e9f33",
   "metadata": {},
   "outputs": [],
   "source": [
    "# from tkinter import * #originally wildcard import\n",
    "from tkinter import Tk\n",
    "from tkinter import Canvas\n",
    "from tkinter import ttk\n",
    "from tkinter import constants as con\n",
    "\n",
    "constants\n",
    "def savePosn(event):\n",
    "    global lastx, lasty\n",
    "    lastx, lasty = event.x, event.y\n",
    "\n",
    "def addLine(event):\n",
    "    canvas.create_line((lastx, lasty, event.x, event.y))\n",
    "    savePosn(event)\n",
    "\n",
    "root = Tk()\n",
    "\n",
    "# root.columnconfigure(0, weight=1)\n",
    "# root.rowconfigure(0, weight=1)\n",
    "\n",
    "# canvas = Canvas(root)\n",
    "# canvas.grid(column=0, row=0, sticky=(con.N, con.W, con.E ,con.S ))\n",
    "# canvas.bind(\"<Button-1>\", savePosn)\n",
    "# canvas.bind(\"<B1-Motion>\", addLine)\n",
    "\n",
    "root.mainloop()"
   ]
  },
  {
   "cell_type": "markdown",
   "id": "313fef03",
   "metadata": {},
   "source": [
    "## Output 1:\n",
    "\n",
    "The root object with the mainloop() method will open a window where drawing takes place.\n",
    "\n",
    "<img src=\"./figures/tkinter_canvas_1.png\" alt=\"Kitten\" title=\"A cute kitten\" width=\"400\" height=\"100\" /> \n"
   ]
  },
  {
   "cell_type": "markdown",
   "id": "347c8396",
   "metadata": {},
   "source": [
    "## Another canvas\n",
    "\n",
    "This canvas encapsulates some of the code above so global variables are not used."
   ]
  },
  {
   "cell_type": "code",
   "execution_count": null,
   "id": "5dcc1af8",
   "metadata": {},
   "outputs": [],
   "source": [
    "# from tkinter import *\n",
    "from tkinter import Tk\n",
    "from tkinter import Canvas\n",
    "from tkinter import ttk\n",
    "from tkinter import constants as con\n",
    "\n",
    "class Sketchpad(Canvas):\n",
    "    def __init__(self, parent, **kwargs):\n",
    "        super().__init__(parent, **kwargs)\n",
    "        self.bind(\"<Button-1>\", self.save_posn)\n",
    "        self.bind(\"<B1-Motion>\", self.add_line)\n",
    "        \n",
    "    def save_posn(self, event):\n",
    "        self.lastx, self.lasty = event.x, event.y\n",
    "\n",
    "    def add_line(self, event):\n",
    "        self.create_line((self.lastx, self.lasty, event.x, event.y))\n",
    "        self.save_posn(event)\n",
    "\n",
    "root = Tk()\n",
    "root.columnconfigure(0, weight=1)\n",
    "root.rowconfigure(0, weight=1)\n",
    "\n",
    "sketch = Sketchpad(root)\n",
    "sketch.grid(column=0, row=0, sticky=(con.N, con.W, con.E, con.S))\n",
    "\n",
    "root.mainloop()"
   ]
  },
  {
   "cell_type": "markdown",
   "id": "efa7c015",
   "metadata": {},
   "source": [
    "## Output 2:\n",
    "\n",
    "<img src=\"./figures/tkinter_canvas_2.png\" alt=\"\" title=\"\" width=\"400\" height=\"100\" /> "
   ]
  },
  {
   "cell_type": "code",
   "execution_count": null,
   "id": "ffa6c810",
   "metadata": {},
   "outputs": [],
   "source": []
  }
 ],
 "metadata": {
  "kernelspec": {
   "display_name": "Python 3",
   "language": "python",
   "name": "python3"
  },
  "language_info": {
   "codemirror_mode": {
    "name": "ipython",
    "version": 3
   },
   "file_extension": ".py",
   "mimetype": "text/x-python",
   "name": "python",
   "nbconvert_exporter": "python",
   "pygments_lexer": "ipython3",
   "version": "3.9.4"
  }
 },
 "nbformat": 4,
 "nbformat_minor": 5
}
