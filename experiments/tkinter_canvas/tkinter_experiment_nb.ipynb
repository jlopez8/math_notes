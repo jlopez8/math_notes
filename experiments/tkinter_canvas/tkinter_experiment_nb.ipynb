{
 "cells": [
  {
   "cell_type": "markdown",
   "id": "cb0b7a31",
   "metadata": {},
   "source": [
    "# Experimenting w tkinter"
   ]
  },
  {
   "cell_type": "markdown",
   "id": "a077c913",
   "metadata": {},
   "source": [
    "## Summary\n",
    "\n",
    "It's possible to create fast, lightweight canvases using Tkinter. By construction, canvases open in a separate window. In this folder we experiment with embedding this canvas in a cell, the way that iPyCanvas does.\n",
    "\n",
    "Tkinter canvases support styling options for drawing such as line color , marker width, and canvas background color. I suggest locking these options so the user writes with a relatively narrow (width<5) black marker on a white canvas to best suit the OCR."
   ]
  },
  {
   "cell_type": "markdown",
   "id": "485fbd9c",
   "metadata": {},
   "source": [
    "## Simple canvas\n",
    "\n",
    "The code below outputs a canvas in a separate window.\n"
   ]
  },
  {
   "cell_type": "code",
   "execution_count": null,
   "id": "35a83503",
   "metadata": {},
   "outputs": [],
   "source": [
    "# from tkinter import * #originally wildcard import\n",
    "from tkinter import Tk\n",
    "from tkinter import Canvas\n",
    "from tkinter import ttk\n",
    "from tkinter import constants as con\n",
    "\n",
    "def savePosn(event):\n",
    "    global lastx, lasty\n",
    "    lastx, lasty = event.x, event.y\n",
    "\n",
    "def addLine(event):\n",
    "    canvas.create_line((lastx, lasty, event.x, event.y))\n",
    "    savePosn(event)\n",
    "\n",
    "root = Tk()\n",
    "\n",
    "root.columnconfigure(0, weight=1)\n",
    "root.rowconfigure(0, weight=1)\n",
    "\n",
    "canvas = Canvas(root)\n",
    "canvas.grid(column=0, row=0, sticky=(con.N, con.W, con.E ,con.S ))\n",
    "canvas.bind(\"<Button-1>\", savePosn)\n",
    "canvas.bind(\"<B1-Motion>\", addLine)\n",
    "\n",
    "root.mainloop()"
   ]
  },
  {
   "cell_type": "markdown",
   "id": "94cdc5fa",
   "metadata": {},
   "source": [
    "## Output 1:\n",
    "\n",
    "The root object with the mainloop() method will open a window where drawing takes place.\n",
    "\n",
    "<img src=\"./figures/tkinter_canvas_1.png\" alt=\"Kitten\" title=\"A cute kitten\" width=\"350\" height=\"100\" /> \n"
   ]
  },
  {
   "cell_type": "markdown",
   "id": "e3a8c544",
   "metadata": {},
   "source": [
    "## Another canvas\n",
    "\n",
    "This canvas encapsulates some of the code above so global variables are not used."
   ]
  },
  {
   "cell_type": "code",
   "execution_count": null,
   "id": "84d650bd",
   "metadata": {},
   "outputs": [],
   "source": [
    "# from tkinter import *\n",
    "from tkinter import Tk\n",
    "from tkinter import Canvas\n",
    "from tkinter import ttk\n",
    "from tkinter import constants as con\n",
    "\n",
    "class Sketchpad(Canvas):\n",
    "    def __init__(self, parent, **kwargs):\n",
    "        super().__init__(parent, **kwargs)\n",
    "        self.bind(\"<Button-1>\", self.save_posn)\n",
    "        self.bind(\"<B1-Motion>\", self.add_line)\n",
    "        \n",
    "    def save_posn(self, event):\n",
    "        self.lastx, self.lasty = event.x, event.y\n",
    "\n",
    "    def add_line(self, event):\n",
    "        # default option\n",
    "        #self.create_line((self.lastx, self.lasty, event.x, event.y))\n",
    "        \n",
    "        # some other ways to instantiate this line\n",
    "        self.create_line((self.lastx, self.lasty, event.x, event.y),\n",
    "                         fill=\"black\", width=1)\n",
    "        self.save_posn(event)\n",
    "\n",
    "root = Tk()\n",
    "root.columnconfigure(0, weight=1)\n",
    "root.rowconfigure(0, weight=1)\n",
    "\n",
    "# default\n",
    "# sketch = Sketchpad(root)\n",
    "\n",
    "# white background\n",
    "sketch = Sketchpad(root,background=\"white\")\n",
    "sketch.grid(column=0, row=0, sticky=(con.N, con.W, con.E, con.S))\n",
    "\n",
    "root.mainloop()"
   ]
  },
  {
   "cell_type": "markdown",
   "id": "3a5c5ec0",
   "metadata": {},
   "source": [
    "## Output 2:\n",
    "\n",
    "With the default options.\n",
    "\n",
    "<img src=\"./figures/tkinter_canvas_2.png\" alt=\"\" title=\"\" width=\"350\" height=\"100\" /> "
   ]
  },
  {
   "cell_type": "markdown",
   "id": "623e2374",
   "metadata": {},
   "source": [
    "## Output 3:\n",
    "\n",
    "Playing with multiple options can be done like this:  \n",
    "\n",
    "`self.create_line((self.lastx, self.lasty, event.x, event.y), fill=\"red\", width=5)`\n",
    "\n",
    "There are issues with wider paint brushes in that they tend to segment.  I think the color black with a width <5 is best so the OCR receives quality data.  Background color can alos play a role. Best set this to white so there is a higher contrast between writing (black) and canvas (white)."
   ]
  },
  {
   "cell_type": "markdown",
   "id": "ebc91221",
   "metadata": {},
   "source": [
    "<img src=\"./figures/tkinter_canvas_3.png\" alt=\"\" title=\"\" width=\"350\" height=\"100\" /> \n",
    "\n",
    "<img src=\"./figures/tkinter_canvas_4.png\" alt=\"\" title=\"\" width=\"350\" height=\"100\" /> \n",
    "\n",
    "<img src=\"./figures/tkinter_canvas_5.png\" alt=\"\" title=\"\" width=\"350\" height=\"100\" /> "
   ]
  },
  {
   "cell_type": "markdown",
   "id": "fc508588",
   "metadata": {},
   "source": [
    "## Output 4:\n",
    "\n",
    "Tkinter canvas with a white background.\n",
    "\n",
    "`sketch = Sketchpad(root,background=\"white\")`"
   ]
  },
  {
   "cell_type": "markdown",
   "id": "52d94bdf",
   "metadata": {},
   "source": [
    "<img src=\"./figures/tkinter_canvas_6.png\" alt=\"\" title=\"\" width=\"350\" height=\"100\" /> "
   ]
  },
  {
   "cell_type": "code",
   "execution_count": null,
   "id": "4d10d446",
   "metadata": {},
   "outputs": [],
   "source": []
  }
 ],
 "metadata": {
  "kernelspec": {
   "display_name": "Python 3",
   "language": "python",
   "name": "python3"
  },
  "language_info": {
   "codemirror_mode": {
    "name": "ipython",
    "version": 3
   },
   "file_extension": ".py",
   "mimetype": "text/x-python",
   "name": "python",
   "nbconvert_exporter": "python",
   "pygments_lexer": "ipython3",
   "version": "3.9.4"
  }
 },
 "nbformat": 4,
 "nbformat_minor": 5
}
