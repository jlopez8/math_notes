{
 "cells": [
  {
   "cell_type": "markdown",
   "id": "8b1b1ea8",
   "metadata": {},
   "source": [
    "# End-to-end handwriting-to-LaTeX Demo"
   ]
  },
  {
   "cell_type": "markdown",
   "id": "8e755517",
   "metadata": {},
   "source": [
    "This nb demos the process of taking hand-written math and converts it to LaTeX using the top tools found during the research phase.\n",
    "\n",
    "The writing and input is be done using tkinter, where writing will occur in a separate window. The math OCR will be done with MathPix's OCR API.\n",
    "\n",
    "The first test of the full workflow produced a rendered equation from a handwritten input whith about 9/11 characacters correctly. There are two possible problems contributing to this inaccuracy. The first, is the canvas drawing is not the exact image being sent. A background PIL canvas is silently keeping track of the drawing using line objects native to PIL. These objects are not presented as smoothly as the tkinter counterparts see image 2 and image 3. Another source of error is inaccurate user input, ie, bad handwriting.  \n",
    "\n",
    "Accuracy and hand-writing style aside, it does show we can enact an end-to-end solution for the product."
   ]
  },
  {
   "cell_type": "markdown",
   "id": "d23ad244",
   "metadata": {},
   "source": [
    "## Contents\n",
    "\n",
    "1. Phase 1: tkinter implementation\n",
    "    1. Simple Canvas Code\n",
    "    2. Add A Save Button To The Canvas\n",
    "    3. Pilot Canvas Code\n",
    "    \n",
    "2. Phase 2: MathPix OCR API implementation\n",
    "3. Phase 3: Testing\n",
    "    1. Test Case 0\n",
    "    2. Test Case 1\n",
    "    3. Test Case 2"
   ]
  },
  {
   "cell_type": "code",
   "execution_count": 3,
   "id": "19f62d09",
   "metadata": {},
   "outputs": [],
   "source": [
    "import sys\n",
    "import base64\n",
    "\n",
    "from tkinter import Tk, Canvas, ttk, Button\n",
    "from tkinter import constants as con\n",
    "\n",
    "from PIL import ImageGrab, ImageTk, ImageDraw\n",
    "import PIL\n",
    "\n",
    "import string\n",
    "import random\n",
    "from IPython.display import Markdown as md\n",
    "\n",
    "import requests\n",
    "import json\n",
    "\n",
    "import config as cfg"
   ]
  },
  {
   "cell_type": "markdown",
   "id": "4dc810bd",
   "metadata": {},
   "source": [
    "Values `app_id` and `app_key` are user-specific API keys necessary for access. They can be loaded from the configs folder."
   ]
  },
  {
   "cell_type": "code",
   "execution_count": 11,
   "id": "fb762b4e",
   "metadata": {},
   "outputs": [],
   "source": [
    "app_id = cfg.math_pix_key[\"app_id\"]  \n",
    "app_key = cfg.math_pix_key[\"app_key\"]"
   ]
  },
  {
   "cell_type": "code",
   "execution_count": null,
   "id": "9697589f",
   "metadata": {},
   "outputs": [],
   "source": [
    "def rnd_image_filename(N=7):\n",
    "    \"\"\"Returns a random string to follow a file name for uniqueness. We allow 7 of either \n",
    "    ascii uppercase characters or 10 numeric digits. This gives 7^36 = 2.6515x10^30 possibilities,\n",
    "    which is how many letters and numbers in the English alphabet exsit. A choice of 7 nearly \n",
    "    guarantees no two files will be named the same even on consecutive runs. \n",
    "\n",
    "    :param N: Length of random character string to append to a file name, defaults to 7.\n",
    "    :type N: int\n",
    "    :return: String of filename appended with random characters.\n",
    "    :rtype: string\n",
    "    \"\"\"\n",
    "    \n",
    "    filetag = ''.join(random.choices(string.ascii_uppercase + string.digits, k=N))\n",
    "    filename = \"figures/canvas_img_\" + filetag + \".png\"\n",
    "    return filename"
   ]
  },
  {
   "cell_type": "markdown",
   "id": "7282c660",
   "metadata": {},
   "source": [
    "## Phase 1: tkinter Implementation\n",
    "\n",
    "The following code blocks weave tkinter's tutorial showcase of the code with a few lines from a code from this video (https://www.youtube.com/watch?v=OdDCsxfI8S0).\n",
    "The code block below 'Pilot Canvas code' combines what happens in the code blocks below 'Simple Canvas code' and 'Canvas w Save Button'."
   ]
  },
  {
   "cell_type": "markdown",
   "id": "1bb21764",
   "metadata": {},
   "source": [
    "###  Simple Canvas Code"
   ]
  },
  {
   "cell_type": "markdown",
   "id": "4d722811",
   "metadata": {},
   "source": [
    "This code block is from the simple sketchpad code from tkinter's documentation found at https://tkdocs.com/tutorial/canvas.html."
   ]
  },
  {
   "cell_type": "code",
   "execution_count": 12,
   "id": "35532d04",
   "metadata": {},
   "outputs": [],
   "source": [
    "def save_posn(event):\n",
    "    \"\"\"Saves positional coordinates of object event.\n",
    "\n",
    "    :param event: Recorded mouse-click events for drawing.\n",
    "    :type event: class tkinter.Event\n",
    "    \"\"\"\n",
    "    global lastx, lasty\n",
    "    lastx, lasty = event.x, event.y\n",
    "\n",
    "def add_line(event):\n",
    "    \"\"\"Adds a line connection previous location of event to current event location.\n",
    "    Event here is where the mouse was and is located. \n",
    "\n",
    "    :param event: Recorded mouse-click events for drawing.\n",
    "    :type event: class tkinter.Event\n",
    "    \"\"\"\n",
    "    canvas.create_line((lastx, lasty, event.x, event.y))\n",
    "    savePosn(event)\n",
    "\n",
    "root = Tk()\n",
    "root.columnconfigure(0, weight=1)\n",
    "root.rowconfigure(0, weight=1)\n",
    "\n",
    "canvas = Canvas(root, bg=\"white\")\n",
    "canvas.pack()\n",
    "\n",
    "canvas.grid(column=0, row=0, sticky=(con.N, con.W, con.E ,con.S))\n",
    "canvas.bind(\"<Button-1>\", save_posn)\n",
    "canvas.bind(\"<B1-Motion>\", add_line)\n",
    "\n",
    "root.mainloop(0)"
   ]
  },
  {
   "cell_type": "markdown",
   "id": "57058900",
   "metadata": {},
   "source": [
    "### Add A Save Button To The Canvas"
   ]
  },
  {
   "cell_type": "markdown",
   "id": "b54678b3",
   "metadata": {},
   "source": [
    "This code is from a YouTube video showing how to save a drawing from a canvas. \n",
    "The actual output image is not a good representation of how we want our tool to work. \n",
    "This code is modifed to use the **rnd_image_filename** function."
   ]
  },
  {
   "cell_type": "code",
   "execution_count": null,
   "id": "107ad877",
   "metadata": {},
   "outputs": [],
   "source": [
    "def save():\n",
    "    \"\"\"Saves a canvas file after appending with string of \n",
    "    random characters for uniquness.\n",
    "    \"\"\"\n",
    "    filename = rnd_image_filename()\n",
    "    canvas_image.save(filename)\n",
    "\n",
    "def paint(event):\n",
    "    \"\"\"Places a dot at each mouse location corresponding to the click event. \n",
    "    On the draw object, adds a line connection nearby locations of where the \n",
    "    event occurs. This latter image is saved and represents the image drawn\n",
    "    on the tkinter canvas by the user.\n",
    "\n",
    "    :param event: Recorded mouse-click events for drawing.\n",
    "    :type event: class tkinter.Event\n",
    "    \"\"\"\n",
    "    x1, y1 = (event.x - 1), (event.y - 1)\n",
    "    x2, y2 = (event.x + 1), (event.y + 1)\n",
    "    cv.create_oval(x1, y1, x2, y2, fill=\"black\", width=2)\n",
    "    draw.line([x1, y1, x2, y2], fill=\"black\", width=2)\n",
    "    \n",
    "width = 600\n",
    "height = 400\n",
    "center = height//2\n",
    "white = (255, 255, 255)\n",
    "background = \"white\"\n",
    "green = (0,128,0)\n",
    "\n",
    "root = Tk()\n",
    "\n",
    "# Instantiate the tkinter canvas to draw on. \n",
    "cv = Canvas(root, width=width, height=height, bg=background)\n",
    "cv.pack()\n",
    "\n",
    "# PIL create an empty image and draw object to draw on memory only.  It is not visible.\n",
    "canvas_image = PIL.Image.new(\"RGB\", (width, height), white)\n",
    "draw = ImageDraw.Draw(canvas_image)\n",
    "\n",
    "cv.pack(expand=True, fill=\"both\")\n",
    "cv.bind(\"<B1-Motion>\", paint)\n",
    "\n",
    "button=Button(text=\"save\", command=save)\n",
    "button.pack()\n",
    "\n",
    "root.mainloop()"
   ]
  },
  {
   "cell_type": "markdown",
   "id": "1ce1518d",
   "metadata": {},
   "source": [
    "### Pilot Canvas Code\n",
    "\n",
    "Combine elements from prior code to create a canvas w a save button with smooth line drawing."
   ]
  },
  {
   "cell_type": "code",
   "execution_count": 22,
   "id": "ee4d05ff",
   "metadata": {},
   "outputs": [],
   "source": [
    "def pilot_canvas(width=800, height=600, linewidth = 3, linecolor=\"BLACK\"):\n",
    "    \"\"\"Opens a canvas widget using tkinter that allows a user to save their work.\n",
    "    \n",
    "    :param width: Canvas width, defaults to 800.\n",
    "    :type width: int, optional\n",
    "     \n",
    "    :param height: Canvas height, defaults to 600.\n",
    "    :type height: int, optional\n",
    "        \n",
    "    :param linewidth: Canvas marker linewidth, defaults to 3.\n",
    "    :type linewidth: int, optional\n",
    "     \n",
    "    :param linecolor: Canvas marker linecolor, defaults to black.\n",
    "    :type linecolor: str, optional\n",
    "    \n",
    "    :return: Dictionary of filename where canvas was saved.\n",
    "    :rtype: dict\n",
    "    \"\"\"\n",
    "    \n",
    "    def save(N=5):\n",
    "        \"\"\"Saves a canvas file after appending with string of N \n",
    "         random characters for uniquness.\n",
    "    \n",
    "        :param N: Number of random characters to append, defaults to 5.\n",
    "        :type N: int\n",
    "        \"\"\"\n",
    "        \n",
    "        filename[\"name\"] = rnd_image_filename(N=N)\n",
    "        canvas_image.save(filename[\"name\"])\n",
    "        print(\"File was saved as: \", filename[\"name\"] )\n",
    "\n",
    "    def save_posn(event):\n",
    "        \"\"\"Saves positional coordinates of object event.\n",
    "        \n",
    "        :param event: Recorded mouse-click events for drawing.\n",
    "        :type event: class tkinter.Event\n",
    "        \"\"\"\n",
    "\n",
    "        global lastx, lasty\n",
    "        lastx, lasty = event.x, event.y\n",
    "\n",
    "    def add_line(event):\n",
    "        \"\"\"Adds a line connection previous location of event to current event location.\n",
    "        Event here is where the mouse was and is located. Also draws the same line\n",
    "        on a PIL image which represents the image drawn on the tkinter canvas by the \n",
    "        user. This is the image that will actually be saved and used by the OCR.\n",
    "        \n",
    "        :param event: Recorded mouse-click events for drawing.\n",
    "        :type event: class tkinter.Event\n",
    "        \"\"\"\n",
    "        # This canvas call is what the user sees on the screen. \n",
    "        canvas.create_line((lastx, lasty, event.x, event.y),\n",
    "                           smooth=True, width=linewidth, fill=linecolor)\n",
    "        \n",
    "        # The draw call is in the background (invisible) \n",
    "        # capturing what will actually get converted to an image.\n",
    "        draw.line([lastx, lasty, event.x, event.y], fill=linecolor, width=linewidth, joint='curve')\n",
    "        save_posn(event)\n",
    "        \n",
    "    offset = (linewidth)/2\n",
    "    filename = {}\n",
    "\n",
    "    root = Tk()\n",
    "\n",
    "    # Instantiate the tkinter canvas to draw on. \n",
    "    canvas = Canvas(root, bg=\"white\", width=width, height=height)\n",
    "    canvas.pack()\n",
    "    \n",
    "    # PIL create an empty image and draw object to draw on memory only.  It is not visible.\n",
    "    canvas_image = PIL.Image.new(\"RGB\", (width, height), (255, 255, 255))\n",
    "    draw = ImageDraw.Draw(canvas_image)\n",
    "\n",
    "    canvas.pack(expand=True, fill=\"both\")\n",
    "    canvas.bind(\"<Button-1>\", save_posn)\n",
    "    canvas.bind(\"<B1-Motion>\", add_line)\n",
    "    \n",
    "    button = Button(text=\"Save Image\", command=lambda: save(N=7))\n",
    "    button.pack()\n",
    "\n",
    "    root.mainloop()\n",
    "\n",
    "    return filename"
   ]
  },
  {
   "cell_type": "markdown",
   "id": "363b9cfa",
   "metadata": {},
   "source": [
    "## Phase 2: MathPix OCR API implementation"
   ]
  },
  {
   "cell_type": "markdown",
   "id": "a312dcfd",
   "metadata": {},
   "source": [
    "This code block provides a wrapper function for submitting an API request to MathPix.\n",
    "The `app_id` and `app_key` from above are necessary for this function to work. This code originally comes from teh **top_ocr_tools_mathpix_snip** nb."
   ]
  },
  {
   "cell_type": "code",
   "execution_count": 24,
   "id": "e4b9213d",
   "metadata": {},
   "outputs": [],
   "source": [
    "def ocr_request(filename):\n",
    "    \"\"\"Sends an API request to MathPix API to be handled by the OCR .\n",
    "    \n",
    "    :param filename: Dictionary with the filename of the image to be sent to the MathPix API for a LaTeX prediction.\n",
    "    :type filename: dict\n",
    " \n",
    "    :return: Latex-formatted string.\n",
    "    :rtype: str\n",
    "    \"\"\"\n",
    "    \n",
    "    dict_request={\n",
    "            \"src\": \"data:image/png\",\n",
    "            \"formats\": [\"text\", \"data\", \"html\"],\n",
    "            \"data_options\": {\n",
    "            \"include_asciimath\": True,\n",
    "            \"include_latex\": True\n",
    "            }\n",
    "        }\n",
    "\n",
    "    # Put desired filename from earlier.\n",
    "    file_path = filename[\"name\"]\n",
    "    image_uri = \"data:image/png;base64,\" + base64.b64encode(open(file_path, \"rb\").read()).decode()\n",
    "\n",
    "    # Send the request.\n",
    "    r = requests.post(\"https://api.mathpix.com/v3/text\",\n",
    "                      data=json.dumps({'src': image_uri}),\n",
    "                      headers={\"app_id\": app_id, \n",
    "                               \"app_key\": app_key,\n",
    "                               \"Content-type\": \"application/json\"})\n",
    "\n",
    "    print(json.dumps(json.loads(r.text), indent=4, sort_keys=True))\n",
    "    \n",
    "    json_return = json.loads(r.text)\n",
    "    latex_return = json_return.get(\"latex_styled\")\n",
    "    \n",
    "    print(latex_return)\n",
    "    print()\n",
    "    \n",
    "    return latex_return"
   ]
  },
  {
   "cell_type": "markdown",
   "id": "e24b1d7c",
   "metadata": {},
   "source": [
    "## Phase 3: Testing"
   ]
  },
  {
   "cell_type": "markdown",
   "id": "bfae8a7e",
   "metadata": {},
   "source": [
    "The following provides several test cases. Some have pre-populated calls that already include the return from the API so we can quickly compare it with the input canvas drawing."
   ]
  },
  {
   "cell_type": "markdown",
   "id": "4850bdac",
   "metadata": {},
   "source": [
    "## Test Case 0:\n",
    "\n",
    "Make up a random equation and try it out.\n",
    "Return from random equation drawn on the canvas. The input call is omitted.\n"
   ]
  },
  {
   "cell_type": "code",
   "execution_count": null,
   "id": "927c758e",
   "metadata": {},
   "outputs": [],
   "source": [
    "returned = {\n",
    "  \"text\": \"\\\\( \\\\sum_{m}\\\\left(_{j m}^{2}+\\\\tan \\\\left(\\\\phi_{m}\\\\right)\\\\right. \\\\)\",\n",
    "  \"confidence\": 0.47379128643166557,\n",
    "  \"is_printed\": False,\n",
    "  \"request_id\": \"3b08353e2e65e4a05c5d68a3061032db\",\n",
    "  \"latex_styled\": \"\\\\sum_{m}\\\\left(_{j m}^{2}+\\\\tan \\\\left(\\\\phi_{m}\\\\right)\\\\right.\",\n",
    "  \"is_handwritten\": True,\n",
    "  \"confidence_rate\": 0.47379128643166557,\n",
    "  \"auto_rotate_degrees\": 0,\n",
    "  \"auto_rotate_confidence\": 0.011462837151636762\n",
    "}\n",
    "\n",
    "# this is what was returned\n",
    "returned_ltx = \"\\\\sum_{m}\\\\left(_{j m}^{2}+\\\\tan \\\\left(\\\\phi_{m}\\\\right)\\\\right.\"\n",
    "md(\"$ %s $\"%(returned_ltx))"
   ]
  },
  {
   "cell_type": "markdown",
   "id": "63193e38",
   "metadata": {},
   "source": [
    "### Results"
   ]
  },
  {
   "cell_type": "markdown",
   "id": "ba0d801d",
   "metadata": {},
   "source": [
    "**PIL's Image**\n",
    "\n",
    "<img src=\"figures/canvas_img_RB.png\" alt=\"\" title=\"\" width=\"400\" height=\"300\" />\n",
    "\n",
    "**Rendered LaTeX**\n",
    "\n",
    "<img src=\"figures/ren_latex_RB.png\" alt=\"\" title=\"\" width=\"400\" height=\"300\" />\n",
    "\n",
    "**Original LaTeX**  \n",
    "$\\huge \\sum_m y^2_m + \\tan(\\phi_m) $"
   ]
  },
  {
   "cell_type": "markdown",
   "id": "462ca0a4",
   "metadata": {},
   "source": [
    "We see that almost every character except the 'y' was converted correctly. This is in part due to bad hand-writing. Looking at how y is actually written, with a partial break at the stem, we can see how the OCR thought this was two seperate characters: one closely resembling a j and the second part of the curve resembing a parenthesis. Fortunately, a majority of the LaTeX was successfully converted, so a user could come back and fix this minor LaTeX issue."
   ]
  },
  {
   "cell_type": "markdown",
   "id": "02696dc5",
   "metadata": {},
   "source": [
    "## Test Case 1:\n",
    "\n",
    "Take a closer look at how the drawing looks on the canvas vs the PIL's version of the drawing. The image on the right is saved and sent to the OCR. We see that PIL's image has more roughness to it, which may affect OCR accuracy. This is an issue that likely we will revisit in the coming development phases."
   ]
  },
  {
   "cell_type": "markdown",
   "id": "c4ed2bc7",
   "metadata": {},
   "source": [
    "<p float=\"left\">\n",
    "  <img src=\"figures/img_6V3SBX4_cv.png\" alt=\"\" title=\"\" width=\"400\" height=\"300\" />\n",
    "  <img src=\"figures/img_6V3SBX4_pil.png\" alt=\"\" title=\"\" width=\"400\" height=\"300\" /> \n",
    "</p>"
   ]
  },
  {
   "cell_type": "markdown",
   "id": "35471e3f",
   "metadata": {},
   "source": [
    "## Test Case 2:\n",
    "\n",
    "Hand-write and apply end-to-end solution to the following equation:\n",
    "\n",
    "$$ \\huge \\frac{\\partial c}{\\partial t} = \\nabla \\cdot (D \\nabla c) - \\nabla \\cdot (\\mathbf{v} c) + R $$"
   ]
  },
  {
   "cell_type": "markdown",
   "id": "86d52e7d",
   "metadata": {},
   "source": [
    "The file 'figures/canvas_img_YFXS3KF.png' is the saved version of my hand-drawn image. You can draw your own and use that file instead buy passing the correct argument to `ocr_request`."
   ]
  },
  {
   "cell_type": "code",
   "execution_count": null,
   "id": "ce2f3db4",
   "metadata": {},
   "outputs": [],
   "source": [
    "# Uncomment this line below to call in the canvas to draw on.  \n",
    "# We can also specify a specific file from a previous canvas session.\n",
    "# filename = pilot_canvas()\n",
    "\n",
    "# Specify a specific file to convert.\n",
    "filename = {\"name\":'figures/canvas_img_LKNB0E0.png'}"
   ]
  },
  {
   "cell_type": "code",
   "execution_count": null,
   "id": "c575eae6",
   "metadata": {},
   "outputs": [],
   "source": [
    "# Send the API request.\n",
    "latex_return=ocr_request(filename)\n",
    "\n",
    "# Print the returned request.\n",
    "md(\"$ %s $\"%(latex_return))"
   ]
  },
  {
   "cell_type": "markdown",
   "id": "1f601d82",
   "metadata": {},
   "source": [
    "### Compare inputs and outputs to ideal"
   ]
  },
  {
   "cell_type": "markdown",
   "id": "9534ec67",
   "metadata": {},
   "source": [
    "**PIL's Image**\n",
    "<p float=\"left\">\n",
    "  <img src=figures/canvas_img_YFXS3KF.png width=\"300\" />\n",
    "</p>\n",
    "\n",
    "**Rendered LaTeX Image**\n",
    "<p float=\"left\">\n",
    "  <img src=figures/ren_latex_YFXS3KF.png width=\"350\" />\n",
    "</p>\n",
    "\n",
    "\n",
    "**Original LaTeX**  \n",
    "$ \\LARGE \\frac{\\partial c}{\\partial t} = \\nabla \\cdot (D \\nabla c) - \\nabla \\cdot (\\mathbf{v} c) + R $\n"
   ]
  },
  {
   "cell_type": "markdown",
   "id": "a1a0e996",
   "metadata": {},
   "source": [
    "### How did we do?\n",
    "\n",
    "In test case 0, roughly 1/10 characters was incorrect, with 1 error not counted, since it's an extraneous character. In test case 2, 3/19 characters were incorrect, with the same mistake being made twice ('<' instead of '('). In test case 1, we did not translate the LaTeX but showed how the canvas drawing is being translated to a PIL image.\n",
    "\n",
    "This leads us to think more about how we would evaluate a character-by-character measurement of accuracy. What if the translation introduces more characters than exist in the original? What if we have the correct character, but it's being placed incorrectly ($\\partial c$ vs $\\partial_c$)?\n",
    "\n",
    "We can see just from test case 2 that there is a learning curve for how the user must adapt their handwriting to give the OCR the best shot at correctly converting their handwriting."
   ]
  }
 ],
 "metadata": {
  "kernelspec": {
   "display_name": "Python 3",
   "language": "python",
   "name": "python3"
  },
  "language_info": {
   "codemirror_mode": {
    "name": "ipython",
    "version": 3
   },
   "file_extension": ".py",
   "mimetype": "text/x-python",
   "name": "python",
   "nbconvert_exporter": "python",
   "pygments_lexer": "ipython3",
   "version": "3.9.4"
  }
 },
 "nbformat": 4,
 "nbformat_minor": 5
}
