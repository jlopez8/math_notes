{
 "cells": [
  {
   "cell_type": "markdown",
   "id": "b4de06d8",
   "metadata": {},
   "source": [
    "# Experimenting With tkinter"
   ]
  },
  {
   "cell_type": "markdown",
   "id": "a26c3993",
   "metadata": {},
   "source": [
    "It's possible to create fast, lightweight canvases using tkinter. By construction, canvases open in a separate window. In this folder we experiment with embedding this canvas in a cell, the way that iPyCanvas does.\n",
    "\n",
    "tkinter canvases support styling options for drawing such as line color , marker width, and canvas background color. I suggest locking these options so the user writes with a relatively narrow (width<5) black marker on a white canvas to best suit the OCR.\n",
    "\n",
    "Other code snippets explored here are related to extracting an image from tkinter canvas.\n",
    "\n",
    "Embedding tkinter is an ongoing process. tkinter operates in an independent window that serves as a canvas where drawing takes place. We must take this operation and insert it ina cell. ipycanvas works in this manner, but there is no interoperability between the tkinter class created to run the canvas and ipycanvas' method to populate a canvas inside a cell. See **Embedding in a cell** below to find the latest state of my thoughts on what could happen to make this work. "
   ]
  },
  {
   "cell_type": "code",
   "execution_count": 2,
   "id": "953b5a66",
   "metadata": {},
   "outputs": [],
   "source": [
    "from tkinter import Tk, Canvas, ttk, Button\n",
    "from tkinter import constants as con\n",
    "\n",
    "import PIL\n",
    "from PIL import ImageGrab, ImageTk, ImageDraw\n",
    "\n",
    "import random\n",
    "import string"
   ]
  },
  {
   "cell_type": "markdown",
   "id": "be1ed9ff",
   "metadata": {},
   "source": [
    "## A Simple Canvas\n",
    "\n",
    "The code below outputs a canvas in a separate window."
   ]
  },
  {
   "cell_type": "code",
   "execution_count": 2,
   "id": "6ced24b2",
   "metadata": {},
   "outputs": [],
   "source": [
    "def savePosn(event):\n",
    "    global lastx, lasty\n",
    "    lastx, lasty = event.x, event.y\n",
    "\n",
    "def addLine(event):\n",
    "    canvas.create_line((lastx, lasty, event.x, event.y))\n",
    "    savePosn(event)\n",
    "\n",
    "root = Tk()\n",
    "root.columnconfigure(0, weight=1)\n",
    "root.rowconfigure(0, weight=1)\n",
    "\n",
    "canvas = Canvas(root)\n",
    "canvas.grid(column=0, row=0, sticky=(con.N, con.W, con.E ,con.S))\n",
    "canvas.bind(\"<Button-1>\", savePosn)\n",
    "canvas.bind(\"<B1-Motion>\", addLine)\n",
    "\n",
    "root.mainloop(0)"
   ]
  },
  {
   "cell_type": "markdown",
   "id": "605e160f",
   "metadata": {},
   "source": [
    "### Output 1:\n",
    "\n",
    "The root object with the mainloop() method will open a window where drawing takes place.\n",
    "\n",
    "<img src=\"./figures/tkinter_canvas_1.png\" alt=\"Kitten\" title=\"A cute kitten\" width=\"350\" height=\"100\" /> \n"
   ]
  },
  {
   "cell_type": "markdown",
   "id": "273f6842",
   "metadata": {},
   "source": [
    "## Another Canvas\n",
    "\n",
    "This canvas encapsulates the code above."
   ]
  },
  {
   "cell_type": "code",
   "execution_count": 7,
   "id": "7effc2d5",
   "metadata": {},
   "outputs": [],
   "source": [
    "class Sketchpad(Canvas):\n",
    "    def __init__(self, parent, **kwargs):\n",
    "        super().__init__(parent, **kwargs)\n",
    "        self.bind(\"<Button-1>\", self.save_posn)\n",
    "        self.bind(\"<B1-Motion>\", self.add_line)\n",
    "        \n",
    "    def save_posn(self, event):\n",
    "        self.lastx, self.lasty = event.x, event.y\n",
    "\n",
    "    def add_line(self, event):        \n",
    "        self.create_line((self.lastx, self.lasty, event.x, event.y),\n",
    "                         fill=\"black\", width=1)\n",
    "        self.save_posn(event)\n",
    "\n",
    "        \n",
    "root = Tk()\n",
    "root.columnconfigure(0, weight=1)\n",
    "root.rowconfigure(0, weight=1)\n",
    "\n",
    "sketch = Sketchpad(root,background=\"white\")\n",
    "sketch.grid(column=0, row=0, sticky=(con.N, con.W, con.E, con.S))\n",
    "\n",
    "root.mainloop()"
   ]
  },
  {
   "cell_type": "markdown",
   "id": "6d16d21f",
   "metadata": {},
   "source": [
    "### Output 2:\n",
    "\n",
    "With the default options.\n",
    "\n",
    "<img src=\"./figures/tkinter_canvas_2.png\" alt=\"\" title=\"\" width=\"350\" height=\"100\" /> "
   ]
  },
  {
   "cell_type": "markdown",
   "id": "004d21dd",
   "metadata": {},
   "source": [
    "### Output 3:\n",
    "\n",
    "Playing with multiple options can be done like this:  \n",
    "\n",
    "`self.create_line((self.lastx, self.lasty, event.x, event.y), fill=\"red\", width=5)`\n",
    "\n",
    "There are issues with wider paint brushes in that they tend to segment.  I think the color black with a width <5 is best so the OCR receives quality data.  Background color can alos play a role. Best set this to white so there is a higher contrast between writing (black) and canvas (white)."
   ]
  },
  {
   "cell_type": "markdown",
   "id": "19302efc",
   "metadata": {},
   "source": [
    "<img src=\"./figures/tkinter_canvas_3.png\" alt=\"\" title=\"\" width=\"350\" height=\"100\" /> \n",
    "\n",
    "<img src=\"./figures/tkinter_canvas_4.png\" alt=\"\" title=\"\" width=\"350\" height=\"100\" /> \n",
    "\n",
    "<img src=\"./figures/tkinter_canvas_5.png\" alt=\"\" title=\"\" width=\"350\" height=\"100\" /> "
   ]
  },
  {
   "cell_type": "markdown",
   "id": "bb95b6d4",
   "metadata": {},
   "source": [
    "### Output 4:\n",
    "\n",
    "Tkinter canvas with a white background.\n",
    "\n",
    "`sketch = Sketchpad(root,background=\"white\")`"
   ]
  },
  {
   "cell_type": "markdown",
   "id": "a33a152e",
   "metadata": {},
   "source": [
    "<img src=\"./figures/tkinter_canvas_6.png\" alt=\"\" title=\"\" width=\"350\" height=\"100\" /> "
   ]
  },
  {
   "cell_type": "markdown",
   "id": "aecc0f93",
   "metadata": {},
   "source": [
    "## Extracting the tkinter Canvas Image"
   ]
  },
  {
   "cell_type": "markdown",
   "id": "2ccd1d9a",
   "metadata": {},
   "source": [
    "Working with tkinter, we employ code to capture the writing on the canvas widget."
   ]
  },
  {
   "cell_type": "markdown",
   "id": "ffd66d2f",
   "metadata": {},
   "source": [
    "### Working Basic Hello World Application tkinter"
   ]
  },
  {
   "cell_type": "markdown",
   "id": "99b6c542",
   "metadata": {},
   "source": [
    "This application showcases a button that can be used to close a tkinter widget."
   ]
  },
  {
   "cell_type": "code",
   "execution_count": 7,
   "id": "8d422944",
   "metadata": {},
   "outputs": [],
   "source": [
    "import tkinter as tk\n",
    "\n",
    "class Application(tk.Frame):\n",
    "    def __init__(self, master=None):\n",
    "        super().__init__(master)\n",
    "        self.master = master\n",
    "        self.pack()\n",
    "        self.create_widgets()\n",
    "\n",
    "    def create_widgets(self):\n",
    "        self.hi_there = tk.Button(self)\n",
    "        self.hi_there[\"text\"] = \"Hello World\\n(click me)\"\n",
    "        self.hi_there[\"command\"] = self.say_hi\n",
    "        self.hi_there.pack(side=\"top\")\n",
    "\n",
    "        self.quit = tk.Button(self, text=\"QUIT\", fg=\"red\",\n",
    "                              command=self.master.destroy)\n",
    "        self.quit.pack(side=\"bottom\")\n",
    "\n",
    "    def say_hi(self):\n",
    "        print(\"hi there, everyone!\")"
   ]
  },
  {
   "cell_type": "code",
   "execution_count": 6,
   "id": "a2b802ba",
   "metadata": {},
   "outputs": [],
   "source": [
    "root = tk.Tk()\n",
    "app = Application(master=root)\n",
    "app.mainloop()"
   ]
  },
  {
   "cell_type": "markdown",
   "id": "ff3c3b7c",
   "metadata": {},
   "source": [
    "### Output 5:"
   ]
  },
  {
   "cell_type": "markdown",
   "id": "57c69bb2",
   "metadata": {},
   "source": [
    "<img src = \"figures/tkinter_canvas_7.png\" />"
   ]
  },
  {
   "cell_type": "markdown",
   "id": "69f84ea3",
   "metadata": {},
   "source": [
    "### Saving tkinter Canvas To A File: Part 1\n",
    "\n",
    "This code shows how to use PIL's ImageGrab to save the tkinter canvas. It doesn't yet work for us because it requires the drawing process to be finished. "
   ]
  },
  {
   "cell_type": "code",
   "execution_count": 8,
   "id": "2af02266",
   "metadata": {},
   "outputs": [],
   "source": [
    "def getter(widget):\n",
    "    x=root.winfo_rootx()+widget.winfo_x()\n",
    "    y=root.winfo_rooty()+widget.winfo_y()\n",
    "    x1=x+widget.winfo_width()\n",
    "    y1=y+widget.winfo_height()\n",
    "    ImageGrab.grab().crop((x,y,x1,y1)).save(\"ex.png\")\n",
    "\n",
    "root = tk.Tk()\n",
    "cv = Canvas(root)\n",
    "cv.create_rectangle(10,10,50,50)\n",
    "cv.pack()\n",
    "\n",
    "getter(cv)"
   ]
  },
  {
   "cell_type": "code",
   "execution_count": 9,
   "id": "c6da4b9b",
   "metadata": {},
   "outputs": [],
   "source": [
    "root.mainloop()"
   ]
  },
  {
   "cell_type": "markdown",
   "id": "21a84f5e",
   "metadata": {},
   "source": [
    "<img src=\"figures/tkinter_canvas_8.png\" width = 300 />"
   ]
  },
  {
   "cell_type": "markdown",
   "id": "6a761550",
   "metadata": {},
   "source": [
    "### Saving tkinter Canvas To File: Part 2\n",
    "\n",
    "This code is from: https://www.youtube.com/watch?v=OdDCsxfI8S0"
   ]
  },
  {
   "cell_type": "code",
   "execution_count": 23,
   "id": "534c7df2",
   "metadata": {},
   "outputs": [
    {
     "data": {
      "text/plain": [
       "'4595397248paint'"
      ]
     },
     "execution_count": 23,
     "metadata": {},
     "output_type": "execute_result"
    }
   ],
   "source": [
    "def rnd_image_filename(N=10):\n",
    "    filetag=\"\".join(random.choices(string.ascii_uppercase + string.digits, k=N))\n",
    "    filename=\"canvas_img_\"+filetag+\".png\"\n",
    "    return filename\n",
    "\n",
    "def save():\n",
    "    filename = rnd_image_filename(N=5)\n",
    "    canvas_image.save(filename)\n",
    "\n",
    "def paint(event):\n",
    "    # python_green = \"#476042\"\n",
    "    x1, y1 = (event.x - 1), (event.y - 1)\n",
    "    x2, y2 = (event.x + 1), (event.y + 1)\n",
    "    cv.create_oval(x1, y1, x2, y2,fill=\"black\",width=2)\n",
    "    draw.line([x1, y1, x2, y2],fill=\"black\",width=2)\n",
    "\n",
    "width = 600\n",
    "height = 400\n",
    "center = height//2\n",
    "white = (255, 255, 255)\n",
    "background = \"white\"\n",
    "green = (0,128,0)\n",
    "\n",
    "root = Tk()\n",
    "\n",
    "# Instantiate tkinter create a canvas to draw on.\n",
    "cv = Canvas(root, width=width, height=height, bg=background)\n",
    "cv.pack()\n",
    "\n",
    "# Use PIL to create an empty image and draw object to draw on\n",
    "# memory only, not visible to the user.\n",
    "canvas_image = PIL.Image.new(\"RGB\", (width, height), white)\n",
    "draw = ImageDraw.Draw(canvas_image)\n",
    "\n",
    "cv.pack(expand=True, fill=\"both\")\n",
    "cv.bind(\"<B1-Motion>\", paint)"
   ]
  },
  {
   "cell_type": "code",
   "execution_count": 24,
   "id": "cebd528e",
   "metadata": {},
   "outputs": [],
   "source": [
    "# Create a button to save the image.  Binds to the save function.\n",
    "button = Button(text=\"save\",command=save)\n",
    "button.pack()\n",
    "root.mainloop()"
   ]
  },
  {
   "cell_type": "markdown",
   "id": "b9c02e3d",
   "metadata": {},
   "source": [
    "<img src=figures/tkinter_canvas_9.png width=500 />"
   ]
  },
  {
   "cell_type": "markdown",
   "id": "9b62ca00",
   "metadata": {},
   "source": [
    "### Embedding tkingter In A Cell"
   ]
  },
  {
   "cell_type": "markdown",
   "id": "7a1aae7e-e239-433d-b385-9029370b431c",
   "metadata": {},
   "source": [
    "From the documentation, it looks like only an ipycanvas widget will work well here. \n",
    "It remains to be seen if tkinter can be instantiated inside a cell. \n",
    "\n",
    "We can explore the ipycanvas code for inspiration. The ipycanvas code, replicated here below."
   ]
  },
  {
   "cell_type": "markdown",
   "id": "dd543d1b",
   "metadata": {},
   "source": [
    "tkinter embeds a canvas in a cell by using its ipywidget `HBox`.\n",
    "Below are the imports for ipycanvas."
   ]
  },
  {
   "cell_type": "code",
   "execution_count": 1,
   "id": "435855be",
   "metadata": {},
   "outputs": [],
   "source": [
    "from ipywidgets import Image, ColorPicker, IntSlider, link, AppLayout, HBox\n",
    "from ipycanvas import RoughCanvas, hold_canvas"
   ]
  },
  {
   "cell_type": "markdown",
   "id": "6e96f2b4",
   "metadata": {},
   "source": [
    "ipycanvas uses an object called RoughCanvas (type = <class 'ipycanvas.canvas.RoughCanvas'>) as the actual canvas widget the user draws on. \n",
    "\n",
    "Further down **HBox** (type = <class 'ipywidgets.widgets.widget_box.HBox'>) is applied to a tuple of widgets, which the user can interact with to style the drawing of the canvas. For now, the option below only admits the canvas and no other widgets. \n",
    "\n",
    "**HBox** is a cell container for the RoughCanvas. This what the user sees immediately below a cell to draw in. I'm thinking this can be modified to use tkinter's canvas instead, in lieu of finding a solution that exists for tkinter exclusively, which I don't exactly see."
   ]
  },
  {
   "cell_type": "code",
   "execution_count": 8,
   "id": "5163b58a",
   "metadata": {},
   "outputs": [
    {
     "data": {
      "text/plain": [
       "<traitlets.traitlets.link at 0x112babdf0>"
      ]
     },
     "execution_count": 8,
     "metadata": {},
     "output_type": "execute_result"
    }
   ],
   "source": [
    "def on_mouse_down(x, y):\n",
    "    global drawing\n",
    "    global position\n",
    "    global shape\n",
    "\n",
    "    drawing = True\n",
    "    position = (x, y)\n",
    "    shape = [position]\n",
    "\n",
    "def on_mouse_move(x, y):\n",
    "    global drawing\n",
    "    global position\n",
    "    global shape\n",
    "\n",
    "    if not drawing:\n",
    "        return\n",
    "\n",
    "    with hold_canvas(canvas):\n",
    "        canvas.stroke_line(position[0], position[1], x, y)\n",
    "        position = (x, y)\n",
    "\n",
    "    shape.append(position)\n",
    "\n",
    "def on_mouse_up(x, y):\n",
    "    global drawing\n",
    "    global position\n",
    "    global shape\n",
    "\n",
    "    drawing = False\n",
    "    \n",
    "    with hold_canvas(canvas):\n",
    "        canvas.stroke_line(position[0], position[1], x, y)\n",
    "\n",
    "# Use these settings to modify the canvase size\n",
    "width = 800\n",
    "height = 200\n",
    "\n",
    "canvas = RoughCanvas(width=width, height=height)\n",
    "\n",
    "drawing = False\n",
    "position = None\n",
    "shape = []\n",
    "\n",
    "canvas.on_mouse_down(on_mouse_down)\n",
    "canvas.on_mouse_move(on_mouse_move)\n",
    "canvas.on_mouse_up(on_mouse_up)\n",
    "canvas.stroke_style = \"#749cb8\"\n",
    "canvas.line_width = 5.0\n",
    "\n",
    "picker = ColorPicker(description=\"Color:\", value=\"black\")\n",
    "link((picker, \"value\"), (canvas, \"stroke_style\"))\n",
    "link((picker, \"value\"), (canvas, \"fill_style\"))"
   ]
  },
  {
   "cell_type": "code",
   "execution_count": null,
   "id": "db496755-72d7-446b-89be-e112554feb7f",
   "metadata": {},
   "outputs": [],
   "source": [
    "# HBox that actually draws the widget being used.\n",
    "HBox((canvas,))"
   ]
  },
  {
   "cell_type": "markdown",
   "id": "a7a274e0-142e-47cb-bafb-2c50284738cc",
   "metadata": {},
   "source": [
    "<img src=\"figures/tkinter_canvas_10.png\" width=500 />"
   ]
  }
 ],
 "metadata": {
  "kernelspec": {
   "display_name": "Python 3",
   "language": "python",
   "name": "python3"
  },
  "language_info": {
   "codemirror_mode": {
    "name": "ipython",
    "version": 3
   },
   "file_extension": ".py",
   "mimetype": "text/x-python",
   "name": "python",
   "nbconvert_exporter": "python",
   "pygments_lexer": "ipython3",
   "version": "3.9.2"
  }
 },
 "nbformat": 4,
 "nbformat_minor": 5
}
