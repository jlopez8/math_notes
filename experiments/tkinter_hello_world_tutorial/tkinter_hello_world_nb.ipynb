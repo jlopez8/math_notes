{
 "cells": [
  {
   "cell_type": "markdown",
   "id": "6fda3a43",
   "metadata": {},
   "source": [
    "# Tkinter hello world tutorial\n",
    "\n"
   ]
  },
  {
   "cell_type": "markdown",
   "id": "7272c385",
   "metadata": {},
   "source": [
    "A basic hello world application tutorial using tkinter that includes some features like buttons and text to showcase its use.\n",
    "\n",
    "You can find the tutorial here: https://www.geeksforgeeks.org/hello-world-in-tkinter/.\n",
    "\n"
   ]
  },
  {
   "cell_type": "code",
   "execution_count": 1,
   "id": "a5f30a56",
   "metadata": {},
   "outputs": [],
   "source": [
    "# wild card import tkinter\n",
    "from tkinter import * "
   ]
  },
  {
   "cell_type": "markdown",
   "id": "45c9c397",
   "metadata": {},
   "source": [
    "Create a root widget by calling `TK()`"
   ]
  },
  {
   "cell_type": "code",
   "execution_count": null,
   "id": "5796b23a",
   "metadata": {},
   "outputs": [],
   "source": [
    "root=Tk()"
   ]
  },
  {
   "cell_type": "markdown",
   "id": "aa3af35e",
   "metadata": {},
   "source": [
    "instantiate a label widget to am text or icon or image"
   ]
  },
  {
   "cell_type": "code",
   "execution_count": null,
   "id": "61575825",
   "metadata": {},
   "outputs": [],
   "source": [
    "a = Label(root, text=\"Hello, world!\")"
   ]
  },
  {
   "cell_type": "markdown",
   "id": "a0f02d90",
   "metadata": {},
   "source": [
    "Use `pack` to tell label to size itself to fit the given text and make itself visible.  \n",
    "tells the geometry manager to put widgets in the same row or column"
   ]
  },
  {
   "cell_type": "code",
   "execution_count": null,
   "id": "e0248a2b",
   "metadata": {},
   "outputs": [],
   "source": [
    "a.pack()"
   ]
  },
  {
   "cell_type": "markdown",
   "id": "69b7f429",
   "metadata": {},
   "source": [
    "Now use the method `root.mainloop()` to actually display objects and widgets created so they are rendered on the screen. This will create a window using an endless loop and will wait for user interaction until we close it. The cell will keep running until we do that."
   ]
  },
  {
   "cell_type": "code",
   "execution_count": null,
   "id": "669e1632",
   "metadata": {},
   "outputs": [],
   "source": [
    "# comment out to maintain flow of rest of program\n",
    "root.mainloop()"
   ]
  },
  {
   "cell_type": "markdown",
   "id": "46cd2830",
   "metadata": {},
   "source": [
    "**Result**\n",
    "<img src=\"./figures/hello_world_1.png\" alt=\"\" title=\"\" width=\"150\" height=\"100\" /> "
   ]
  },
  {
   "cell_type": "markdown",
   "id": "ae4a385a",
   "metadata": {},
   "source": [
    "Let's add a title with `root.title(\"title\")`. Define window geometry with `root.geometry('length x width')`"
   ]
  },
  {
   "cell_type": "code",
   "execution_count": null,
   "id": "0ac3947f",
   "metadata": {},
   "outputs": [],
   "source": [
    "root=Tk()\n",
    "a = Label(root, text=\"Hello, world!\")\n",
    "root.title(\"Tkinter Hello World Tutotrial\")\n",
    "root.geometry('350x200')\n",
    "root.mainloop()"
   ]
  },
  {
   "cell_type": "markdown",
   "id": "293f0454",
   "metadata": {},
   "source": [
    "**Root**\n",
    "<img src=\"./figures/hello_world_2.png\" alt=\"\" title=\"\" width=\"300\" height=\"100\" /> "
   ]
  },
  {
   "cell_type": "markdown",
   "id": "8fed817d",
   "metadata": {},
   "source": [
    "Now we can add a label and change the configuration using `grid()`, which is a geometry manager that keeps the label in the right place. Without any params it will just place the label at (0,0)."
   ]
  },
  {
   "cell_type": "code",
   "execution_count": null,
   "id": "e587da5d",
   "metadata": {},
   "outputs": [],
   "source": [
    "root=Tk()\n",
    "\n",
    "root.title(\"Tkinter Hello World Tutotrial\")\n",
    "\n",
    "root.geometry('350x200')\n",
    "\n",
    "lbl = Label(root, text = \"Hello, world!\")\n",
    "lbl.grid(row=1, column=2)\n",
    "\n",
    "root.mainloop()"
   ]
  },
  {
   "cell_type": "markdown",
   "id": "c7013149",
   "metadata": {},
   "source": [
    "Let's add a **button** to the root window that will display a text and also allow a color change to it."
   ]
  },
  {
   "cell_type": "code",
   "execution_count": null,
   "id": "c9f8789c",
   "metadata": {},
   "outputs": [],
   "source": [
    "root = Tk()\n",
    "\n",
    "root.title(\"Tkinter Hello World Tutotrial\")\n",
    "\n",
    "root.geometry('350x200')\n",
    "\n",
    "lbl = Label(root, text = \"Hello, world!\")\n",
    "lbl.grid(column=1,row=2)\n",
    "\n",
    "# this function can be called from the button argument\n",
    "def clicked():\n",
    "    # this will override the text from the earlier label\n",
    "    lbl.configure(text = \"This button just got clicked\")\n",
    "    \n",
    "# define the button\n",
    "# fg = red is the text\n",
    "btn = Button(root, text = \"Click me\", \n",
    "             fg = \"red\", command=clicked) \n",
    "\n",
    "# set button location on grid\n",
    "btn.grid(column=1, row=0)\n",
    "\n",
    "root.mainloop()"
   ]
  },
  {
   "cell_type": "markdown",
   "id": "665fe60a",
   "metadata": {},
   "source": [
    "We can use the `Entry()` class to create a textbox for user input. We get user entered text w the `get()` function. "
   ]
  },
  {
   "cell_type": "code",
   "execution_count": 2,
   "id": "e88d3357",
   "metadata": {},
   "outputs": [],
   "source": [
    "root = Tk()\n",
    "\n",
    "root.title(\"Tkinter Hello World Tutotrial\")\n",
    "root.geometry('350x200')\n",
    "\n",
    "#lbl w no particular location default to (0,0)\n",
    "lbl = Label(root, text= \"Hello, world!\")\n",
    "lbl.grid()\n",
    "\n",
    "# create an entry field for the user\n",
    "# place to the right of the label\n",
    "txt = Entry(root, width=10)\n",
    "txt.grid(column = 1, row = 0)\n",
    "\n",
    "# modify the clicked function to display user text\n",
    "def clicked():\n",
    "    # get text function is the actual text entered \n",
    "    # using the txt object\n",
    "    res = \"You wrote\" + txt.get()\n",
    "    # update teh label from current text to user text\n",
    "    lbl.configure(text = res)\n",
    "    \n",
    "# create the button\n",
    "# place at column 2 ie to the right of the entry text box\n",
    "btn = Button(root, text = \"Click me\", \n",
    "             fg = \"red\", command=clicked)\n",
    "btn.grid(column=2, row=0)\n",
    "\n",
    "# execute tkinter\n",
    "root.mainloop()\n"
   ]
  },
  {
   "cell_type": "markdown",
   "id": "f3a8160c",
   "metadata": {},
   "source": [
    "<img src=\"figures/hello_world_3.png\" width=\"300\" /> \n",
    "<img src=\"figures/hello_world_4.png\" width=\"300\" /> \n"
   ]
  },
  {
   "cell_type": "markdown",
   "id": "10fd35c8",
   "metadata": {},
   "source": [
    "Now we can add a menu bar using the `Menu` class. Create a menu, then add a lable, then assign this menu to the window. Menu items are added using `add_cascade()`.   "
   ]
  },
  {
   "cell_type": "code",
   "execution_count": 2,
   "id": "e6fe4577",
   "metadata": {},
   "outputs": [],
   "source": [
    "from tkinter import *\n",
    "root = Tk()\n",
    "\n",
    "root.title(\"Tkinter Hello World Tutotrial\")\n",
    "root.geometry('350x200')\n",
    "\n",
    "# menu bar to the root window\n",
    "# create a menu instance\n",
    "# create an item instance, using the menu instance\n",
    "menu = Menu(root)\n",
    "item = Menu(menu)\n",
    "\n",
    "# something here is brokennnn\n",
    "# work with the item instance\n",
    "item.add_command(label='New')\n",
    "menu.add_cascade(label='File', menu=item)\n",
    "root.config(menu=menu)\n",
    "\n",
    "# # lbl w no particular location default to (0,0)\n",
    "lbl = Label(root, text= \"Hello, world!\")\n",
    "lbl.grid()\n",
    "\n",
    "# create an entry field for the user\n",
    "# place to the right of the label\n",
    "txt = Entry(root, width=10)\n",
    "txt.grid(column = 1, row = 0)\n",
    "\n",
    "# modify the clicked function to display user text\n",
    "def clicked():\n",
    "    # get text function is the actual text entered \n",
    "    # using the txt object\n",
    "    res = \"You wrote \" + txt.get()\n",
    "    \n",
    "    # update teh label from current text to user text\n",
    "    lbl.configure(text = res)\n",
    "    \n",
    "# create the button\n",
    "# place at column 2 ie to the right of the entry text box\n",
    "btn = Button(root, text = \"Click me\", \n",
    "             fg = \"red\", command=clicked)\n",
    "btn.grid(column=2, row=0)\n",
    "\n",
    "# execute tkinter\n",
    "root.mainloop()"
   ]
  },
  {
   "cell_type": "code",
   "execution_count": null,
   "id": "eb02a36a",
   "metadata": {},
   "outputs": [],
   "source": []
  },
  {
   "cell_type": "code",
   "execution_count": null,
   "id": "7725aa2e",
   "metadata": {},
   "outputs": [],
   "source": []
  }
 ],
 "metadata": {
  "kernelspec": {
   "display_name": "Python 3",
   "language": "python",
   "name": "python3"
  },
  "language_info": {
   "codemirror_mode": {
    "name": "ipython",
    "version": 3
   },
   "file_extension": ".py",
   "mimetype": "text/x-python",
   "name": "python",
   "nbconvert_exporter": "python",
   "pygments_lexer": "ipython3",
   "version": "3.9.4"
  }
 },
 "nbformat": 4,
 "nbformat_minor": 5
}
