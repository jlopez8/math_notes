{
 "cells": [
  {
   "cell_type": "markdown",
   "id": "6fda3a43",
   "metadata": {},
   "source": [
    "# Tkinter hello world tutorial\n",
    "\n"
   ]
  },
  {
   "cell_type": "markdown",
   "id": "7272c385",
   "metadata": {},
   "source": [
    "A basic hello world application tutorial using tkinter that includes some features like buttons and text to showcase its use.\n",
    "\n",
    "- You can find the tutorial here: https://www.geeksforgeeks.org/hello-world-in-tkinter/.\n",
    "- For a more broad overview of tutorial topics: https://www.geeksforgeeks.org/python-tkinter-tutorial/.\n",
    "\n",
    "Cells below are separated by different builds which add sequential functionality and experimentation to a basic root widget.\n",
    "\n",
    "Build 7 includes several widgets, including a canvas widget that depend on callbacks to enact the proper functionality. Included is a preview of this in action. "
   ]
  },
  {
   "cell_type": "code",
   "execution_count": 4,
   "id": "a5f30a56",
   "metadata": {},
   "outputs": [],
   "source": [
    "# wild card import tkinter\n",
    "from tkinter import * \n",
    "from PIL import Image, ImageDraw"
   ]
  },
  {
   "cell_type": "markdown",
   "id": "4fe0ee7a-677f-4689-8ae7-3539d527a97e",
   "metadata": {},
   "source": [
    "### Build 1\n",
    "\n",
    "Create a root widget by calling `TK()`"
   ]
  },
  {
   "cell_type": "code",
   "execution_count": null,
   "id": "5796b23a",
   "metadata": {},
   "outputs": [],
   "source": [
    "root=Tk()"
   ]
  },
  {
   "cell_type": "markdown",
   "id": "aa3af35e",
   "metadata": {},
   "source": [
    "instantiate a label widget to am text or icon or image"
   ]
  },
  {
   "cell_type": "code",
   "execution_count": null,
   "id": "61575825",
   "metadata": {},
   "outputs": [],
   "source": [
    "a = Label(root, text=\"Hello, world!\")"
   ]
  },
  {
   "cell_type": "markdown",
   "id": "a0f02d90",
   "metadata": {},
   "source": [
    "Use `pack` to tell label to size itself to fit the given text and make itself visible.  \n",
    "tells the geometry manager to put widgets in the same row or column"
   ]
  },
  {
   "cell_type": "code",
   "execution_count": null,
   "id": "e0248a2b",
   "metadata": {},
   "outputs": [],
   "source": [
    "a.pack()"
   ]
  },
  {
   "cell_type": "markdown",
   "id": "69b7f429",
   "metadata": {},
   "source": [
    "Now use the method `root.mainloop()` to actually display objects and widgets created so they are rendered on the screen. This will create a window using an endless loop and will wait for user interaction until we close it. The cell will keep running until we do that."
   ]
  },
  {
   "cell_type": "code",
   "execution_count": null,
   "id": "669e1632",
   "metadata": {},
   "outputs": [],
   "source": [
    "# comment out to maintain flow of rest of program\n",
    "root.mainloop()"
   ]
  },
  {
   "cell_type": "markdown",
   "id": "46cd2830",
   "metadata": {},
   "source": [
    "**Result**\n",
    "<img src=\"./figures/hello_world_1.png\" alt=\"\" title=\"\" width=\"150\" height=\"100\" /> "
   ]
  },
  {
   "cell_type": "markdown",
   "id": "ae4a385a",
   "metadata": {},
   "source": [
    "### Build 2\n",
    "\n",
    "Let's add a title with `root.title(\"title\")`. Define window geometry with `root.geometry('length x width')`"
   ]
  },
  {
   "cell_type": "code",
   "execution_count": null,
   "id": "0ac3947f",
   "metadata": {},
   "outputs": [],
   "source": [
    "root=Tk()\n",
    "a = Label(root, text=\"Hello, world!\")\n",
    "root.title(\"Tkinter Hello World Tutotrial\")\n",
    "root.geometry('350x200')\n",
    "root.mainloop()"
   ]
  },
  {
   "cell_type": "markdown",
   "id": "293f0454",
   "metadata": {},
   "source": [
    "**Root**\n",
    "<img src=\"./figures/hello_world_2.png\" alt=\"\" title=\"\" width=\"300\" height=\"100\" /> "
   ]
  },
  {
   "cell_type": "markdown",
   "id": "dfb2a377-8c34-486a-a79c-a0ded7f3af5f",
   "metadata": {},
   "source": [
    "### Build 3\n",
    "\n",
    "Now we can add a label and change the configuration using `grid()`, which is a geometry manager that keeps the label in the right place. Without any params it will just place the label at (0,0)."
   ]
  },
  {
   "cell_type": "code",
   "execution_count": null,
   "id": "e587da5d",
   "metadata": {},
   "outputs": [],
   "source": [
    "root=Tk()\n",
    "\n",
    "root.title(\"Tkinter Hello World Tutotrial\")\n",
    "\n",
    "root.geometry('350x200')\n",
    "\n",
    "lbl = Label(root, text = \"Hello, world!\")\n",
    "lbl.grid(row=1, column=2)\n",
    "\n",
    "root.mainloop()"
   ]
  },
  {
   "cell_type": "markdown",
   "id": "c7013149",
   "metadata": {},
   "source": [
    "### Build 4\n",
    "\n",
    "Let's add a **button** to the root window that will display a text and also allow a color change to it."
   ]
  },
  {
   "cell_type": "code",
   "execution_count": null,
   "id": "c9f8789c",
   "metadata": {},
   "outputs": [],
   "source": [
    "root = Tk()\n",
    "\n",
    "root.title(\"Tkinter Hello World Tutotrial\")\n",
    "\n",
    "root.geometry('350x200')\n",
    "\n",
    "lbl = Label(root, text = \"Hello, world!\")\n",
    "lbl.grid(column=1,row=2)\n",
    "\n",
    "# this function can be called from the button argument\n",
    "def clicked():\n",
    "    # this will override the text from the earlier label\n",
    "    lbl.configure(text = \"This button just got clicked\")\n",
    "    \n",
    "# define the button\n",
    "# fg = red is the text\n",
    "btn = Button(root, text = \"Click me\", \n",
    "             fg = \"red\", command=clicked) \n",
    "\n",
    "# set button location on grid\n",
    "btn.grid(column=1, row=0)\n",
    "\n",
    "root.mainloop()"
   ]
  },
  {
   "cell_type": "markdown",
   "id": "665fe60a",
   "metadata": {},
   "source": [
    "### Build 5\n",
    "\n",
    "We can use the `Entry()` class to create a textbox for user input. We get user entered text w the `get()` function. "
   ]
  },
  {
   "cell_type": "code",
   "execution_count": 2,
   "id": "e88d3357",
   "metadata": {},
   "outputs": [],
   "source": [
    "root = Tk()\n",
    "\n",
    "root.title(\"Tkinter Hello World Tutotrial\")\n",
    "root.geometry('350x200')\n",
    "\n",
    "#lbl w no particular location default to (0,0)\n",
    "lbl = Label(root, text= \"Hello, world!\")\n",
    "lbl.grid()\n",
    "\n",
    "# create an entry field for the user\n",
    "# place to the right of the label\n",
    "txt = Entry(root, width=10)\n",
    "txt.grid(column = 1, row = 0)\n",
    "\n",
    "# modify the clicked function to display user text\n",
    "def clicked():\n",
    "    # get text function is the actual text entered \n",
    "    # using the txt object\n",
    "    res = \"You wrote\" + txt.get()\n",
    "    # update teh label from current text to user text\n",
    "    lbl.configure(text = res)\n",
    "    \n",
    "# create the button\n",
    "# place at column 2 ie to the right of the entry text box\n",
    "btn = Button(root, text = \"Click me\", \n",
    "             fg = \"red\", command=clicked)\n",
    "btn.grid(column=2, row=0)\n",
    "\n",
    "# execute tkinter\n",
    "root.mainloop()\n"
   ]
  },
  {
   "cell_type": "markdown",
   "id": "f3a8160c",
   "metadata": {},
   "source": [
    "<img src=\"figures/hello_world_3.png\" width=\"300\" /> \n",
    "<img src=\"figures/hello_world_4.png\" width=\"300\" /> \n"
   ]
  },
  {
   "cell_type": "markdown",
   "id": "10fd35c8",
   "metadata": {},
   "source": [
    "### Build 6\n",
    "\n",
    "Now we can add a menu bar using the `Menu` class. Create a menu, then add a lable, then assign this menu to the window. Menu items are added using `add_cascade()`.   "
   ]
  },
  {
   "cell_type": "code",
   "execution_count": 32,
   "id": "e6fe4577",
   "metadata": {},
   "outputs": [],
   "source": [
    "from tkinter import *\n",
    "root = Tk()\n",
    "\n",
    "root.title(\"Tkinter Hello World Tutotrial\")\n",
    "root.geometry('350x200')\n",
    "\n",
    "# menu bar to the root window\n",
    "# create a menu instance\n",
    "# create an item instance, using the menu instance\n",
    "menu = Menu(root)\n",
    "item = Menu(menu)\n",
    "\n",
    "# something here is brokennnn\n",
    "# work with the item instance\n",
    "item.add_command(label='New')\n",
    "menu.add_cascade(label='File', menu=item)\n",
    "root.config(menu=menu)\n",
    "\n",
    "# # lbl w no particular location default to (0,0)\n",
    "lbl = Label(root, text= \"Hello, world!\")\n",
    "lbl.grid()\n",
    "\n",
    "# create an entry field for the user\n",
    "# place to the right of the label\n",
    "txt = Entry(root, width=10)\n",
    "txt.grid(column = 1, row = 0)\n",
    "\n",
    "# modify the clicked function to display user text\n",
    "def clicked():\n",
    "    # get text function is the actual text entered \n",
    "    # using the txt object\n",
    "    res = \"You wrote \" + txt.get()\n",
    "    \n",
    "    # update teh label from current text to user text\n",
    "    lbl.configure(text = res)\n",
    "    \n",
    "# create the button\n",
    "# place at column 2 ie to the right of the entry text box\n",
    "btn = Button(root, text = \"Click me\", \n",
    "             fg = \"red\", command=clicked)\n",
    "btn.grid(column=2, row=0)\n",
    "\n",
    "# execute tkinter\n",
    "root.mainloop()"
   ]
  },
  {
   "cell_type": "markdown",
   "id": "28f97ca5-7a41-4329-8372-3a5b7878c7b8",
   "metadata": {},
   "source": [
    "<img src=\"figures/hello_world_5.png\" width=\"400\" /> "
   ]
  },
  {
   "cell_type": "markdown",
   "id": "6b40a384-7633-4d29-9905-8adc06bd425e",
   "metadata": {},
   "source": [
    "### Build 7\n",
    "\n",
    "Play around with multiple widgets and create a save option in the dropdown menu that works.   \n",
    "We have added a functionality to edit adorn the canvas using a title.\n",
    "Also allowed for entry of a custom file name to save the captured canvas image using a file dropdown."
   ]
  },
  {
   "cell_type": "code",
   "execution_count": null,
   "id": "7725aa2e",
   "metadata": {},
   "outputs": [
    {
     "name": "stdout",
     "output_type": "stream",
     "text": [
      "File was saved as:  figures/this_file_005.png\n"
     ]
    }
   ],
   "source": [
    "from tkinter import *\n",
    "from PIL import Image, ImageDraw\n",
    "import PIL\n",
    "\n",
    "height = 400\n",
    "width = 600\n",
    "white = (255,255,255)\n",
    "linecolor = \"BLACK\"\n",
    "linewidth = 3\n",
    "offset = (linewidth)/2\n",
    "\n",
    "column_label = 0\n",
    "row_label = 4\n",
    "\n",
    "column_label_2 = 0\n",
    "row_label_2 = 2\n",
    "\n",
    "column_entry_2 = 0\n",
    "row_entry_2 = 3\n",
    "\n",
    "column_entry = 0\n",
    "row_entry = 1\n",
    "\n",
    "column_button = 0\n",
    "row_button = 0\n",
    "\n",
    "column_canvas = 0\n",
    "row_canvas = 5\n",
    "\n",
    "# Define some functions\n",
    "# modify the clicked function to display user text\n",
    "def clicked():\n",
    "    # get text function is the actual text entered \n",
    "    # using the txt object\n",
    "    res = txt.get()\n",
    "    \n",
    "    # update teh label from current text to user text\n",
    "    lbl.configure(text = res)\n",
    "    \n",
    "def canvas_open():\n",
    "    \n",
    "    # save a PIL image\n",
    "    def save_canvas():\n",
    "        filename= \"figures/\" + txt2.get() + \".png\"\n",
    "        \n",
    "        if filename == \"\":\n",
    "            filename = \"figures/test_file.png\"\n",
    "            \n",
    "        canvas_image.save(filename)\n",
    "        print(\"File was saved as: \", filename)\n",
    "\n",
    "    # save cursor position\n",
    "    def save_posn(event):\n",
    "        global lastx, lasty\n",
    "        lastx, lasty = event.x, event.y\n",
    "        \n",
    "    # draw line between line draws\n",
    "    def add_line(event):\n",
    "        # the canvas call is what you see on screen\n",
    "        cv.create_line((lastx, lasty, event.x, event.y),\n",
    "                            smooth = True, width = linewidth, fill = linecolor)\n",
    "        # the draw call is in the background (invisible) capturing what will actually get converted.\n",
    "        draw.line([lastx, lasty, event.x, event.y], fill = linecolor, width = linewidth, joint = 'curve')\n",
    "        save_posn(event)\n",
    "        \n",
    "    # add functionality to the menu dropdown save canvas\n",
    "    # this is a way to trick the user into thinking there is canvas functionality before it exists.\n",
    "    save_cv_index = item.index('Save Canvas')\n",
    "    item.entryconfig(save_cv_index, command = save_canvas)\n",
    "        \n",
    "    cv = Canvas(root, height=height, width=width, bg = \"white\")\n",
    "    cv.grid(column=column_canvas, row=row_canvas)\n",
    "    \n",
    "    # PIL create an empty image and draw object to draw on\n",
    "    # memory only, not visible\n",
    "    canvas_image = PIL.Image.new(\"RGB\", (width, height), white)\n",
    "    draw = ImageDraw.Draw(canvas_image)\n",
    "    \n",
    "    cv.bind(\"<Button-1>\", save_posn)\n",
    "    cv.bind(\"<B1-Motion>\", add_line)\n",
    "    \n",
    "\n",
    "# instantiate root object\n",
    "root = Tk()\n",
    "\n",
    "root.title(\"Tkinter Hello World Tutotrial\")\n",
    "root.geometry('800x640')\n",
    "\n",
    "# menu bar to the root window\n",
    "# create a menu instance\n",
    "# create an item instance, using the menu instance\n",
    "menu = Menu(root)\n",
    "item = Menu(menu)\n",
    "\n",
    "# add commands to the menu\\\n",
    "menu.add_cascade(label = 'File', menu = item)\n",
    "item.add_command(label = 'Save Canvas')\n",
    "item.add_command(label = 'Open Canvas', command = canvas_open)\n",
    "root.config(menu=menu)\n",
    "\n",
    "# lbl\n",
    "lbl = Label(root, text = \"Hello, world!\")\n",
    "lbl.grid(column = column_label, row = row_label)\n",
    "\n",
    "# lbl\n",
    "lbl2 = Label(root, text = \"Save file name as:\")\n",
    "lbl2.grid(column = column_label_2, row = row_label_2)\n",
    "\n",
    "# create an entry field for the user\n",
    "# place to the right of the label\n",
    "txt = Entry(root, width=10)\n",
    "txt.grid(column = column_entry, row = row_entry)\n",
    "    \n",
    "# what would you like to save the file name as?\n",
    "# create entry field name for this\n",
    "txt2 = Entry(root, width=10)\n",
    "txt2.grid(column = column_entry_2, row = row_entry_2)\n",
    "\n",
    "# create the button for adding title\n",
    "btn = Button(root, text = \"Click to set drawing title.\", \n",
    "             fg = \"red\", command=clicked)\n",
    "btn.grid(column=column_button, row=row_button)\n",
    "\n",
    "# execute tkinter\n",
    "root.mainloop()"
   ]
  },
  {
   "cell_type": "markdown",
   "id": "017ee198-18c2-4cc7-92be-89b8d14b643f",
   "metadata": {},
   "source": [
    "## Preview of Build 7 Results\n",
    "\n",
    "The canvas in action is show in the top 3 images. The saved file is immediately below. File was saved as:  figures/this_file_005.png, as specified in the entry box widget."
   ]
  },
  {
   "cell_type": "markdown",
   "id": "a3738a28-cc55-47d0-8beb-8d2ab1fe56fa",
   "metadata": {},
   "source": [
    "<p float=\"left\">\n",
    "    <img src=\"figures/canvas_1_005.png\" alt=\"\" title=\"\" width=\"400\" height=\"300\" /> \n",
    "    <img src=\"figures/canvas_2_005.png\" alt=\"\" title=\"\" width=\"400\" height=\"300\" />\n",
    "    \n",
    "    <img src=\"figures/canvas_3_005.png\" alt=\"\" title=\"\" width=\"400\" height=\"300\" /> \n",
    "    <img src=\"figures/this_file_005.png\" alt=\"\" title=\"\" width=\"400\" height=\"300\" />\n",
    "</p>"
   ]
  },
  {
   "cell_type": "code",
   "execution_count": null,
   "id": "732a52cf-c4bc-4da5-946a-ffb8c5b26a82",
   "metadata": {},
   "outputs": [],
   "source": []
  }
 ],
 "metadata": {
  "kernelspec": {
   "display_name": "Python 3",
   "language": "python",
   "name": "python3"
  },
  "language_info": {
   "codemirror_mode": {
    "name": "ipython",
    "version": 3
   },
   "file_extension": ".py",
   "mimetype": "text/x-python",
   "name": "python",
   "nbconvert_exporter": "python",
   "pygments_lexer": "ipython3",
   "version": "3.9.4"
  }
 },
 "nbformat": 4,
 "nbformat_minor": 5
}
