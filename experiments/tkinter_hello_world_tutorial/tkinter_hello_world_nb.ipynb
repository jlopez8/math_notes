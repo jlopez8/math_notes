{
 "cells": [
  {
   "cell_type": "markdown",
   "id": "04fc1348",
   "metadata": {},
   "source": [
    "# Tkinter Hello World Tutorial\n",
    "\n"
   ]
  },
  {
   "cell_type": "markdown",
   "id": "f78992b0",
   "metadata": {},
   "source": [
    "A basic hello world application tutorial using tkinter that includes some features like buttons and text to showcase its use.\n",
    "\n",
    "- You can find the tutorial here: https://www.geeksforgeeks.org/hello-world-in-tkinter/.\n",
    "- For a more broad overview of tutorial topics: https://www.geeksforgeeks.org/python-tkinter-tutorial/.\n",
    "\n",
    "Cells below are separated by different builds which add sequential functionality and experimentation to a basic root widget.\n",
    "\n",
    "**Write A Canvas App** includes several widgets, including a canvas widget that depend on callbacks to enact the proper functionality. Included is a preview of this in action. "
   ]
  },
  {
   "cell_type": "markdown",
   "id": "ae3179f8",
   "metadata": {},
   "source": [
    "## Topics\n",
    "\n",
    "1. kinter hello world app\n",
    "\n",
    "2. Invoking the Root Widget\n",
    "\n",
    "3. Specifying Root Widget Properties\n",
    "\n",
    "4. Use Grid To Place Elements\n",
    "\n",
    "5. Add A Button\n",
    "\n",
    "6. Create A Textbox For User Input\n",
    "\n",
    "7. Adding a Dropdown Menu\n",
    "\n",
    "8. Write A Canvas App"
   ]
  },
  {
   "cell_type": "markdown",
   "id": "cee413e0",
   "metadata": {},
   "source": [
    "## Invoking the Root Widget\n",
    "\n",
    "Create a root widget by calling `TK()`."
   ]
  },
  {
   "cell_type": "code",
   "execution_count": 1,
   "id": "86dac41c",
   "metadata": {},
   "outputs": [],
   "source": [
    "from tkinter import * \n",
    "from PIL import Image, ImageDraw\n",
    "\n",
    "root=Tk()"
   ]
  },
  {
   "cell_type": "markdown",
   "id": "974bb3b8",
   "metadata": {},
   "source": [
    "Instantiate a label widget to am text or icon or image."
   ]
  },
  {
   "cell_type": "code",
   "execution_count": null,
   "id": "619b48f3",
   "metadata": {},
   "outputs": [],
   "source": [
    "a = Label(root, text=\"Hello, world!\")"
   ]
  },
  {
   "cell_type": "markdown",
   "id": "2fa1f028",
   "metadata": {},
   "source": [
    "Use `pack` to tell label to size itself to fit the given text and make itself visible.  \n",
    "tells the geometry manager to put widgets in the same row or column"
   ]
  },
  {
   "cell_type": "code",
   "execution_count": null,
   "id": "344a1584",
   "metadata": {},
   "outputs": [],
   "source": [
    "a.pack()"
   ]
  },
  {
   "cell_type": "markdown",
   "id": "bfc1606c",
   "metadata": {},
   "source": [
    "Now use the method `root.mainloop()` to actually display objects and widgets created so they are rendered on the screen. This will create a window using an endless loop and will wait for user interaction until we close it. The cell will keep running until we do that."
   ]
  },
  {
   "cell_type": "code",
   "execution_count": null,
   "id": "3370a6fb",
   "metadata": {},
   "outputs": [],
   "source": [
    "root.mainloop()"
   ]
  },
  {
   "cell_type": "markdown",
   "id": "11c359da",
   "metadata": {},
   "source": [
    "### Result\n",
    "<img src=\"./figures/hello_world_1.png\" alt=\"\" title=\"\" width=\"150\" height=\"100\" /> "
   ]
  },
  {
   "cell_type": "markdown",
   "id": "0df330b9",
   "metadata": {},
   "source": [
    "## Specifying Root Widget Properties\n",
    "\n",
    "Let's add a title with `root.title(\"title\")`. Define window geometry with `root.geometry('length x width')`"
   ]
  },
  {
   "cell_type": "code",
   "execution_count": 2,
   "id": "36d4f0d7",
   "metadata": {},
   "outputs": [],
   "source": [
    "from tkinter import * \n",
    "from PIL import Image, ImageDraw\n",
    "\n",
    "root=Tk()\n",
    "a = Label(root, text=\"Hello, world!\")\n",
    "\n",
    "root.title(\"Tkinter Hello World Tutotrial\")\n",
    "root.geometry(\"350x200\")\n",
    "root.mainloop()"
   ]
  },
  {
   "cell_type": "markdown",
   "id": "736faa5f",
   "metadata": {},
   "source": [
    "### Result\n",
    "\n",
    "<img src=\"./figures/hello_world_2.png\" alt=\"\" title=\"\" width=\"300\" height=\"100\" /> "
   ]
  },
  {
   "cell_type": "markdown",
   "id": "da83283a",
   "metadata": {},
   "source": [
    "## Use Grid To Place Elements\n",
    "\n",
    "Now we can add a label and change the configuration using `grid()`, which is a geometry manager that keeps the label in the right place. Without any params it will just place the label at (0,0)."
   ]
  },
  {
   "cell_type": "code",
   "execution_count": null,
   "id": "0e61cdcc",
   "metadata": {},
   "outputs": [],
   "source": [
    "from tkinter import * \n",
    "from PIL import Image, ImageDraw\n",
    "\n",
    "root=Tk()\n",
    "root.title(\"Tkinter Hello World Tutotrial\")\n",
    "root.geometry(\"350x200\")\n",
    "\n",
    "lbl = Label(root, text = \"Hello, world!\")\n",
    "lbl.grid(row=1, column=2)\n",
    "\n",
    "root.mainloop()"
   ]
  },
  {
   "cell_type": "markdown",
   "id": "ee5e5120",
   "metadata": {},
   "source": [
    "### Results\n",
    "\n",
    "<img src=\"./figures/hello_world_6.png\" alt=\"\" title=\"\" width=\"300\" height=\"100\" /> "
   ]
  },
  {
   "cell_type": "markdown",
   "id": "810e3126",
   "metadata": {},
   "source": [
    "## Add A Button\n",
    "\n",
    "Let's add a **button** to the root window that will display a text and also allow a color change to it."
   ]
  },
  {
   "cell_type": "code",
   "execution_count": null,
   "id": "3358f147",
   "metadata": {},
   "outputs": [],
   "source": [
    "from tkinter import * \n",
    "\n",
    "def clicked():\n",
    "    \"\"\"\n",
    "    Clicked() is meant to be bound to the button tkinter widget.\n",
    "    \"\"\"\n",
    "    lbl.configure(text = \"This button just got clicked\")\n",
    "\n",
    "root = Tk()\n",
    "root.title(\"Tkinter Hello World Tutotrial\")\n",
    "root.geometry(\"350x200\")\n",
    "\n",
    "lbl = Label(root, text = \"Hello, world!\")\n",
    "lbl.grid(column=1,row=2)\n",
    "\n",
    "# Define the button and set button location on grid.\n",
    "btn = Button(root, text = \"Click me\", \n",
    "             fg = \"red\", command=clicked) \n",
    "btn.grid(column=1, row=0)\n",
    "\n",
    "root.mainloop()"
   ]
  },
  {
   "cell_type": "markdown",
   "id": "882144ae",
   "metadata": {},
   "source": [
    "### Results\n",
    "\n",
    "<img src=\"./figures/hello_world_7.png\" alt=\"\" title=\"\" width=\"300\" height=\"100\" /> "
   ]
  },
  {
   "cell_type": "markdown",
   "id": "5f3f94a3",
   "metadata": {},
   "source": [
    "## Create A Textbox For User Input\n",
    "\n",
    "We can use the `Entry()` class to create a textbox for user input. We get user entered text w the `get()` function. "
   ]
  },
  {
   "cell_type": "code",
   "execution_count": null,
   "id": "d67fd06f",
   "metadata": {},
   "outputs": [],
   "source": [
    "def clicked():\n",
    "    # Get text function is the actual text entered using the txt object.\n",
    "    res = \"You wrote: \" + txt.get()\n",
    "    # Update the label from current text to user text.\n",
    "    lbl.configure(text = res)\n",
    "    \n",
    "root = Tk()\n",
    "root.title(\"Tkinter Hello World Tutotrial\")\n",
    "root.geometry(\"350x200\")\n",
    "\n",
    "# Create a label w no particular location (default is (0,0)).\n",
    "lbl = Label(root, text= \"Hello, world!\")\n",
    "lbl.grid()\n",
    "\n",
    "# Create an entry field for the user and place it to the right of the label.\n",
    "txt = Entry(root, width=10)\n",
    "txt.grid(column = 1, row = 0)\n",
    "\n",
    "# Create the button and place at column 2, ie, to the right of the entry text box. \n",
    "btn = Button(root, text = \"Click me\", \n",
    "             fg = \"red\", command=clicked)\n",
    "btn.grid(column=2, row=0)\n",
    "\n",
    "# Execute tkinter.\n",
    "root.mainloop()\n"
   ]
  },
  {
   "cell_type": "markdown",
   "id": "60024ba7",
   "metadata": {},
   "source": [
    "### Results\n",
    "\n",
    "<img src=\"figures/hello_world_3.png\" width=\"300\" /> \n",
    "<img src=\"figures/hello_world_4.png\" width=\"300\" /> \n"
   ]
  },
  {
   "cell_type": "markdown",
   "id": "274d1055",
   "metadata": {},
   "source": [
    "## Adding a Dropdown Menu\n",
    "\n",
    "Now we can add a menu bar using the `Menu` class. Create a menu, then add a label, then assign this menu to the window. Menu items are added using `add_cascade()`.   "
   ]
  },
  {
   "cell_type": "code",
   "execution_count": null,
   "id": "fe8832e7",
   "metadata": {},
   "outputs": [],
   "source": [
    "from tkinter import *\n",
    "\n",
    "def clicked():\n",
    "    res = \"You wrote: \" + txt.get()\n",
    "    lbl.configure(text = res)\n",
    "\n",
    "root = Tk()\n",
    "root.title(\"Tkinter Hello World Tutotrial\")\n",
    "root.geometry(\"350x200\")\n",
    "\n",
    "# Items and menu instances.\n",
    "menu = Menu(root)\n",
    "item = Menu(menu)\n",
    "\n",
    "# Work with the item instance.\n",
    "item.add_command(label=\"New\")\n",
    "menu.add_cascade(label=\"File\", menu=item)\n",
    "root.config(menu=menu)\n",
    "\n",
    "# Create a label.\n",
    "lbl = Label(root, text= \"Hello, world!\")\n",
    "lbl.grid()\n",
    "\n",
    "# Create an entry field for the user and place \n",
    "# it to the right of the label.\n",
    "txt = Entry(root, width=10)\n",
    "txt.grid(column = 1, row = 0)\n",
    "\n",
    "# Create the button and place at column 2, ie, \n",
    "# to the right of the entry text box.\n",
    "btn = Button(root, text = \"Click me\", \n",
    "             fg = \"red\", command=clicked)\n",
    "btn.grid(column=2, row=0)\n",
    "\n",
    "# Execute tkinter.\n",
    "root.mainloop()"
   ]
  },
  {
   "cell_type": "markdown",
   "id": "32fca00a",
   "metadata": {},
   "source": [
    "### Result\n",
    "\n",
    "<img src=\"figures/hello_world_5.png\" width=\"400\" /> "
   ]
  },
  {
   "cell_type": "markdown",
   "id": "3ce2f595",
   "metadata": {},
   "source": [
    "## Write A Canvas App\n",
    "\n",
    "Using the widgets above, along with others, we create a tkinter app that incorporates a canvas accessible through a menu. This canvas can be saved using the save option from this menu. "
   ]
  },
  {
   "cell_type": "code",
   "execution_count": 4,
   "id": "37f71f43",
   "metadata": {},
   "outputs": [],
   "source": [
    "from tkinter import *\n",
    "from PIL import Image, ImageDraw\n",
    "import PIL\n",
    "\n",
    "def clicked():\n",
    "    # get text function is the actual text entered \n",
    "    # using the txt object\n",
    "    res = txt.get()\n",
    "    \n",
    "    # update teh label from current text to user text\n",
    "    lbl.configure(text = res)\n",
    "    \n",
    "def canvas_open(height=400, width=600, \n",
    "                white = (255,255,255), \n",
    "                linecolor=\"BLACK\",\n",
    "                linewidth=3):\n",
    "    \n",
    "    # Save a PIL image. \n",
    "    def save_canvas():\n",
    "        filename= \"figures/\" + txt2.get() + \".png\"\n",
    "        \n",
    "        if txt2.get() == \"\":\n",
    "            filename = \"figures/test_file.png\"\n",
    "            \n",
    "        canvas_image.save(filename)\n",
    "        print(\"File was saved as: \", filename)\n",
    "\n",
    "    # Save the cursor position.\n",
    "    def save_posn(event):\n",
    "        global lastx, lasty\n",
    "        lastx, lasty = event.x, event.y\n",
    "        \n",
    "    # draw line between line draws\n",
    "    def add_line(event):\n",
    "        # The canvas call is what the user sees on the screen.\n",
    "        cv.create_line((lastx, lasty, event.x, event.y),\n",
    "                        smooth = True, width = linewidth, fill = linecolor)\n",
    "        \n",
    "        # The draw call is in the background (invisible) capturing what will actually get converted.\n",
    "        draw.line([lastx, lasty, event.x, event.y], \n",
    "                  fill = linecolor, width = linewidth, joint = \"curve\")\n",
    "        save_posn(event)\n",
    "        \n",
    "    offset = (linewidth)/2\n",
    "    \n",
    "    save_cv_index = item.index(\"Save Canvas\")\n",
    "    item.entryconfig(save_cv_index, command = save_canvas)\n",
    "\n",
    "    cv = Canvas(root, height=height, width=width, bg = \"white\")\n",
    "    cv.grid(column=0, row=5)\n",
    "    canvas_image = PIL.Image.new(\"RGB\", (width, height), white)\n",
    "    draw = ImageDraw.Draw(canvas_image)\n",
    "\n",
    "    cv.bind(\"<Button-1>\", save_posn)\n",
    "    cv.bind(\"<B1-Motion>\", add_line)\n",
    "    \n",
    "root = Tk()\n",
    "root.title(\"Tkinter Hello World Tutotrial\")\n",
    "root.geometry('800x640')\n",
    "\n",
    "menu = Menu(root)\n",
    "item = Menu(menu)\n",
    "menu.add_cascade(label = 'File', menu = item)\n",
    "item.add_command(label = 'Save Canvas')\n",
    "item.add_command(label = 'Open Canvas', command = canvas_open)\n",
    "root.config(menu=menu)\n",
    "\n",
    "lbl = Label(root, text = \"Hello, world!\")\n",
    "lbl.grid(column = 0, row = 4)\n",
    "lbl2 = Label(root, text = \"Save file name as:\")\n",
    "lbl2.grid(column = 0, row = 2)\n",
    "\n",
    "txt = Entry(root, width=10)\n",
    "txt.grid(column = 0, row = 1)\n",
    "txt2 = Entry(root, width=10)\n",
    "txt2.grid(column = 0, row = 3)\n",
    "\n",
    "btn = Button(root, text = \"Click to set drawing title.\", \n",
    "             fg = \"red\", command=clicked)\n",
    "btn.grid(column=0, row=0)\n",
    "\n",
    "root.mainloop()"
   ]
  },
  {
   "cell_type": "markdown",
   "id": "8d4574db",
   "metadata": {},
   "source": [
    "### Result\n",
    "\n",
    "The canvas in action is show in the top 3 images. The saved file is immediately below. File was saved as:  figures/this_file_005.png, as specified in the entry box widget."
   ]
  },
  {
   "cell_type": "markdown",
   "id": "78f84c2a",
   "metadata": {},
   "source": [
    "<p float=\"left\">\n",
    "    <img src=\"figures/canvas_1_005.png\" alt=\"\" title=\"\" width=\"400\" height=\"300\" /> \n",
    "    <img src=\"figures/canvas_2_005.png\" alt=\"\" title=\"\" width=\"400\" height=\"300\" />\n",
    "    <img src=\"figures/canvas_3_005.png\" alt=\"\" title=\"\" width=\"400\" height=\"300\" /> \n",
    "    <img src=\"figures/this_file_005.png\" alt=\"\" title=\"\" width=\"400\" height=\"300\" />\n",
    "</p>"
   ]
  }
 ],
 "metadata": {
  "kernelspec": {
   "display_name": "Python 3",
   "language": "python",
   "name": "python3"
  },
  "language_info": {
   "codemirror_mode": {
    "name": "ipython",
    "version": 3
   },
   "file_extension": ".py",
   "mimetype": "text/x-python",
   "name": "python",
   "nbconvert_exporter": "python",
   "pygments_lexer": "ipython3",
   "version": "3.9.4"
  }
 },
 "nbformat": 4,
 "nbformat_minor": 5
}
