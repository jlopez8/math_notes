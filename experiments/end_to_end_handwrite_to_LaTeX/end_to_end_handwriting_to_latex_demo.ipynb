{
 "cells": [
  {
   "cell_type": "markdown",
   "id": "d7b6011d",
   "metadata": {},
   "source": [
    "# End-to-end handwriting-to-LaTeX Demo"
   ]
  },
  {
   "cell_type": "markdown",
   "id": "e1dc54a6",
   "metadata": {},
   "source": [
    "We are demoing the process of taking handwritten math and converting to LaTeX using the top tools found in the research phase. The writing and input will be done using tkinter, where writing will occur in a separate window. The math OCR will be done with MathPix's OCR API."
   ]
  },
  {
   "cell_type": "code",
   "execution_count": 28,
   "id": "b0c1aed1-47e2-4cb9-b916-a1564950d1e8",
   "metadata": {},
   "outputs": [],
   "source": [
    "from tkinter import Tk, Canvas, ttk, Button\n",
    "from tkinter import constants as con\n",
    "\n",
    "from PIL import ImageGrab, ImageTk, ImageDraw\n",
    "import PIL\n",
    "\n",
    "import string\n",
    "import random"
   ]
  },
  {
   "cell_type": "code",
   "execution_count": 53,
   "id": "d0d989e4-f920-45e9-a48c-07557da9233c",
   "metadata": {},
   "outputs": [],
   "source": [
    "def rnd_image_filename(N=10):\n",
    "    filetag=''.join(random.choices(string.ascii_uppercase + string.digits, k=N))\n",
    "    filename=\"canvas_img_\"+filetag+\".png\"\n",
    "    return filename"
   ]
  },
  {
   "cell_type": "code",
   "execution_count": 54,
   "id": "1211a99b-abbe-4b22-a22a-665bb3bccebf",
   "metadata": {},
   "outputs": [
    {
     "name": "stdout",
     "output_type": "stream",
     "text": [
      "canvas_img_2XA87CJP0Z.png\n",
      "canvas_img_OVMJCMD57K.png\n",
      "canvas_img_M7ORVQGIX1.png\n",
      "canvas_img_OI0NL0YQI5.png\n",
      "canvas_img_8YXRLOD5KW.png\n"
     ]
    }
   ],
   "source": [
    "# unit test\n",
    "for i in range(5):\n",
    "    filename_test = rnd_image_filename()\n",
    "    print(filename_test)"
   ]
  },
  {
   "cell_type": "markdown",
   "id": "c0958fbe",
   "metadata": {},
   "source": [
    "## Phase 1: tkinter implementation\n",
    "\n",
    "This code weaves tkinter's tutorial showcase of the code with a few lines from a code from this video (https://www.youtube.com/watch?v=OdDCsxfI8S0). I've also written a way for a file to be "
   ]
  },
  {
   "cell_type": "code",
   "execution_count": 60,
   "id": "a9a6ec71-1a53-4abe-9ab2-e2638521ce1c",
   "metadata": {},
   "outputs": [
    {
     "name": "stdout",
     "output_type": "stream",
     "text": [
      "Canvas finished executing through main loop.\n"
     ]
    }
   ],
   "source": [
    "width = 600\n",
    "height = 400\n",
    "center = height//2\n",
    "white = (255, 255, 255)\n",
    "background = 'white'\n",
    "\n",
    "class sketchpad(Canvas):\n",
    "    def __init__(self, parent, **kwargs):\n",
    "        super().__init__(parent, **kwargs)\n",
    "        self.bind(\"<Button-1>\", self.save_posn)\n",
    "        self.bind(\"<B1-Motion>\", self.add_line)\n",
    "        \n",
    "    def save(N=5):\n",
    "        filename = rnd_image_filename(N=N)\n",
    "        canvas_image.save(filename)\n",
    "    \n",
    "    def save_posn(self, event):\n",
    "        self.lastx, self.lasty = event.x, event.y\n",
    "\n",
    "    def add_line(self, event):\n",
    "        # some other ways to instantiate this line\n",
    "        self.create_line((self.lastx, self.lasty, event.x, event.y),\n",
    "                         fill=\"black\", width=1)\n",
    "        self.save_posn(event)\n",
    "        \n",
    "root=Tk()\n",
    "root.columnconfigure(0, weight=1)\n",
    "root.rowconfigure(0, weight=1)\n",
    "\n",
    "sketch=sketchpad(root, background=\"white\", width=width, height=height)\n",
    "sketch.pack()\n",
    "\n",
    "# sketch.grid(column=0, row=0, sticky=(con.N, con.W, con.E, con.S))\n",
    "\n",
    "# PIL create an empty image and draw object to draw on\n",
    "# memory only, not visible\n",
    "canvas_image = PIL.Image.new(\"RGB\", (width, height), white)\n",
    "draw = ImageDraw.Draw(canvas_image)\n",
    "\n",
    "sketch.pack(expand=True, fill=\"both\")\n",
    "\n",
    "# PIL image can be saved as .png .jpg .gif or .bmp file (among others)\n",
    "# filename = \"my_drawing.png\"\n",
    "# image1.save(filename)\n",
    "button=Button(text=\"save image\", command=save)\n",
    "button.pack()\n",
    "\n",
    "root.mainloop()\n",
    "\n",
    "print(\"Canvas finished executing through main loop.\")"
   ]
  },
  {
   "cell_type": "markdown",
   "id": "2258ef0f-6ad9-4fc4-ada1-9eeb90f01709",
   "metadata": {},
   "source": [
    "The code here includes a **button** that will save the image of the canvas."
   ]
  },
  {
   "cell_type": "code",
   "execution_count": 34,
   "id": "309660a8-9c50-4e13-8549-01e5b7eb5c44",
   "metadata": {},
   "outputs": [
    {
     "name": "stdout",
     "output_type": "stream",
     "text": [
      "Complete canvas input and image save.\n"
     ]
    }
   ],
   "source": []
  },
  {
   "cell_type": "code",
   "execution_count": null,
   "id": "f194e85d-c760-4f4d-9dfa-6dde0d95222f",
   "metadata": {},
   "outputs": [],
   "source": []
  }
 ],
 "metadata": {
  "kernelspec": {
   "display_name": "Python 3",
   "language": "python",
   "name": "python3"
  },
  "language_info": {
   "codemirror_mode": {
    "name": "ipython",
    "version": 3
   },
   "file_extension": ".py",
   "mimetype": "text/x-python",
   "name": "python",
   "nbconvert_exporter": "python",
   "pygments_lexer": "ipython3",
   "version": "3.9.4"
  }
 },
 "nbformat": 4,
 "nbformat_minor": 5
}
