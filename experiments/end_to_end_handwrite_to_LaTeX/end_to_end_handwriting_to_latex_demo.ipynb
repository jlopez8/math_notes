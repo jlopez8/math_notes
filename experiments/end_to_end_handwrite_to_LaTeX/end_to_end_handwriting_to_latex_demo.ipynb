{
 "cells": [
  {
   "cell_type": "markdown",
   "id": "d7b6011d",
   "metadata": {},
   "source": [
    "# End-to-end handwriting-to-LaTeX Demo"
   ]
  },
  {
   "cell_type": "markdown",
   "id": "e1dc54a6",
   "metadata": {},
   "source": [
    "## Summary\n",
    "\n",
    "We are demoing the process of taking handwritten math and converting to LaTeX using the top tools found in the research phase. The writing and input will be done using tkinter, where writing will occur in a separate window. The math OCR will be done with MathPix's OCR API.\n",
    "\n",
    "The first test of the full workflow produced a rendered equation from a handwritten input whith about 9/11 characacters correctly. I recognize two problems contributing to this inaccuracy. The first, is the canvas drawing is not the exact image being sent. A background PIL canvas is silently keeping track of the drawing using line objects native to PIL. These objects are not presented as smoothly as the tkinter counterparts see image 2 and image 3. Another source of error is inaccurate user input, ie, bad handwriting.  \n",
    "\n",
    "Accuracy aside and bad hand-writing aside, it does show we can enact an end-to-end solution for the product."
   ]
  },
  {
   "cell_type": "markdown",
   "id": "fc9bf4ac-125a-419f-8f84-02d2321d0815",
   "metadata": {},
   "source": [
    "## Experiment start"
   ]
  },
  {
   "cell_type": "code",
   "execution_count": null,
   "id": "b0c1aed1-47e2-4cb9-b916-a1564950d1e8",
   "metadata": {},
   "outputs": [],
   "source": [
    "# image manipulation\n",
    "from tkinter import Tk, Canvas, ttk, Button\n",
    "from tkinter import constants as con\n",
    "from PIL import ImageGrab, ImageTk, ImageDraw\n",
    "import PIL\n",
    "\n",
    "# math\n",
    "import string\n",
    "import random\n",
    "from IPython.display import Markdown as md\n",
    "\n",
    "# system\n",
    "import sys\n",
    "import base64\n",
    "\n",
    "# requests\n",
    "import requests\n",
    "import json"
   ]
  },
  {
   "cell_type": "markdown",
   "id": "cee26518-2da0-425c-b74e-3078b4f8ff0f",
   "metadata": {},
   "source": [
    "**Constants for requests**"
   ]
  },
  {
   "cell_type": "code",
   "execution_count": null,
   "id": "7e897fdb-00b0-437c-ac02-da48b9613314",
   "metadata": {},
   "outputs": [],
   "source": [
    "app_id = \"jaime_meriz13_gmail_com_0ae761_524ac2\"\n",
    "app_key = \"8c504ea5335669f6a2c567f97fab91b34e6fee47f2f8ed849535dd2c2402bf24\""
   ]
  },
  {
   "cell_type": "code",
   "execution_count": 3,
   "id": "d0d989e4-f920-45e9-a48c-07557da9233c",
   "metadata": {},
   "outputs": [],
   "source": [
    "def rnd_image_filename(N=7):\n",
    "    \"\"\"\n",
    "    N: Integer.\n",
    "    How many digits to append to a file name to make it unique.\n",
    "    \n",
    "    filename: String.\n",
    "    Name of the file to be used \n",
    "    \n",
    "    7^36 = 2.6515x10^30, which is how many letters and numbers in the english \n",
    "    alphabet exsit. A choice of 7 means there are this many unique permutations.\n",
    "    It will nearly guarantee no two files will be named the same even on \n",
    "    back-to-back runs\n",
    "    \"\"\"\n",
    "    \n",
    "    filetag=''.join(random.choices(string.ascii_uppercase + string.digits, k=N))\n",
    "    filename=\"figures/canvas_img_\"+filetag+\".png\"\n",
    "    return filename"
   ]
  },
  {
   "cell_type": "code",
   "execution_count": 82,
   "id": "1211a99b-abbe-4b22-a22a-665bb3bccebf",
   "metadata": {},
   "outputs": [
    {
     "name": "stdout",
     "output_type": "stream",
     "text": [
      "figures/canvas_img_WZAZWLZ.png\n",
      "figures/canvas_img_K9N13DE.png\n",
      "figures/canvas_img_Z0ZF6IF.png\n",
      "figures/canvas_img_JT60NV4.png\n",
      "figures/canvas_img_IVRJ0NT.png\n"
     ]
    }
   ],
   "source": [
    "# unit test\n",
    "for i in range(5):\n",
    "    filename_test = rnd_image_filename()\n",
    "    print(filename_test)"
   ]
  },
  {
   "cell_type": "markdown",
   "id": "c0958fbe",
   "metadata": {},
   "source": [
    "## Phase 1: tkinter implementation\n",
    "\n",
    "This code weaves tkinter's tutorial showcase of the code with a few lines from a code from this video (https://www.youtube.com/watch?v=OdDCsxfI8S0).\n",
    "The code block below 'Pilot Canvas code' combines what happens in the code blocks below 'Simple Canvas code' and 'Canvas w Save Button'."
   ]
  },
  {
   "cell_type": "markdown",
   "id": "2258ef0f-6ad9-4fc4-ada1-9eeb90f01709",
   "metadata": {},
   "source": [
    "## Simple Canvas code\n",
    "\n",
    "- no buttons or any save feature, just drawing\n",
    "- may remove # @ diag for the original version, I don't think they're necess.\n",
    "- **< button -1 >** =  Button 1 is the leftmost button, button 2 is the middle button (where available), and button 3 the rightmost button.\n",
    "- **< B1-Motion >** =  The mouse is moved, with mouse button 1 being held down (use B2 for the middle button, B3 for the right button)."
   ]
  },
  {
   "cell_type": "code",
   "execution_count": null,
   "id": "309660a8-9c50-4e13-8549-01e5b7eb5c44",
   "metadata": {},
   "outputs": [],
   "source": [
    "# CANVAS 1\n",
    "def savePosn(event):\n",
    "    global lastx, lasty\n",
    "    lastx, lasty = event.x, event.y\n",
    "\n",
    "def addLine(event):\n",
    "    canvas.create_line((lastx, lasty, event.x, event.y))\n",
    "    savePosn(event)\n",
    "\n",
    "root = Tk()\n",
    "\n",
    "# diag: don't actually need this.\n",
    "# root.columnconfigure(0, weight=1)\n",
    "# root.rowconfigure(0, weight=1)\n",
    "\n",
    "canvas = Canvas(root, bg=\"white\")\n",
    "# diag: if you add this line, you don't need the grid\n",
    "canvas.pack()\n",
    "\n",
    "# see comment @ diag above\n",
    "# canvas.grid(column=0, row=0, sticky=(con.N, con.W, con.E ,con.S))\n",
    "canvas.bind(\"<Button-1>\", savePosn)\n",
    "canvas.bind(\"<B1-Motion>\", addLine)\n",
    "\n",
    "root.mainloop(0)"
   ]
  },
  {
   "cell_type": "markdown",
   "id": "12417956-7ca9-4205-b4a1-0fe428926252",
   "metadata": {},
   "source": [
    "## Canvas w Save Button\n",
    "\n",
    "- has the complete code from the youtube channel which will draw and save using a button.\n",
    "- the draw feature is crap, which is why we are trying to infuse the other code into it\n",
    "- modified to use **rnd_image_filename**"
   ]
  },
  {
   "cell_type": "code",
   "execution_count": null,
   "id": "f194e85d-c760-4f4d-9dfa-6dde0d95222f",
   "metadata": {},
   "outputs": [],
   "source": [
    "# this is the pilot code\n",
    "\n",
    "width = 600\n",
    "height = 400\n",
    "center = height//2\n",
    "white = (255, 255, 255)\n",
    "background = 'white'\n",
    "green = (0,128,0)\n",
    "\n",
    "def save():\n",
    "    filename = rnd_image_filename()\n",
    "    canvas_image.save(filename)\n",
    "\n",
    "def paint(event):\n",
    "    # python_green = \"#476042\"\n",
    "    x1, y1 = (event.x - 1), (event.y - 1)\n",
    "    x2, y2 = (event.x + 1), (event.y + 1)\n",
    "    cv.create_oval(x1, y1, x2, y2,fill=\"black\",width=2)\n",
    "    draw.line([x1, y1, x2, y2],fill=\"black\",width=2)\n",
    "\n",
    "root = Tk()\n",
    "\n",
    "# Tkinter create a canvas to draw on\n",
    "cv = Canvas(root, width=width, height=height, bg=background)\n",
    "cv.pack()\n",
    "\n",
    "# PIL create an empty image and draw object to draw on\n",
    "# memory only, not visible\n",
    "canvas_image = PIL.Image.new(\"RGB\", (width, height), white)\n",
    "draw = ImageDraw.Draw(canvas_image)\n",
    "\n",
    "# do the Tkinter canvas drawings (visible)\n",
    "# cv.create_line([0, center, width, center], fill='green')\n",
    "\n",
    "cv.pack(expand=True, fill=\"both\")\n",
    "cv.bind(\"<B1-Motion>\", paint)\n",
    "\n",
    "# do the PIL image/draw (in memory) drawings\n",
    "# draw.line([0, center, width, center], green)\n",
    "\n",
    "# PIL image can be saved as .png .jpg .gif or .bmp file (among others)\n",
    "# filename = \"my_drawing.png\"\n",
    "# image1.save(filename)\n",
    "button=Button(text=\"save\",command=save)\n",
    "button.pack()\n",
    "root.mainloop()\n",
    "\n",
    "print(\"Complete canvas input and image save.\")\n"
   ]
  },
  {
   "cell_type": "markdown",
   "id": "b7cfe495-2b17-4613-9003-3d87bf99c673",
   "metadata": {},
   "source": [
    "## Pilot Canvas Code\n",
    "\n",
    "- combining elements from prior code to create a canvas w a save button with smooth line drawing."
   ]
  },
  {
   "cell_type": "code",
   "execution_count": 16,
   "id": "bd631c76-9b17-4349-85ae-65d321dff91e",
   "metadata": {},
   "outputs": [],
   "source": [
    "def pilot_canvas():\n",
    "    width=600\n",
    "    height=400\n",
    "    linewidth=3\n",
    "    offset=(linewidth)/2\n",
    "    white=(255,255,255)\n",
    "    linecolor=\"BLACK\"\n",
    "\n",
    "    def save(N=5):\n",
    "        filename[\"name\"] = rnd_image_filename(N=N)\n",
    "        canvas_image.save(filename[\"name\"])\n",
    "        print(\"File was saved as: \", filename[\"name\"] )\n",
    "        \n",
    "    def savePosn(event):\n",
    "        global lastx, lasty\n",
    "        lastx, lasty = event.x, event.y\n",
    "\n",
    "    def addLine(event):\n",
    "        # the canvas call is what you see on screen\n",
    "        canvas.create_line((lastx, lasty, event.x, event.y),\n",
    "                            smooth=True,width=linewidth,fill=linecolor)\n",
    "        # the draw call is in the background (invisible) capturing what will actually get converted.\n",
    "        draw.line([lastx, lasty, event.x, event.y], fill=linecolor, width=linewidth,joint='curve')\n",
    "        savePosn(event)\n",
    "\n",
    "    root = Tk()\n",
    "\n",
    "    # Tkinter create a canvas to draw on\n",
    "    canvas = Canvas(root, bg=\"white\", width=width, height=height)\n",
    "    canvas.pack()\n",
    "\n",
    "    # PIL create an empty image and draw object to draw on\n",
    "    # memory only, not visible\n",
    "    canvas_image = PIL.Image.new(\"RGB\", (width, height), white)\n",
    "    draw = ImageDraw.Draw(canvas_image)\n",
    "\n",
    "    canvas.pack(expand=True, fill=\"both\")\n",
    "    canvas.bind(\"<Button-1>\", savePosn)\n",
    "    canvas.bind(\"<B1-Motion>\", addLine)\n",
    "\n",
    "    # Add a save button\n",
    "    button=Button(text=\"Save Image\",command=lambda: save(N=7))\n",
    "    button.pack()\n",
    "\n",
    "    # Add an exit button\n",
    "    # later....\n",
    "\n",
    "    root.mainloop()\n",
    "\n",
    "    # print(\"File was saved as: \", filename[\"name\"] )"
   ]
  },
  {
   "cell_type": "markdown",
   "id": "825e4b7d-be2c-44c0-a77a-4ec83fbd1de1",
   "metadata": {},
   "source": [
    "## Phase 2: MathPix OCR API implementation\n",
    "\n",
    "We implement code from 'top_ocr_tools_mathpix_snip' nb for submitting an API request to MathPix. \n",
    "\n",
    "-YAH"
   ]
  },
  {
   "cell_type": "code",
   "execution_count": 39,
   "id": "10520952-b521-4006-beed-dc9a5761d78a",
   "metadata": {},
   "outputs": [],
   "source": [
    "def ocr_request(filename):\n",
    "    dict_request={\n",
    "            \"src\": \"data:image/png\",\n",
    "            \"formats\": [\"text\", \"data\", \"html\"],\n",
    "            \"data_options\": {\n",
    "            \"include_asciimath\": True,\n",
    "            \"include_latex\": True\n",
    "            }\n",
    "        }\n",
    "\n",
    "    # put desired filename from earlier.\n",
    "    file_path = filename[\"name\"]\n",
    "    image_uri = \"data:image/png;base64,\" + base64.b64encode(open(file_path, \"rb\").read()).decode()\n",
    "\n",
    "    # send a request\n",
    "    r = requests.post(\"https://api.mathpix.com/v3/text\",\n",
    "        data=json.dumps({'src': image_uri}),\n",
    "        headers={\"app_id\": app_id, \n",
    "                 \"app_key\": app_key,\n",
    "                 \"Content-type\": \"application/json\"})\n",
    "\n",
    "    print(json.dumps(json.loads(r.text), indent=4, sort_keys=True))\n",
    "    \n",
    "    json_return = json.loads(r.text)\n",
    "    latex_return = json_return.get(\"latex_styled\")\n",
    "    \n",
    "    \n",
    "    # expected:\n",
    "    print(latex_return)\n",
    "    print()\n",
    "    return latex_return"
   ]
  },
  {
   "cell_type": "markdown",
   "id": "7bf87466-3323-4706-9766-81c3cccebd92",
   "metadata": {},
   "source": [
    "### Print the return request\n",
    "\n",
    "We may also want to save this so that an API request doesn't have to be made very time."
   ]
  },
  {
   "cell_type": "code",
   "execution_count": 84,
   "id": "104d7fd1-7699-4f81-bb92-9cf45741a53c",
   "metadata": {},
   "outputs": [
    {
     "name": "stdout",
     "output_type": "stream",
     "text": [
      "{\n",
      "    \"auto_rotate_confidence\": 0.011462837151636762,\n",
      "    \"auto_rotate_degrees\": 0,\n",
      "    \"confidence\": 0.47379128643166557,\n",
      "    \"confidence_rate\": 0.47379128643166557,\n",
      "    \"is_handwritten\": true,\n",
      "    \"is_printed\": false,\n",
      "    \"latex_styled\": \"\\\\sum_{m}\\\\left(_{j m}^{2}+\\\\tan \\\\left(\\\\phi_{m}\\\\right)\\\\right.\",\n",
      "    \"request_id\": \"3b08353e2e65e4a05c5d68a3061032db\",\n",
      "    \"text\": \"\\\\( \\\\sum_{m}\\\\left(_{j m}^{2}+\\\\tan \\\\left(\\\\phi_{m}\\\\right)\\\\right. \\\\)\"\n",
      "}\n"
     ]
    }
   ],
   "source": [
    "print(json.dumps(json.loads(r.text), indent=4, sort_keys=True))"
   ]
  },
  {
   "cell_type": "code",
   "execution_count": 100,
   "id": "c6463d6b-1c8e-496b-8c4f-29a5bd28d40b",
   "metadata": {},
   "outputs": [],
   "source": [
    "json_return = json.loads(r.text)\n",
    "latex_return = json_return.get(\"latex_styled\")"
   ]
  },
  {
   "cell_type": "markdown",
   "id": "88fc6ae2-8572-47fa-ada5-4d0d42dfe221",
   "metadata": {},
   "source": [
    "## Results\n",
    "\n",
    "**How well did we do??**"
   ]
  },
  {
   "cell_type": "code",
   "execution_count": 19,
   "id": "58cd2e2f-d8e0-41ee-8a10-5937fe727c68",
   "metadata": {},
   "outputs": [
    {
     "ename": "NameError",
     "evalue": "name 'latex_return' is not defined",
     "output_type": "error",
     "traceback": [
      "\u001b[0;31m---------------------------------------------------------------------------\u001b[0m",
      "\u001b[0;31mNameError\u001b[0m                                 Traceback (most recent call last)",
      "\u001b[0;32m<ipython-input-19-c9dae7ed703a>\u001b[0m in \u001b[0;36m<module>\u001b[0;34m\u001b[0m\n\u001b[1;32m      1\u001b[0m \u001b[0;31m# expected: \\sum_{m}\\left(_{j m}^{2}+\\tan \\left(\\phi_{m}\\right)\\right.\u001b[0m\u001b[0;34m\u001b[0m\u001b[0;34m\u001b[0m\u001b[0;34m\u001b[0m\u001b[0m\n\u001b[0;32m----> 2\u001b[0;31m \u001b[0mprint\u001b[0m\u001b[0;34m(\u001b[0m\u001b[0mlatex_return\u001b[0m\u001b[0;34m)\u001b[0m\u001b[0;34m\u001b[0m\u001b[0;34m\u001b[0m\u001b[0m\n\u001b[0m\u001b[1;32m      3\u001b[0m \u001b[0mprint\u001b[0m\u001b[0;34m(\u001b[0m\u001b[0;34m)\u001b[0m\u001b[0;34m\u001b[0m\u001b[0;34m\u001b[0m\u001b[0m\n\u001b[1;32m      4\u001b[0m \u001b[0mmd\u001b[0m\u001b[0;34m(\u001b[0m\u001b[0;34m\"$ %s $\"\u001b[0m\u001b[0;34m%\u001b[0m\u001b[0;34m(\u001b[0m\u001b[0mlatex_return\u001b[0m\u001b[0;34m)\u001b[0m\u001b[0;34m)\u001b[0m\u001b[0;34m\u001b[0m\u001b[0;34m\u001b[0m\u001b[0m\n",
      "\u001b[0;31mNameError\u001b[0m: name 'latex_return' is not defined"
     ]
    }
   ],
   "source": [
    "# expected: \\sum_{m}\\left(_{j m}^{2}+\\tan \\left(\\phi_{m}\\right)\\right.\n",
    "print(latex_return)\n",
    "print()\n",
    "md(\"$ %s $\"%(latex_return))"
   ]
  },
  {
   "cell_type": "markdown",
   "id": "1e01210c-1f16-4b6c-a6cc-1405e938906c",
   "metadata": {},
   "source": [
    "<img src=\"figures/canvas_img_RB.png\" alt=\"\" title=\"\" width=\"400\" height=\"300\" />"
   ]
  },
  {
   "cell_type": "markdown",
   "id": "4313037d-ebd4-4e23-a965-c6a488ceedee",
   "metadata": {},
   "source": [
    "We see that almost every character except the 'y' was converted correctly. This is in part due to bad hand-writing. Looking at how y is actually written, with a partial break at the stem, we can see how the OCR thought this was two seperate characters: one closely resembling a j and the second part of the curve resembing a parenthesis. Fortunately, a majority of the LaTeX was successfully converted, so a user could come back and fix this minor LaTeX issue.\n",
    "\n",
    "<p float=\"left\">\n",
    "  <img src=\"figures/img_6V3SBX4_cv.png\" alt=\"\" title=\"\" width=\"400\" height=\"300\" />\n",
    "  <img src=\"figures/img_6V3SBX4_pil.png\" alt=\"\" title=\"\" width=\"400\" height=\"300\" /> \n",
    "</p>\n",
    "\n",
    "The image on the left is from the canvas itself. The image on the right is PIL's hidden rendition, which can be saved and sent to the OCR. \n",
    "\n"
   ]
  },
  {
   "cell_type": "markdown",
   "id": "1a1a5f2f-0850-4676-b448-3c8423e9194e",
   "metadata": {},
   "source": [
    "## Test Case 1:\n",
    "\n",
    "Hand-write and translate the following equation:\n",
    "\n",
    "$$ \\frac{\\partial c}{\\partial t} = \\nabla \\cdot (D \\nabla c) - \\nabla \\cdot (\\mathbf{v} c) + R $$"
   ]
  },
  {
   "cell_type": "code",
   "execution_count": 37,
   "id": "e6ad89bd-5bc6-4415-b14f-ee0d1f28eb31",
   "metadata": {},
   "outputs": [],
   "source": [
    "# call the pilot_canvas()\n",
    "# filename[\"name\"] = pilot_canvas()\n",
    "\n",
    "filename[\"name\"]='figures/canvas_img_LKNB0E0.png'"
   ]
  },
  {
   "cell_type": "code",
   "execution_count": 36,
   "id": "19da06aa-0244-4323-990c-ba128d804c94",
   "metadata": {},
   "outputs": [
    {
     "data": {
      "text/plain": [
       "'figures/canvas_img_6V3SBX4.png'"
      ]
     },
     "execution_count": 36,
     "metadata": {},
     "output_type": "execute_result"
    }
   ],
   "source": [
    "filename[\"name\"]"
   ]
  },
  {
   "cell_type": "code",
   "execution_count": 41,
   "id": "5eadfd07-8fd1-4b45-b173-3598d1d84d0a",
   "metadata": {},
   "outputs": [
    {
     "name": "stdout",
     "output_type": "stream",
     "text": [
      "{\n",
      "    \"auto_rotate_confidence\": 0.006803493154929896,\n",
      "    \"auto_rotate_degrees\": 0,\n",
      "    \"confidence\": 0.21025172949225443,\n",
      "    \"confidence_rate\": 0.21025172949225443,\n",
      "    \"is_handwritten\": true,\n",
      "    \"is_printed\": false,\n",
      "    \"latex_styled\": \"\\\\left.\\\\frac{\\\\partial c}{\\\\partial t}=\\\\nabla \\\\cdot \\\\mid D \\\\nabla c\\\\right)-\\\\nabla \\\\cdot(v c)+R\",\n",
      "    \"request_id\": \"af4a7a92e4e05d08e0f6465860b2858c\",\n",
      "    \"text\": \"\\\\( \\\\left.\\\\frac{\\\\partial c}{\\\\partial t}=\\\\nabla \\\\cdot \\\\mid D \\\\nabla c\\\\right)-\\\\nabla \\\\cdot(v c)+R \\\\)\"\n",
      "}\n",
      "\\left.\\frac{\\partial c}{\\partial t}=\\nabla \\cdot \\mid D \\nabla c\\right)-\\nabla \\cdot(v c)+R\n",
      "\n"
     ]
    }
   ],
   "source": [
    "# send the API request\n",
    "latex_return=ocr_request(filename)"
   ]
  },
  {
   "cell_type": "code",
   "execution_count": 67,
   "id": "062f7730-24fb-4e96-a8d2-4184f0121f29",
   "metadata": {},
   "outputs": [
    {
     "data": {
      "text/markdown": [
       "$ \\left.\\frac{\\partial c}{\\partial t}=\\nabla \\cdot \\mid D \\nabla c\\right)-\\nabla \\cdot(v c)+R $"
      ],
      "text/plain": [
       "<IPython.core.display.Markdown object>"
      ]
     },
     "execution_count": 67,
     "metadata": {},
     "output_type": "execute_result"
    }
   ],
   "source": [
    "# print the returned request\n",
    "md(\"$ %s $\"%(latex_return))"
   ]
  },
  {
   "cell_type": "code",
   "execution_count": 68,
   "id": "7ccb0b16-0018-4d52-a8d9-7464e79ed625",
   "metadata": {},
   "outputs": [
    {
     "name": "stdout",
     "output_type": "stream",
     "text": [
      "figures/canvas_img_LKNB0E0.png\n"
     ]
    }
   ],
   "source": [
    "# compare to input image (PIL's image)\n",
    "print(filename[\"name\"])"
   ]
  },
  {
   "cell_type": "markdown",
   "id": "995831e3-b777-42ab-ae0a-d069401a22e4",
   "metadata": {},
   "source": [
    "**PIL's Image**\n",
    "<p float=\"left\">\n",
    "  <img src=\"figures/canvas_img_LKNB0E0.png\"  alt=title=\"\" width=\"400\" height=\"300\" />\n",
    "</p>\n",
    "\n",
    "**Original LaTeX**\n",
    "$$ \\frac{\\partial c}{\\partial t} = \\nabla \\cdot (D \\nabla c) - \\nabla \\cdot (\\mathbf{v} c) + R $$"
   ]
  },
  {
   "cell_type": "markdown",
   "id": "dcbef6e0-50c1-4280-9441-bdccc12cee30",
   "metadata": {},
   "source": [
    "### How did we do?\n",
    "\n",
    "We see that only one charater was incorrectly translated one character. The '(' is being confused for '|', and this is partly because the handwriting is confusing the OCR. Other sources of error are that we are using a mouse to input the LaTeX, which is generally harder to use for finer points of drawing."
   ]
  },
  {
   "cell_type": "markdown",
   "id": "43f5ed77-dd18-40b3-8233-5c9a1fae8920",
   "metadata": {},
   "source": []
  },
  {
   "cell_type": "code",
   "execution_count": null,
   "id": "6e308dd1-7f4d-4d0f-bb19-4dec994ba6c0",
   "metadata": {},
   "outputs": [],
   "source": []
  },
  {
   "cell_type": "code",
   "execution_count": null,
   "id": "001d9a9e-00c7-462c-8b2a-68ce3850c5f8",
   "metadata": {},
   "outputs": [],
   "source": []
  }
 ],
 "metadata": {
  "kernelspec": {
   "display_name": "Python 3",
   "language": "python",
   "name": "python3"
  },
  "language_info": {
   "codemirror_mode": {
    "name": "ipython",
    "version": 3
   },
   "file_extension": ".py",
   "mimetype": "text/x-python",
   "name": "python",
   "nbconvert_exporter": "python",
   "pygments_lexer": "ipython3",
   "version": "3.9.4"
  }
 },
 "nbformat": 4,
 "nbformat_minor": 5
}
