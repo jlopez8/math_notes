{
 "cells": [
  {
   "cell_type": "markdown",
   "id": "d7b6011d",
   "metadata": {},
   "source": [
    "# End-to-end handwriting-to-LaTeX Demo"
   ]
  },
  {
   "cell_type": "markdown",
   "id": "e1dc54a6",
   "metadata": {},
   "source": [
    "## Summary\n",
    "\n",
    "We are demoing the process of taking handwritten math and converting to LaTeX using the top tools found in the research phase. The writing and input will be done using tkinter, where writing will occur in a separate window. The math OCR will be done with MathPix's OCR API."
   ]
  },
  {
   "cell_type": "markdown",
   "id": "fc9bf4ac-125a-419f-8f84-02d2321d0815",
   "metadata": {},
   "source": [
    "## Experiment start"
   ]
  },
  {
   "cell_type": "code",
   "execution_count": 88,
   "id": "b0c1aed1-47e2-4cb9-b916-a1564950d1e8",
   "metadata": {},
   "outputs": [],
   "source": [
    "# image manipulation\n",
    "from tkinter import Tk, Canvas, ttk, Button\n",
    "from tkinter import constants as con\n",
    "from PIL import ImageGrab, ImageTk, ImageDraw\n",
    "import PIL\n",
    "\n",
    "# math\n",
    "import string\n",
    "import random\n",
    "from IPython.display import Markdown as md\n",
    "\n",
    "# system\n",
    "import sys\n",
    "import base64\n",
    "\n",
    "# requests\n",
    "import requests\n",
    "import json"
   ]
  },
  {
   "cell_type": "markdown",
   "id": "cee26518-2da0-425c-b74e-3078b4f8ff0f",
   "metadata": {},
   "source": [
    "**Constants for requests**"
   ]
  },
  {
   "cell_type": "code",
   "execution_count": 80,
   "id": "7e897fdb-00b0-437c-ac02-da48b9613314",
   "metadata": {},
   "outputs": [],
   "source": [
    "app_id = \"jaime_meriz13_gmail_com_0ae761_524ac2\"\n",
    "app_key = \"8c504ea5335669f6a2c567f97fab91b34e6fee47f2f8ed849535dd2c2402bf24\""
   ]
  },
  {
   "cell_type": "code",
   "execution_count": 81,
   "id": "d0d989e4-f920-45e9-a48c-07557da9233c",
   "metadata": {},
   "outputs": [],
   "source": [
    "def rnd_image_filename(N=7):\n",
    "    \"\"\"\n",
    "    N: Integer.\n",
    "    How many digits to append to a file name to make it unique.\n",
    "    \n",
    "    filename: String.\n",
    "    Name of the file to be used \n",
    "    \n",
    "    7^36 = 2.6515x10^30, which is how many letters and numbers in the english \n",
    "    alphabet exsit. A choice of 7 means there are this many unique permutations.\n",
    "    It will nearly guarantee no two files will be named the same even on \n",
    "    back-to-back runs\n",
    "    \"\"\"\n",
    "    \n",
    "    filetag=''.join(random.choices(string.ascii_uppercase + string.digits, k=N))\n",
    "    filename=\"figures/canvas_img_\"+filetag+\".png\"\n",
    "    return filename"
   ]
  },
  {
   "cell_type": "code",
   "execution_count": 82,
   "id": "1211a99b-abbe-4b22-a22a-665bb3bccebf",
   "metadata": {},
   "outputs": [
    {
     "name": "stdout",
     "output_type": "stream",
     "text": [
      "figures/canvas_img_WZAZWLZ.png\n",
      "figures/canvas_img_K9N13DE.png\n",
      "figures/canvas_img_Z0ZF6IF.png\n",
      "figures/canvas_img_JT60NV4.png\n",
      "figures/canvas_img_IVRJ0NT.png\n"
     ]
    }
   ],
   "source": [
    "# unit test\n",
    "for i in range(5):\n",
    "    filename_test = rnd_image_filename()\n",
    "    print(filename_test)"
   ]
  },
  {
   "cell_type": "markdown",
   "id": "c0958fbe",
   "metadata": {},
   "source": [
    "## Phase 1: tkinter implementation\n",
    "\n",
    "This code weaves tkinter's tutorial showcase of the code with a few lines from a code from this video (https://www.youtube.com/watch?v=OdDCsxfI8S0).\n",
    "The code block below 'Pilot Canvas code' combines what happens in the code blocks below 'Simple Canvas code' and 'Canvas w Save Button'."
   ]
  },
  {
   "cell_type": "markdown",
   "id": "2258ef0f-6ad9-4fc4-ada1-9eeb90f01709",
   "metadata": {},
   "source": [
    "## Simple Canvas code\n",
    "\n",
    "- no buttons or any save feature, just drawing\n",
    "- may remove # @ diag for the original version, I don't think they're necess.\n",
    "- **< button -1 >** =  Button 1 is the leftmost button, button 2 is the middle button (where available), and button 3 the rightmost button.\n",
    "- **< B1-Motion >** =  The mouse is moved, with mouse button 1 being held down (use B2 for the middle button, B3 for the right button)."
   ]
  },
  {
   "cell_type": "code",
   "execution_count": null,
   "id": "309660a8-9c50-4e13-8549-01e5b7eb5c44",
   "metadata": {},
   "outputs": [],
   "source": [
    "# CANVAS 1\n",
    "def savePosn(event):\n",
    "    global lastx, lasty\n",
    "    lastx, lasty = event.x, event.y\n",
    "\n",
    "def addLine(event):\n",
    "    canvas.create_line((lastx, lasty, event.x, event.y))\n",
    "    savePosn(event)\n",
    "\n",
    "root = Tk()\n",
    "\n",
    "# diag: don't actually need this.\n",
    "# root.columnconfigure(0, weight=1)\n",
    "# root.rowconfigure(0, weight=1)\n",
    "\n",
    "canvas = Canvas(root, bg=\"white\")\n",
    "# diag: if you add this line, you don't need the grid\n",
    "canvas.pack()\n",
    "\n",
    "# see comment @ diag above\n",
    "# canvas.grid(column=0, row=0, sticky=(con.N, con.W, con.E ,con.S))\n",
    "canvas.bind(\"<Button-1>\", savePosn)\n",
    "canvas.bind(\"<B1-Motion>\", addLine)\n",
    "\n",
    "root.mainloop(0)"
   ]
  },
  {
   "cell_type": "markdown",
   "id": "12417956-7ca9-4205-b4a1-0fe428926252",
   "metadata": {},
   "source": [
    "## Canvas w Save Button\n",
    "\n",
    "- has the complete code from the youtube channel which will draw and save using a button.\n",
    "- the draw feature is crap, which is why we are trying to infuse the other code into it\n",
    "- modified to use **rnd_image_filename**"
   ]
  },
  {
   "cell_type": "code",
   "execution_count": null,
   "id": "f194e85d-c760-4f4d-9dfa-6dde0d95222f",
   "metadata": {},
   "outputs": [],
   "source": [
    "# this is the pilot code\n",
    "\n",
    "width = 600\n",
    "height = 400\n",
    "center = height//2\n",
    "white = (255, 255, 255)\n",
    "background = 'white'\n",
    "green = (0,128,0)\n",
    "\n",
    "def save():\n",
    "    filename = rnd_image_filename()\n",
    "    canvas_image.save(filename)\n",
    "\n",
    "def paint(event):\n",
    "    # python_green = \"#476042\"\n",
    "    x1, y1 = (event.x - 1), (event.y - 1)\n",
    "    x2, y2 = (event.x + 1), (event.y + 1)\n",
    "    cv.create_oval(x1, y1, x2, y2,fill=\"black\",width=2)\n",
    "    draw.line([x1, y1, x2, y2],fill=\"black\",width=2)\n",
    "\n",
    "root = Tk()\n",
    "\n",
    "# Tkinter create a canvas to draw on\n",
    "cv = Canvas(root, width=width, height=height, bg=background)\n",
    "cv.pack()\n",
    "\n",
    "# PIL create an empty image and draw object to draw on\n",
    "# memory only, not visible\n",
    "canvas_image = PIL.Image.new(\"RGB\", (width, height), white)\n",
    "draw = ImageDraw.Draw(canvas_image)\n",
    "\n",
    "# do the Tkinter canvas drawings (visible)\n",
    "# cv.create_line([0, center, width, center], fill='green')\n",
    "\n",
    "cv.pack(expand=True, fill=\"both\")\n",
    "cv.bind(\"<B1-Motion>\", paint)\n",
    "\n",
    "# do the PIL image/draw (in memory) drawings\n",
    "# draw.line([0, center, width, center], green)\n",
    "\n",
    "# PIL image can be saved as .png .jpg .gif or .bmp file (among others)\n",
    "# filename = \"my_drawing.png\"\n",
    "# image1.save(filename)\n",
    "button=Button(text=\"save\",command=save)\n",
    "button.pack()\n",
    "root.mainloop()\n",
    "\n",
    "print(\"Complete canvas input and image save.\")\n"
   ]
  },
  {
   "cell_type": "markdown",
   "id": "b7cfe495-2b17-4613-9003-3d87bf99c673",
   "metadata": {},
   "source": [
    "## Pilot Canvas Code\n",
    "\n",
    "- combining elements from prior code to create a canvas w a save button with smooth line drawing."
   ]
  },
  {
   "cell_type": "code",
   "execution_count": 65,
   "id": "bd631c76-9b17-4349-85ae-65d321dff91e",
   "metadata": {},
   "outputs": [
    {
     "name": "stdout",
     "output_type": "stream",
     "text": [
      "File was saved as:  figures/canvas_img_RB.png\n"
     ]
    }
   ],
   "source": [
    "width=600\n",
    "height=400\n",
    "linewidth=3\n",
    "offset=(linewidth)/2\n",
    "white=(255,255,255)\n",
    "linecolor=\"BLACK\"\n",
    "filename = {}\n",
    "\n",
    "def save(N=5):\n",
    "    filename[\"name\"] = rnd_image_filename(N=N)\n",
    "    canvas_image.save(filename[\"name\"])\n",
    "\n",
    "def savePosn(event):\n",
    "    global lastx, lasty\n",
    "    lastx, lasty = event.x, event.y\n",
    "    \n",
    "def addLine(event):\n",
    "    # the canvas call is what you see on screen\n",
    "    canvas.create_line((lastx, lasty, event.x, event.y),\n",
    "                        smooth=True,width=linewidth,fill=linecolor)\n",
    "    # the draw call is in the background (invisible) capturing what will actually get converted.\n",
    "    draw.line([lastx, lasty, event.x, event.y], fill=linecolor, width=linewidth,joint='curve')\n",
    "    savePosn(event)\n",
    "    \n",
    "root = Tk()\n",
    "\n",
    "# Tkinter create a canvas to draw on\n",
    "canvas = Canvas(root, bg=\"white\", width=width, height=height)\n",
    "canvas.pack()\n",
    "\n",
    "# PIL create an empty image and draw object to draw on\n",
    "# memory only, not visible\n",
    "canvas_image = PIL.Image.new(\"RGB\", (width, height), white)\n",
    "draw = ImageDraw.Draw(canvas_image)\n",
    "\n",
    "canvas.pack(expand=True, fill=\"both\")\n",
    "canvas.bind(\"<Button-1>\", savePosn)\n",
    "canvas.bind(\"<B1-Motion>\", addLine)\n",
    "\n",
    "# Add a save button\n",
    "button=Button(text=\"Save Image\",command=lambda: save(N=7))\n",
    "button.pack()\n",
    "\n",
    "# Add an exit button\n",
    "# later....\n",
    "\n",
    "root.mainloop()\n",
    "\n",
    "print(\"File was saved as: \", filename[\"name\"] )"
   ]
  },
  {
   "cell_type": "markdown",
   "id": "825e4b7d-be2c-44c0-a77a-4ec83fbd1de1",
   "metadata": {},
   "source": [
    "## Phase 2: MathPix OCR API implementation\n",
    "\n",
    "We implement code from 'top_ocr_tools_mathpix_snip' nb for submitting an API request to MathPix. \n",
    "\n",
    "-YAH"
   ]
  },
  {
   "cell_type": "code",
   "execution_count": 83,
   "id": "10520952-b521-4006-beed-dc9a5761d78a",
   "metadata": {},
   "outputs": [],
   "source": [
    "dict_request={\n",
    "        \"src\": \"data:image/png\",\n",
    "        \"formats\": [\"text\", \"data\", \"html\"],\n",
    "        \"data_options\": {\n",
    "        \"include_asciimath\": True,\n",
    "        \"include_latex\": True\n",
    "        }\n",
    "    }\n",
    "    \n",
    "# put desired filename from earlier.\n",
    "file_path = filename[\"name\"]\n",
    "image_uri = \"data:image/png;base64,\" + base64.b64encode(open(file_path, \"rb\").read()).decode()\n",
    "\n",
    "# send a request\n",
    "r = requests.post(\"https://api.mathpix.com/v3/text\",\n",
    "    data=json.dumps({'src': image_uri}),\n",
    "    headers={\"app_id\": app_id, \n",
    "             \"app_key\": app_key,\n",
    "             \"Content-type\": \"application/json\"})\n",
    "\n",
    "print(json.dumps(json.loads(r.text), indent=4, sort_keys=True))"
   ]
  },
  {
   "cell_type": "markdown",
   "id": "7bf87466-3323-4706-9766-81c3cccebd92",
   "metadata": {},
   "source": [
    "### Print the return request\n",
    "\n",
    "We may also want to save this so that an API request doesn't have to be made very time."
   ]
  },
  {
   "cell_type": "code",
   "execution_count": 84,
   "id": "104d7fd1-7699-4f81-bb92-9cf45741a53c",
   "metadata": {},
   "outputs": [
    {
     "name": "stdout",
     "output_type": "stream",
     "text": [
      "{\n",
      "    \"auto_rotate_confidence\": 0.011462837151636762,\n",
      "    \"auto_rotate_degrees\": 0,\n",
      "    \"confidence\": 0.47379128643166557,\n",
      "    \"confidence_rate\": 0.47379128643166557,\n",
      "    \"is_handwritten\": true,\n",
      "    \"is_printed\": false,\n",
      "    \"latex_styled\": \"\\\\sum_{m}\\\\left(_{j m}^{2}+\\\\tan \\\\left(\\\\phi_{m}\\\\right)\\\\right.\",\n",
      "    \"request_id\": \"3b08353e2e65e4a05c5d68a3061032db\",\n",
      "    \"text\": \"\\\\( \\\\sum_{m}\\\\left(_{j m}^{2}+\\\\tan \\\\left(\\\\phi_{m}\\\\right)\\\\right. \\\\)\"\n",
      "}\n"
     ]
    }
   ],
   "source": [
    "print(json.dumps(json.loads(r.text), indent=4, sort_keys=True))"
   ]
  },
  {
   "cell_type": "code",
   "execution_count": 100,
   "id": "c6463d6b-1c8e-496b-8c4f-29a5bd28d40b",
   "metadata": {},
   "outputs": [],
   "source": [
    "json_return = json.loads(r.text)\n",
    "latex_return = json_return.get(\"latex_styled\")"
   ]
  },
  {
   "cell_type": "markdown",
   "id": "88fc6ae2-8572-47fa-ada5-4d0d42dfe221",
   "metadata": {},
   "source": [
    "## Result\n",
    "\n",
    "**How well did we do??**"
   ]
  },
  {
   "cell_type": "code",
   "execution_count": 101,
   "id": "58cd2e2f-d8e0-41ee-8a10-5937fe727c68",
   "metadata": {},
   "outputs": [
    {
     "name": "stdout",
     "output_type": "stream",
     "text": [
      "\\sum_{m}\\left(_{j m}^{2}+\\tan \\left(\\phi_{m}\\right)\\right.\n",
      "\n"
     ]
    },
    {
     "data": {
      "text/markdown": [
       "$ \\sum_{m}\\left(_{j m}^{2}+\\tan \\left(\\phi_{m}\\right)\\right. $"
      ],
      "text/plain": [
       "<IPython.core.display.Markdown object>"
      ]
     },
     "execution_count": 101,
     "metadata": {},
     "output_type": "execute_result"
    }
   ],
   "source": [
    "# expected: \\sum_{m}\\left(_{j m}^{2}+\\tan \\left(\\phi_{m}\\right)\\right.\n",
    "print(latex_return)\n",
    "print()\n",
    "md(\"$ %s $\"%(latex_return))"
   ]
  },
  {
   "cell_type": "markdown",
   "id": "1e01210c-1f16-4b6c-a6cc-1405e938906c",
   "metadata": {},
   "source": [
    "<img src=\"figures/canvas_img_RB.png\" alt=\"\" title=\"\" width=\"400\" height=\"300\" />"
   ]
  },
  {
   "cell_type": "markdown",
   "id": "a14e7229-ce90-4dfe-8281-8fbabf2b184e",
   "metadata": {},
   "source": [
    "## Conclusion"
   ]
  }
 ],
 "metadata": {
  "kernelspec": {
   "display_name": "Python 3",
   "language": "python",
   "name": "python3"
  },
  "language_info": {
   "codemirror_mode": {
    "name": "ipython",
    "version": 3
   },
   "file_extension": ".py",
   "mimetype": "text/x-python",
   "name": "python",
   "nbconvert_exporter": "python",
   "pygments_lexer": "ipython3",
   "version": "3.9.4"
  }
 },
 "nbformat": 4,
 "nbformat_minor": 5
}
