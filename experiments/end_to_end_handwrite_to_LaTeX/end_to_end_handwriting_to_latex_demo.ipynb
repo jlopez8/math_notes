{
 "cells": [
  {
   "cell_type": "markdown",
   "metadata": {},
   "source": [
    "# End-to-end handwriting-to-LaTeX Demo"
   ]
  },
  {
   "cell_type": "markdown",
   "metadata": {},
   "source": [
    "## Summary\n",
    "\n",
    "We are demoing the process of taking handwritten math and converting to LaTeX using the top tools found in the research phase. The writing and input will be done using tkinter, where writing will occur in a separate window. The math OCR will be done with MathPix's OCR API.\n",
    "\n",
    "The first test of the full workflow produced a rendered equation from a handwritten input whith about 9/11 characacters correctly. I recognize two problems contributing to this inaccuracy. The first, is the canvas drawing is not the exact image being sent. A background PIL canvas is silently keeping track of the drawing using line objects native to PIL. These objects are not presented as smoothly as the tkinter counterparts see image 2 and image 3. Another source of error is inaccurate user input, ie, bad handwriting.  \n",
    "\n",
    "Accuracy and hand-writing style aside, it does show we can enact an end-to-end solution for the product."
   ]
  },
  {
   "cell_type": "markdown",
   "metadata": {},
   "source": [
    "## Experiment start"
   ]
  },
  {
   "cell_type": "code",
   "execution_count": 1,
   "metadata": {},
   "outputs": [],
   "source": [
    "# image manipulation\n",
    "from tkinter import Tk, Canvas, ttk, Button\n",
    "from tkinter import constants as con\n",
    "from PIL import ImageGrab, ImageTk, ImageDraw\n",
    "import PIL\n",
    "\n",
    "# math\n",
    "import string\n",
    "import random\n",
    "from IPython.display import Markdown as md\n",
    "\n",
    "# system\n",
    "import sys\n",
    "import base64\n",
    "\n",
    "# requests\n",
    "import requests\n",
    "import json"
   ]
  },
  {
   "cell_type": "markdown",
   "metadata": {},
   "source": [
    "**Constants for requests**"
   ]
  },
  {
   "cell_type": "code",
   "execution_count": 2,
   "metadata": {},
   "outputs": [],
   "source": [
    "app_id = #ask owner \n",
    "app_key = #ask owner"
   ]
  },
  {
   "cell_type": "code",
   "execution_count": 4,
   "metadata": {},
   "outputs": [],
   "source": [
    "def rnd_image_filename(N=7):\n",
    "    \"\"\"\n",
    "    Creates random strings to follow a file name for uniqueness. We allow 7 numeric characters \n",
    "    \n",
    "    7^36 = 2.6515x10^30, which is how many letters and numbers in the english \n",
    "    alphabet exsit. A choice of 7 means there are this many unique permutations.\n",
    "    It will nearly guarantee no two files will be named the same even on \n",
    "    back-to-back runs. \n",
    "    \n",
    "    N: Integer.\n",
    "    How many digits to append to a file name to make it unique.\n",
    "    \n",
    "    filename: String.\n",
    "    Name of the file to be used \n",
    "    \"\"\"\n",
    "    \n",
    "    filetag=''.join(random.choices(string.ascii_uppercase + string.digits, k=N))\n",
    "    filename=\"figures/canvas_img_\"+filetag+\".png\"\n",
    "    return filename"
   ]
  },
  {
   "cell_type": "code",
   "execution_count": 5,
   "metadata": {},
   "outputs": [
    {
     "name": "stdout",
     "output_type": "stream",
     "text": [
      "figures/canvas_img_59E1UJR.png\n",
      "figures/canvas_img_6OJJSCZ.png\n",
      "figures/canvas_img_BT21910.png\n",
      "figures/canvas_img_4RAW2S4.png\n",
      "figures/canvas_img_QC3B9VS.png\n"
     ]
    }
   ],
   "source": [
    "# unit test\n",
    "for i in range(5):\n",
    "    filename_test = rnd_image_filename()\n",
    "    print(filename_test)"
   ]
  },
  {
   "cell_type": "markdown",
   "metadata": {},
   "source": [
    "## Phase 1: tkinter implementation\n",
    "\n",
    "This code weaves tkinter's tutorial showcase of the code with a few lines from a code from this video (https://www.youtube.com/watch?v=OdDCsxfI8S0).\n",
    "The code block below 'Pilot Canvas code' combines what happens in the code blocks below 'Simple Canvas code' and 'Canvas w Save Button'."
   ]
  },
  {
   "cell_type": "markdown",
   "metadata": {},
   "source": [
    "## Simple Canvas code\n",
    "\n",
    "- no buttons or any save feature, just drawing\n",
    "- may remove # @ diag for the original version, I don't think they're necess.\n",
    "- **< button -1 >** =  Button 1 is the leftmost button, button 2 is the middle button (where available), and button 3 the rightmost button.\n",
    "- **< B1-Motion >** =  The mouse is moved, with mouse button 1 being held down (use B2 for the middle button, B3 for the right button)."
   ]
  },
  {
   "cell_type": "code",
   "execution_count": null,
   "metadata": {},
   "outputs": [],
   "source": [
    "# CANVAS 1\n",
    "def savePosn(event):\n",
    "    global lastx, lasty\n",
    "    lastx, lasty = event.x, event.y\n",
    "\n",
    "def addLine(event):\n",
    "    canvas.create_line((lastx, lasty, event.x, event.y))\n",
    "    savePosn(event)\n",
    "\n",
    "root = Tk()\n",
    "\n",
    "# diag: don't actually need this.\n",
    "# root.columnconfigure(0, weight=1)\n",
    "# root.rowconfigure(0, weight=1)\n",
    "\n",
    "canvas = Canvas(root, bg=\"white\")\n",
    "# diag: if you add this line, you don't need the grid\n",
    "canvas.pack()\n",
    "\n",
    "# see comment @ diag above\n",
    "# canvas.grid(column=0, row=0, sticky=(con.N, con.W, con.E ,con.S))\n",
    "canvas.bind(\"<Button-1>\", savePosn)\n",
    "canvas.bind(\"<B1-Motion>\", addLine)\n",
    "\n",
    "root.mainloop(0)"
   ]
  },
  {
   "cell_type": "markdown",
   "metadata": {},
   "source": [
    "## Canvas w Save Button\n",
    "\n",
    "- has the complete code from the youtube channel which will draw and save using a button.\n",
    "- the draw feature is crap, which is why we are trying to infuse the other code into it\n",
    "- modified to use **rnd_image_filename**"
   ]
  },
  {
   "cell_type": "code",
   "execution_count": null,
   "metadata": {},
   "outputs": [],
   "source": [
    "# this is the pilot code\n",
    "\n",
    "width = 600\n",
    "height = 400\n",
    "center = height//2\n",
    "white = (255, 255, 255)\n",
    "background = 'white'\n",
    "green = (0,128,0)\n",
    "\n",
    "def save():\n",
    "    filename = rnd_image_filename()\n",
    "    canvas_image.save(filename)\n",
    "\n",
    "def paint(event):\n",
    "    # python_green = \"#476042\"\n",
    "    x1, y1 = (event.x - 1), (event.y - 1)\n",
    "    x2, y2 = (event.x + 1), (event.y + 1)\n",
    "    cv.create_oval(x1, y1, x2, y2,fill=\"black\",width=2)\n",
    "    draw.line([x1, y1, x2, y2],fill=\"black\",width=2)\n",
    "\n",
    "root = Tk()\n",
    "\n",
    "# Tkinter create a canvas to draw on\n",
    "cv = Canvas(root, width=width, height=height, bg=background)\n",
    "cv.pack()\n",
    "\n",
    "# PIL create an empty image and draw object to draw on\n",
    "# memory only, not visible\n",
    "canvas_image = PIL.Image.new(\"RGB\", (width, height), white)\n",
    "draw = ImageDraw.Draw(canvas_image)\n",
    "\n",
    "# do the Tkinter canvas drawings (visible)\n",
    "# cv.create_line([0, center, width, center], fill='green')\n",
    "\n",
    "cv.pack(expand=True, fill=\"both\")\n",
    "cv.bind(\"<B1-Motion>\", paint)\n",
    "\n",
    "# do the PIL image/draw (in memory) drawings\n",
    "# draw.line([0, center, width, center], green)\n",
    "\n",
    "# PIL image can be saved as .png .jpg .gif or .bmp file (among others)\n",
    "# filename = \"my_drawing.png\"\n",
    "# image1.save(filename)\n",
    "button=Button(text=\"save\",command=save)\n",
    "button.pack()\n",
    "root.mainloop()\n",
    "\n",
    "print(\"Complete canvas input and image save.\")\n"
   ]
  },
  {
   "cell_type": "markdown",
   "metadata": {},
   "source": [
    "## Pilot Canvas Code\n",
    "\n",
    "Combine elements from prior code to create a canvas w a save button with smooth line drawing."
   ]
  },
  {
   "cell_type": "code",
   "execution_count": 17,
   "metadata": {},
   "outputs": [],
   "source": [
    "def pilot_canvas(width = 800, height = 600, linecolor=\"BLACK\"):\n",
    "    \n",
    "    linewidth = 3\n",
    "    offset = (linewidth)/2\n",
    "    white = (255,255,255)\n",
    "    filename = {}\n",
    "\n",
    "    def save(N = 5):\n",
    "        filename[\"name\"] = rnd_image_filename(N=N)\n",
    "        canvas_image.save(filename[\"name\"])\n",
    "        print(\"File was saved as: \", filename[\"name\"] )\n",
    "\n",
    "    def savePosn(event):\n",
    "        global lastx, lasty\n",
    "        lastx, lasty = event.x, event.y\n",
    "\n",
    "    def addLine(event):\n",
    "        # the canvas call is what you see on screen\n",
    "        canvas.create_line((lastx, lasty, event.x, event.y),\n",
    "                            smooth = True, width = linewidth, fill = linecolor)\n",
    "        # the draw call is in the background (invisible) capturing what will actually get converted.\n",
    "        draw.line([lastx, lasty, event.x, event.y], fill = linecolor, width = linewidth, joint = 'curve')\n",
    "        savePosn(event)\n",
    "\n",
    "    root = Tk()\n",
    "\n",
    "    # Tkinter create a canvas to draw on\n",
    "    canvas = Canvas(root, bg=\"white\", width=width, height=height)\n",
    "    canvas.pack()\n",
    "\n",
    "    # PIL create an empty image and draw object to draw on\n",
    "    # memory only, not visible\n",
    "    canvas_image = PIL.Image.new(\"RGB\", (width, height), white)\n",
    "    draw = ImageDraw.Draw(canvas_image)\n",
    "\n",
    "    canvas.pack(expand = True, fill = \"both\")\n",
    "    canvas.bind(\"<Button-1>\", savePosn)\n",
    "    canvas.bind(\"<B1-Motion>\", addLine)\n",
    "\n",
    "    # Add a save button\n",
    "    button = Button(text = \"Save Image\",command = lambda: save(N = 7))\n",
    "    button.pack()\n",
    "\n",
    "    # Add an exit button\n",
    "    # later....\n",
    "\n",
    "    root.mainloop()\n",
    "\n",
    "    return filename"
   ]
  },
  {
   "cell_type": "markdown",
   "metadata": {},
   "source": [
    "## Phase 2: MathPix OCR API implementation\n",
    "\n",
    "We implement code from 'top_ocr_tools_mathpix_snip' nb for submitting an API request to MathPix. "
   ]
  },
  {
   "cell_type": "code",
   "execution_count": 15,
   "metadata": {},
   "outputs": [],
   "source": [
    "def ocr_request(filename):\n",
    "    dict_request={\n",
    "            \"src\": \"data:image/png\",\n",
    "            \"formats\": [\"text\", \"data\", \"html\"],\n",
    "            \"data_options\": {\n",
    "            \"include_asciimath\": True,\n",
    "            \"include_latex\": True\n",
    "            }\n",
    "        }\n",
    "\n",
    "    # put desired filename from earlier.\n",
    "    file_path = filename[\"name\"]\n",
    "    image_uri = \"data:image/png;base64,\" + base64.b64encode(open(file_path, \"rb\").read()).decode()\n",
    "\n",
    "    # send a request\n",
    "    r = requests.post(\"https://api.mathpix.com/v3/text\",\n",
    "        data=json.dumps({'src': image_uri}),\n",
    "        headers={\"app_id\": app_id, \n",
    "                 \"app_key\": app_key,\n",
    "                 \"Content-type\": \"application/json\"})\n",
    "\n",
    "    print(json.dumps(json.loads(r.text), indent=4, sort_keys=True))\n",
    "    \n",
    "    json_return = json.loads(r.text)\n",
    "    latex_return = json_return.get(\"latex_styled\")\n",
    "    \n",
    "    print(latex_return)\n",
    "    print()\n",
    "    return latex_return"
   ]
  },
  {
   "cell_type": "markdown",
   "metadata": {},
   "source": [
    "# Begin Testing"
   ]
  },
  {
   "cell_type": "markdown",
   "metadata": {},
   "source": [
    "## Test Case 0:\n",
    "\n",
    "Make up a random equation and try it out.\n",
    "Return from random equation drawn on the canvas. The input call is omitted.\n"
   ]
  },
  {
   "cell_type": "code",
   "execution_count": 49,
   "metadata": {},
   "outputs": [
    {
     "data": {
      "text/markdown": [
       "$ \\sum_{m}\\left(_{j m}^{2}+\\tan \\left(\\phi_{m}\\right)\\right. $"
      ],
      "text/plain": [
       "<IPython.core.display.Markdown object>"
      ]
     },
     "execution_count": 49,
     "metadata": {},
     "output_type": "execute_result"
    }
   ],
   "source": [
    "# returned: {\n",
    "#   \"text\": \"\\\\( \\\\sum_{m}\\\\left(_{j m}^{2}+\\\\tan \\\\left(\\\\phi_{m}\\\\right)\\\\right. \\\\)\",\n",
    "#   \"confidence\": 0.47379128643166557,\n",
    "#   \"is_printed\": false,\n",
    "#   \"request_id\": \"3b08353e2e65e4a05c5d68a3061032db\",\n",
    "#   \"latex_styled\": \"\\\\sum_{m}\\\\left(_{j m}^{2}+\\\\tan \\\\left(\\\\phi_{m}\\\\right)\\\\right.\",\n",
    "#   \"is_handwritten\": true,\n",
    "#   \"confidence_rate\": 0.47379128643166557,\n",
    "#   \"auto_rotate_degrees\": 0,\n",
    "#   \"auto_rotate_confidence\": 0.011462837151636762\n",
    "# }\n",
    "\n",
    "# this is what was returned\n",
    "returned_ltx = \"\\\\sum_{m}\\\\left(_{j m}^{2}+\\\\tan \\\\left(\\\\phi_{m}\\\\right)\\\\right.\"\n",
    "md(\"$ %s $\"%(returned_ltx))"
   ]
  },
  {
   "cell_type": "markdown",
   "metadata": {},
   "source": [
    "### Results"
   ]
  },
  {
   "cell_type": "markdown",
   "metadata": {},
   "source": [
    "**PIL's Image**\n",
    "\n",
    "<img src=\"figures/canvas_img_RB.png\" alt=\"\" title=\"\" width=\"400\" height=\"300\" />\n",
    "\n",
    "**Rendered LaTeX**\n",
    "\n",
    "<img src=\"figures/ren_latex_RB.png\" alt=\"\" title=\"\" width=\"400\" height=\"300\" />\n",
    "\n",
    "**Original LaTeX**  \n",
    "$\\huge \\sum_m y^2_m + \\tan(\\phi_m) $"
   ]
  },
  {
   "cell_type": "markdown",
   "metadata": {},
   "source": [
    "We see that almost every character except the 'y' was converted correctly. This is in part due to bad hand-writing. Looking at how y is actually written, with a partial break at the stem, we can see how the OCR thought this was two seperate characters: one closely resembling a j and the second part of the curve resembing a parenthesis. Fortunately, a majority of the LaTeX was successfully converted, so a user could come back and fix this minor LaTeX issue."
   ]
  },
  {
   "cell_type": "markdown",
   "metadata": {},
   "source": [
    "## Test Case 1:\n",
    "\n",
    "Take a closer look at how the drawing looks on the canvas vs the PIL's version of the drawing. The image on the right is saved and sent to the OCR. We see that PIL's image has more roughness to it, which may affect OCR accuracy. This is an issue that likely we will revisit in the coming development phases."
   ]
  },
  {
   "cell_type": "markdown",
   "metadata": {},
   "source": [
    "<p float=\"left\">\n",
    "  <img src=\"figures/img_6V3SBX4_cv.png\" alt=\"\" title=\"\" width=\"400\" height=\"300\" />\n",
    "  <img src=\"figures/img_6V3SBX4_pil.png\" alt=\"\" title=\"\" width=\"400\" height=\"300\" /> \n",
    "</p>"
   ]
  },
  {
   "cell_type": "markdown",
   "metadata": {},
   "source": [
    "## Test Case 2:\n",
    "\n",
    "Hand-write and apply end-to-end solution to the following equation:\n",
    "\n",
    "$$ \\huge \\frac{\\partial c}{\\partial t} = \\nabla \\cdot (D \\nabla c) - \\nabla \\cdot (\\mathbf{v} c) + R $$"
   ]
  },
  {
   "cell_type": "markdown",
   "metadata": {},
   "source": [
    "The file 'figures/canvas_img_YFXS3KF.png' is the saved version of my hand-drawn image. You can draw your own and use that file instead buy passing the correct argument to `ocr_request`."
   ]
  },
  {
   "cell_type": "code",
   "execution_count": 1,
   "metadata": {},
   "outputs": [
    {
     "ename": "NameError",
     "evalue": "name 'pilot_canvas' is not defined",
     "output_type": "error",
     "traceback": [
      "\u001b[0;31m---------------------------------------------------------------------------\u001b[0m",
      "\u001b[0;31mNameError\u001b[0m                                 Traceback (most recent call last)",
      "\u001b[0;32m<ipython-input-1-54239ef11322>\u001b[0m in \u001b[0;36m<module>\u001b[0;34m\u001b[0m\n\u001b[1;32m      1\u001b[0m \u001b[0;31m# call the pilot_canvas() and set the return to a dictionary\u001b[0m\u001b[0;34m\u001b[0m\u001b[0;34m\u001b[0m\u001b[0;34m\u001b[0m\u001b[0m\n\u001b[1;32m      2\u001b[0m \u001b[0;34m\u001b[0m\u001b[0m\n\u001b[0;32m----> 3\u001b[0;31m \u001b[0mfilename\u001b[0m \u001b[0;34m=\u001b[0m \u001b[0mpilot_canvas\u001b[0m\u001b[0;34m(\u001b[0m\u001b[0;34m)\u001b[0m\u001b[0;34m\u001b[0m\u001b[0;34m\u001b[0m\u001b[0m\n\u001b[0m\u001b[1;32m      4\u001b[0m \u001b[0;34m\u001b[0m\u001b[0m\n\u001b[1;32m      5\u001b[0m \u001b[0;31m# filename={\"name\":'figures/canvas_img_LKNB0E0.png'}\u001b[0m\u001b[0;34m\u001b[0m\u001b[0;34m\u001b[0m\u001b[0;34m\u001b[0m\u001b[0m\n",
      "\u001b[0;31mNameError\u001b[0m: name 'pilot_canvas' is not defined"
     ]
    }
   ],
   "source": [
    "# call the pilot_canvas() and set the return to a dictionary\n",
    "\n",
    "filename = pilot_canvas()\n",
    "\n",
    "# filename={\"name\":'figures/canvas_img_LKNB0E0.png'}"
   ]
  },
  {
   "cell_type": "code",
   "execution_count": 21,
   "metadata": {},
   "outputs": [
    {
     "name": "stdout",
     "output_type": "stream",
     "text": [
      "{\n",
      "    \"auto_rotate_confidence\": 0.02519008441753101,\n",
      "    \"auto_rotate_degrees\": 0,\n",
      "    \"confidence\": 0.3641139303316178,\n",
      "    \"confidence_rate\": 0.3641139303316178,\n",
      "    \"is_handwritten\": true,\n",
      "    \"is_printed\": false,\n",
      "    \"latex_styled\": \"\\\\frac{\\\\partial_{c}}{\\\\partial t}=\\\\nabla \\\\cdot\\\\langle D \\\\nabla c\\\\rangle-\\\\nabla \\\\cdot(v c)+R\",\n",
      "    \"request_id\": \"caae84fde22cc6bcb42fb597ce9ce9d3\",\n",
      "    \"text\": \"\\\\( \\\\frac{\\\\partial_{c}}{\\\\partial t}=\\\\nabla \\\\cdot\\\\langle D \\\\nabla c\\\\rangle-\\\\nabla \\\\cdot(v c)+R \\\\)\"\n",
      "}\n",
      "\\frac{\\partial_{c}}{\\partial t}=\\nabla \\cdot\\langle D \\nabla c\\rangle-\\nabla \\cdot(v c)+R\n",
      "\n"
     ]
    }
   ],
   "source": [
    "# send the API request\n",
    "latex_return=ocr_request(filename)"
   ]
  },
  {
   "cell_type": "code",
   "execution_count": 51,
   "metadata": {},
   "outputs": [
    {
     "data": {
      "text/markdown": [
       "$ \\frac{\\partial_{c}}{\\partial t}=\\nabla \\cdot\\langle D \\nabla c\\rangle-\\nabla \\cdot(v c)+R $"
      ],
      "text/plain": [
       "<IPython.core.display.Markdown object>"
      ]
     },
     "execution_count": 51,
     "metadata": {},
     "output_type": "execute_result"
    }
   ],
   "source": [
    "# print the returned request\n",
    "md(\"$ %s $\"%(latex_return))"
   ]
  },
  {
   "cell_type": "markdown",
   "metadata": {},
   "source": [
    "## Compare inputs and outputs to ideal"
   ]
  },
  {
   "cell_type": "code",
   "execution_count": 29,
   "metadata": {},
   "outputs": [
    {
     "name": "stdout",
     "output_type": "stream",
     "text": [
      "figures/canvas_img_YFXS3KF.png\n"
     ]
    }
   ],
   "source": [
    "# compare to input image (PIL's image)\n",
    "print(filename[\"name\"])\n",
    "# figures/canvas_img_YFXS3KF.png"
   ]
  },
  {
   "cell_type": "markdown",
   "metadata": {},
   "source": [
    "**PIL's Image**\n",
    "<p float=\"left\">\n",
    "  <img src=figures/canvas_img_YFXS3KF.png width=\"300\" />\n",
    "</p>\n",
    "\n",
    "**Rendered LaTeX Image**\n",
    "<p float=\"left\">\n",
    "  <img src=figures/ren_latex_YFXS3KF.png width=\"350\" />\n",
    "</p>\n",
    "\n",
    "\n",
    "**Original LaTeX**  \n",
    "$ \\LARGE \\frac{\\partial c}{\\partial t} = \\nabla \\cdot (D \\nabla c) - \\nabla \\cdot (\\mathbf{v} c) + R $\n"
   ]
  },
  {
   "cell_type": "markdown",
   "metadata": {},
   "source": [
    "### How did we do?\n",
    "\n",
    "In test case 0, roughly 1/10 characters was incorrect, with 1 error not counted, since it's an extraneous character. In test case 2, 3/19 characters were incorrect, with the same mistake being made twice ('<' instead of '('). In test case 1, we did not translate the LaTeX but showed how the canvas drawing is being translated to a PIL image.\n",
    "\n",
    "This leads us to think more about how we would evaluate a character-by-character measurement of accuracy. What if the translation introduces more characters than exist in the original? What if we have the correct character, but it's being placed incorrectly ($\\partial c$ vs $\\partial_c$)?\n",
    "\n",
    "W"
   ]
  },
  {
   "cell_type": "code",
   "execution_count": null,
   "metadata": {},
   "outputs": [],
   "source": []
  }
 ],
 "metadata": {
  "kernelspec": {
   "display_name": "Python 3",
   "language": "python",
   "name": "python3"
  },
  "language_info": {
   "codemirror_mode": {
    "name": "ipython",
    "version": 3
   },
   "file_extension": ".py",
   "mimetype": "text/x-python",
   "name": "python",
   "nbconvert_exporter": "python",
   "pygments_lexer": "ipython3",
   "version": "3.8.5"
  }
 },
 "nbformat": 4,
 "nbformat_minor": 5
}
