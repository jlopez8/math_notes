{
 "cells": [
  {
   "cell_type": "markdown",
   "id": "d7b6011d",
   "metadata": {},
   "source": [
    "# End - to - end handwriting-to-LaTeX Demo"
   ]
  },
  {
   "cell_type": "markdown",
   "id": "e1dc54a6",
   "metadata": {},
   "source": [
    "We are demoing the process of taking handwritten math and converting to LaTeX using the top tools found in the research phase. The writing and input will be done using tkinter, where writing will occur in a separate window. The math OCR will be done with MathPix's OCR API."
   ]
  },
  {
   "cell_type": "markdown",
   "id": "c0958fbe",
   "metadata": {},
   "source": [
    "## Phase 1: tkinter implementation"
   ]
  },
  {
   "cell_type": "code",
   "execution_count": 1,
   "id": "10d3843a-bea1-4a5e-8e49-58f93e05badd",
   "metadata": {},
   "outputs": [],
   "source": [
    "# from tkinter import *\n",
    "from tkinter import Tk\n",
    "from tkinter import Canvas\n",
    "from tkinter import ttk\n",
    "from tkinter import constants as con"
   ]
  },
  {
   "cell_type": "code",
   "execution_count": 3,
   "id": "53eca4dd-5fe0-47ea-a824-d6dc6f495a52",
   "metadata": {},
   "outputs": [],
   "source": [
    "class sketchpad(Canvas):\n",
    "    def __init__(self, parent, **kwargs):\n",
    "        super().__init__(parent, **kwargs)\n",
    "        self.bind(\"<Button-1>\", self.save_posn)\n",
    "        self.bind(\"<B1-Motion>\", self.add_line)\n",
    "        \n",
    "    def save_posn(self, event):\n",
    "        self.lastx, self.lasty = event.x, event.y\n",
    "\n",
    "    def add_line(self, event):\n",
    "        # some other ways to instantiate this line\n",
    "        self.create_line((self.lastx, self.lasty, event.x, event.y),\n",
    "                         fill=\"black\", width=1)\n",
    "        self.save_posn(event)\n",
    "        \n",
    "root = Tk()\n",
    "root.columnconfigure(0, weight=1)\n",
    "root.rowconfigure(0, weight=1)\n",
    "sketch = sketchpad(root,background=\"white\")\n",
    "sketch.grid(column=0, row=0, sticky=(con.N, con.W, con.E, con.S))\n",
    "root.mainloop()"
   ]
  },
  {
   "cell_type": "code",
   "execution_count": null,
   "id": "309660a8-9c50-4e13-8549-01e5b7eb5c44",
   "metadata": {},
   "outputs": [],
   "source": []
  }
 ],
 "metadata": {
  "kernelspec": {
   "display_name": "Python 3",
   "language": "python",
   "name": "python3"
  },
  "language_info": {
   "codemirror_mode": {
    "name": "ipython",
    "version": 3
   },
   "file_extension": ".py",
   "mimetype": "text/x-python",
   "name": "python",
   "nbconvert_exporter": "python",
   "pygments_lexer": "ipython3",
   "version": "3.9.4"
  }
 },
 "nbformat": 4,
 "nbformat_minor": 5
}
