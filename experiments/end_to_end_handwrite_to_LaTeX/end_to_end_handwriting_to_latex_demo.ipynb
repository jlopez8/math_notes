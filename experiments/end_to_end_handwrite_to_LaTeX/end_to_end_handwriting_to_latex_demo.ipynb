{
 "cells": [
  {
   "cell_type": "markdown",
   "id": "d7b6011d",
   "metadata": {},
   "source": [
    "# End-to-end handwriting-to-LaTeX Demo"
   ]
  },
  {
   "cell_type": "markdown",
   "id": "e1dc54a6",
   "metadata": {},
   "source": [
    "## Summary\n",
    "\n",
    "We are demoing the process of taking handwritten math and converting to LaTeX using the top tools found in the research phase. The writing and input will be done using tkinter, where writing will occur in a separate window. The math OCR will be done with MathPix's OCR API."
   ]
  },
  {
   "cell_type": "markdown",
   "id": "fc9bf4ac-125a-419f-8f84-02d2321d0815",
   "metadata": {},
   "source": [
    "## Experiment start"
   ]
  },
  {
   "cell_type": "code",
   "execution_count": 46,
   "id": "b0c1aed1-47e2-4cb9-b916-a1564950d1e8",
   "metadata": {},
   "outputs": [],
   "source": [
    "from tkinter import Tk, Canvas, ttk, Button\n",
    "from tkinter import constants as con\n",
    "\n",
    "from PIL import ImageGrab, ImageTk, ImageDraw\n",
    "import PIL\n",
    "\n",
    "import string\n",
    "import random"
   ]
  },
  {
   "cell_type": "code",
   "execution_count": 55,
   "id": "d0d989e4-f920-45e9-a48c-07557da9233c",
   "metadata": {},
   "outputs": [],
   "source": [
    "def rnd_image_filename(N=7):\n",
    "    \"\"\"\n",
    "    N: Integer.\n",
    "    How many digits to append to a file name to make it unique.\n",
    "    \n",
    "    filename: String.\n",
    "    Name of the file to be used \n",
    "    \n",
    "    7^36 = 2.6515x10^30, which is how many letters and numbers in the english \n",
    "    alphabet exsit. A choice of 7 means there are this many unique permutations.\n",
    "    It will nearly guarantee no two files will be named the same even on \n",
    "    back-to-back runs\n",
    "    \"\"\"\n",
    "    \n",
    "    filetag=''.join(random.choices(string.ascii_uppercase + string.digits, k=N))\n",
    "    filename=\"figures/canvas_img_\"+filetag+\".png\"\n",
    "    return filename"
   ]
  },
  {
   "cell_type": "code",
   "execution_count": 56,
   "id": "1211a99b-abbe-4b22-a22a-665bb3bccebf",
   "metadata": {},
   "outputs": [
    {
     "name": "stdout",
     "output_type": "stream",
     "text": [
      "figures/canvas_img_XIW3O1M.png\n",
      "figures/canvas_img_R77IK51.png\n",
      "figures/canvas_img_D9WKKG6.png\n",
      "figures/canvas_img_4DUS0BD.png\n",
      "figures/canvas_img_74SYRPI.png\n"
     ]
    }
   ],
   "source": [
    "# unit test\n",
    "for i in range(5):\n",
    "    filename_test = rnd_image_filename()\n",
    "    print(filename_test)"
   ]
  },
  {
   "cell_type": "markdown",
   "id": "c0958fbe",
   "metadata": {},
   "source": [
    "## Phase 1: tkinter implementation\n",
    "\n",
    "This code weaves tkinter's tutorial showcase of the code with a few lines from a code from this video (https://www.youtube.com/watch?v=OdDCsxfI8S0).\n",
    "The code block below 'Pilot Canvas code' combines what happens in the code blocks below 'Simple Canvas code' and 'Canvas w Save Button'."
   ]
  },
  {
   "cell_type": "markdown",
   "id": "2258ef0f-6ad9-4fc4-ada1-9eeb90f01709",
   "metadata": {},
   "source": [
    "## Simple Canvas code\n",
    "\n",
    "- no buttons or any save feature, just drawing\n",
    "- may remove # @ diag for the original version, I don't think they're necess.\n",
    "- **< button -1 >** =  Button 1 is the leftmost button, button 2 is the middle button (where available), and button 3 the rightmost button.\n",
    "- **< B1-Motion >** =  The mouse is moved, with mouse button 1 being held down (use B2 for the middle button, B3 for the right button)."
   ]
  },
  {
   "cell_type": "code",
   "execution_count": null,
   "id": "309660a8-9c50-4e13-8549-01e5b7eb5c44",
   "metadata": {},
   "outputs": [],
   "source": [
    "# CANVAS 1\n",
    "def savePosn(event):\n",
    "    global lastx, lasty\n",
    "    lastx, lasty = event.x, event.y\n",
    "\n",
    "def addLine(event):\n",
    "    canvas.create_line((lastx, lasty, event.x, event.y))\n",
    "    savePosn(event)\n",
    "\n",
    "root = Tk()\n",
    "\n",
    "# diag: don't actually need this.\n",
    "# root.columnconfigure(0, weight=1)\n",
    "# root.rowconfigure(0, weight=1)\n",
    "\n",
    "canvas = Canvas(root, bg=\"white\")\n",
    "# diag: if you add this line, you don't need the grid\n",
    "canvas.pack()\n",
    "\n",
    "# see comment @ diag above\n",
    "# canvas.grid(column=0, row=0, sticky=(con.N, con.W, con.E ,con.S))\n",
    "canvas.bind(\"<Button-1>\", savePosn)\n",
    "canvas.bind(\"<B1-Motion>\", addLine)\n",
    "\n",
    "root.mainloop(0)"
   ]
  },
  {
   "cell_type": "markdown",
   "id": "12417956-7ca9-4205-b4a1-0fe428926252",
   "metadata": {},
   "source": [
    "## Canvas w Save Button\n",
    "\n",
    "- has the complete code from the youtube channel which will draw and save using a button.\n",
    "- the draw feature is crap, which is why we are trying to infuse the other code into it\n",
    "- modified to use **rnd_image_filename**"
   ]
  },
  {
   "cell_type": "code",
   "execution_count": null,
   "id": "f194e85d-c760-4f4d-9dfa-6dde0d95222f",
   "metadata": {},
   "outputs": [],
   "source": [
    "# this is the pilot code\n",
    "\n",
    "width = 600\n",
    "height = 400\n",
    "center = height//2\n",
    "white = (255, 255, 255)\n",
    "background = 'white'\n",
    "green = (0,128,0)\n",
    "\n",
    "def save():\n",
    "    filename = rnd_image_filename()\n",
    "    canvas_image.save(filename)\n",
    "\n",
    "def paint(event):\n",
    "    # python_green = \"#476042\"\n",
    "    x1, y1 = (event.x - 1), (event.y - 1)\n",
    "    x2, y2 = (event.x + 1), (event.y + 1)\n",
    "    cv.create_oval(x1, y1, x2, y2,fill=\"black\",width=2)\n",
    "    draw.line([x1, y1, x2, y2],fill=\"black\",width=2)\n",
    "\n",
    "root = Tk()\n",
    "\n",
    "# Tkinter create a canvas to draw on\n",
    "cv = Canvas(root, width=width, height=height, bg=background)\n",
    "cv.pack()\n",
    "\n",
    "# PIL create an empty image and draw object to draw on\n",
    "# memory only, not visible\n",
    "canvas_image = PIL.Image.new(\"RGB\", (width, height), white)\n",
    "draw = ImageDraw.Draw(canvas_image)\n",
    "\n",
    "# do the Tkinter canvas drawings (visible)\n",
    "# cv.create_line([0, center, width, center], fill='green')\n",
    "\n",
    "cv.pack(expand=True, fill=\"both\")\n",
    "cv.bind(\"<B1-Motion>\", paint)\n",
    "\n",
    "# do the PIL image/draw (in memory) drawings\n",
    "# draw.line([0, center, width, center], green)\n",
    "\n",
    "# PIL image can be saved as .png .jpg .gif or .bmp file (among others)\n",
    "# filename = \"my_drawing.png\"\n",
    "# image1.save(filename)\n",
    "button=Button(text=\"save\",command=save)\n",
    "button.pack()\n",
    "root.mainloop()\n",
    "\n",
    "print(\"Complete canvas input and image save.\")\n"
   ]
  },
  {
   "cell_type": "markdown",
   "id": "b7cfe495-2b17-4613-9003-3d87bf99c673",
   "metadata": {},
   "source": [
    "## Pilot Canvas Code\n",
    "\n",
    "- combining elements from prior code to create a canvas w a save button with smooth line drawing."
   ]
  },
  {
   "cell_type": "code",
   "execution_count": 65,
   "id": "bd631c76-9b17-4349-85ae-65d321dff91e",
   "metadata": {},
   "outputs": [
    {
     "name": "stdout",
     "output_type": "stream",
     "text": [
      "File was saved as:  figures/canvas_img_RB.png\n"
     ]
    }
   ],
   "source": [
    "width=600\n",
    "height=400\n",
    "linewidth=3\n",
    "offset=(linewidth)/2\n",
    "white=(255,255,255)\n",
    "linecolor=\"BLACK\"\n",
    "filename = {}\n",
    "\n",
    "def save(N=5):\n",
    "    filename[\"name\"] = rnd_image_filename(N=N)\n",
    "    canvas_image.save(filename[\"name\"])\n",
    "\n",
    "def savePosn(event):\n",
    "    global lastx, lasty\n",
    "    lastx, lasty = event.x, event.y\n",
    "    \n",
    "def addLine(event):\n",
    "    # the canvas call is what you see on screen\n",
    "    canvas.create_line((lastx, lasty, event.x, event.y),\n",
    "                        smooth=True,width=linewidth,fill=linecolor)\n",
    "    # the draw call is in the background (invisible) capturing what will actually get converted.\n",
    "    draw.line([lastx, lasty, event.x, event.y], fill=linecolor, width=linewidth,joint='curve')\n",
    "    savePosn(event)\n",
    "    \n",
    "root = Tk()\n",
    "\n",
    "# Tkinter create a canvas to draw on\n",
    "canvas = Canvas(root, bg=\"white\", width=width, height=height)\n",
    "canvas.pack()\n",
    "\n",
    "# PIL create an empty image and draw object to draw on\n",
    "# memory only, not visible\n",
    "canvas_image = PIL.Image.new(\"RGB\", (width, height), white)\n",
    "draw = ImageDraw.Draw(canvas_image)\n",
    "\n",
    "canvas.pack(expand=True, fill=\"both\")\n",
    "canvas.bind(\"<Button-1>\", savePosn)\n",
    "canvas.bind(\"<B1-Motion>\", addLine)\n",
    "\n",
    "# Add a save button\n",
    "button=Button(text=\"Save Image\",command=lambda: save(N=7))\n",
    "button.pack()\n",
    "\n",
    "# Add an exit button\n",
    "# later....\n",
    "\n",
    "root.mainloop()\n",
    "\n",
    "print(\"File was saved as: \", filename[\"name\"] )"
   ]
  },
  {
   "cell_type": "markdown",
   "id": "825e4b7d-be2c-44c0-a77a-4ec83fbd1de1",
   "metadata": {},
   "source": [
    "## Phase 2: MathPix OCR API implementation\n",
    "\n",
    "We implement code fr"
   ]
  },
  {
   "cell_type": "code",
   "execution_count": null,
   "id": "10520952-b521-4006-beed-dc9a5761d78a",
   "metadata": {},
   "outputs": [],
   "source": []
  }
 ],
 "metadata": {
  "kernelspec": {
   "display_name": "Python 3",
   "language": "python",
   "name": "python3"
  },
  "language_info": {
   "codemirror_mode": {
    "name": "ipython",
    "version": 3
   },
   "file_extension": ".py",
   "mimetype": "text/x-python",
   "name": "python",
   "nbconvert_exporter": "python",
   "pygments_lexer": "ipython3",
   "version": "3.9.4"
  }
 },
 "nbformat": 4,
 "nbformat_minor": 5
}
