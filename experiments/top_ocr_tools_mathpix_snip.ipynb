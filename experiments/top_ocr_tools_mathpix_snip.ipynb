{
 "cells": [
  {
   "cell_type": "markdown",
   "id": "db08ace0",
   "metadata": {},
   "source": [
    "# Experiment Top OCR Tools via Jupyter Notebooks\n",
    "\n",
    "This notebook explores the MathPix OCR tool and how to interface with it using Jupyter.\n",
    "We learn how the Python request module works to interface with APIs. \n",
    "\n",
    "We make a JSON request and generate predictions to be evaluated by us for accuracy.\n",
    "\n",
    "For any predictions, we see how we can invoke markdown to render what LaTeX is returned."
   ]
  },
  {
   "cell_type": "markdown",
   "id": "90e354d9",
   "metadata": {},
   "source": [
    "# Mathpix OCR\n",
    "\n",
    "See this link for calling an API:  \n",
    "https://medium.com/swlh/using-and-calling-an-api-with-python-494a18cb1f44"
   ]
  },
  {
   "cell_type": "code",
   "execution_count": 2,
   "id": "60531828",
   "metadata": {},
   "outputs": [],
   "source": [
    "import sys\n",
    "import base64\n",
    "import requests\n",
    "import json\n",
    "\n",
    "from IPython.display import Markdown as md"
   ]
  },
  {
   "cell_type": "markdown",
   "id": "9eac03c8",
   "metadata": {},
   "source": [
    "# Working w API Requests"
   ]
  },
  {
   "cell_type": "code",
   "execution_count": 3,
   "id": "ebda6374",
   "metadata": {},
   "outputs": [
    {
     "data": {
      "text/plain": [
       "406"
      ]
     },
     "execution_count": 3,
     "metadata": {},
     "output_type": "execute_result"
    }
   ],
   "source": [
    "r = requests.get('https://www.romexchange.com/')\n",
    "r.status_code"
   ]
  },
  {
   "cell_type": "markdown",
   "id": "d0933e54",
   "metadata": {},
   "source": [
    "We get a 406. 406 Not Acceptable.\n",
    "\n",
    "What we can do is feed it something it likes and understands rather than just the query."
   ]
  },
  {
   "cell_type": "code",
   "execution_count": 4,
   "id": "098518e5",
   "metadata": {},
   "outputs": [],
   "source": [
    "url = 'https://www.romexchange.com/'\n",
    "headers = { 'Content-type': 'application/json'}"
   ]
  },
  {
   "cell_type": "code",
   "execution_count": 5,
   "id": "24a39dd6",
   "metadata": {},
   "outputs": [
    {
     "data": {
      "text/plain": [
       "406"
      ]
     },
     "execution_count": 5,
     "metadata": {},
     "output_type": "execute_result"
    }
   ],
   "source": [
    "r = requests.get(url, headers = headers)\n",
    "r.status_code"
   ]
  },
  {
   "cell_type": "markdown",
   "id": "fb620660",
   "metadata": {},
   "source": [
    "This will still not work but it's closer...\n",
    "Problem is the default python user agane is 'python-requests/2.21.0' is likely being blocked so we'll do something else."
   ]
  },
  {
   "cell_type": "code",
   "execution_count": 6,
   "id": "de067a95",
   "metadata": {},
   "outputs": [
    {
     "data": {
      "text/plain": [
       "200"
      ]
     },
     "execution_count": 6,
     "metadata": {},
     "output_type": "execute_result"
    }
   ],
   "source": [
    "url = 'https://www.romexchange.com/'\n",
    "headers = {'User-Agent': 'XY', 'Content-type':'application/json'}\n",
    "r = requests.get(url, headers=headers)\n",
    "r.status_code"
   ]
  },
  {
   "cell_type": "markdown",
   "id": "29061deb",
   "metadata": {},
   "source": [
    "Returns a 200 so we had a valid request.\n",
    "\n",
    "Now to take a look at the content, we can call the `.text` method to get out some information."
   ]
  },
  {
   "cell_type": "code",
   "execution_count": 7,
   "id": "faae3bd8",
   "metadata": {},
   "outputs": [
    {
     "data": {
      "text/plain": [
       "'<!doctype html><html lang=\"en\"><head><meta charset=\"utf-8\"><meta name=\"viewport\" content=\"width=device-width,initial-scale=1,shrink-to-fit=no\"><meta name=\"theme-color\" content=\"#000000\"><meta name=\"description\" content=\"Track price changes of any item in Ragnarok M on the Global and SEA servers. Easily see which item prices are rising or falling the fastest and compare between servers to gain an advantage in trading.\"><meta name=\"keywords\" content=\"Ragnarok, Online, Mobile, Eternal Love, Exchange, History, ROM, Ragnarok M, RO, Price, Market, Tracker, Global, SEA\"><meta property=\"og:site_name\" content=\"ROM Exchange\"><meta property=\"og:title\" content=\"ROM Exchange - Ragnarok M: Eternal Love Exchange Price History\"><meta property=\"og:description\" content=\"Track price changes of any item in Ragnarok M on the Global and SEA servers. Easily see which item prices are rising or falling the fastest and compare between servers to gain an advantage in trading.\"><meta property=\"og:image\" content=\"/images/og_image.png\"><link rel=\"manifest\" href=\"/manifest.json\"><link rel=\"shortcut icon\" href=\"/favicon.ico\"><link rel=\"stylesheet\" href=\"https://fonts.googleapis.com/css?family=Roboto:300,400,500\"/><link rel=\"stylesheet\" href=\"https://fonts.googleapis.com/icon?family=Material+Icons\"/><title>ROM Exchange - Ragnarok M: Eternal Love Exchange Price History</title><link href=\"/static/css/main.2cec7f57.chunk.css\" rel=\"stylesheet\"></head><body><noscript>You need to enable JavaScript to run this app.</noscript><div id=\"root\"></div><script>!function(l){function e(e){for(var r,t,n=e[0],o=e[1],u=e[2],f=0,i=[];f<n.length;f++)t=n[f],p[t]&&i.push(p[t][0]),p[t]=0;for(r in o)Object.prototype.hasOwnProperty.call(o,r)&&(l[r]=o[r]);for(s&&s(e);i.length;)i.shift()();return c.push.apply(c,u||[]),a()}function a(){for(var e,r=0;r<c.length;r++){for(var t=c[r],n=!0,o=1;o<t.length;o++){var u=t[o];0!==p[u]&&(n=!1)}n&&(c.splice(r--,1),e=f(f.s=t[0]))}return e}var t={},p={2:0},c=[];function f(e){if(t[e])return t[e].exports;var r=t[e]={i:e,l:!1,exports:{}};return l[e].call(r.exports,r,r.exports,f),r.l=!0,r.exports}f.m=l,f.c=t,f.d=function(e,r,t){f.o(e,r)||Object.defineProperty(e,r,{enumerable:!0,get:t})},f.r=function(e){\"undefined\"!=typeof Symbol&&Symbol.toStringTag&&Object.defineProperty(e,Symbol.toStringTag,{value:\"Module\"}),Object.defineProperty(e,\"__esModule\",{value:!0})},f.t=function(r,e){if(1&e&&(r=f(r)),8&e)return r;if(4&e&&\"object\"==typeof r&&r&&r.__esModule)return r;var t=Object.create(null);if(f.r(t),Object.defineProperty(t,\"default\",{enumerable:!0,value:r}),2&e&&\"string\"!=typeof r)for(var n in r)f.d(t,n,function(e){return r[e]}.bind(null,n));return t},f.n=function(e){var r=e&&e.__esModule?function(){return e.default}:function(){return e};return f.d(r,\"a\",r),r},f.o=function(e,r){return Object.prototype.hasOwnProperty.call(e,r)},f.p=\"/\";var r=this.webpackJsonp=this.webpackJsonp||[],n=r.push.bind(r);r.push=e,r=r.slice();for(var o=0;o<r.length;o++)e(r[o]);var s=n;a()}([])</script><script src=\"/static/js/1.ad152b9e.chunk.js\"></script><script src=\"/static/js/main.226be9fb.chunk.js\"></script></body></html>'"
      ]
     },
     "execution_count": 7,
     "metadata": {},
     "output_type": "execute_result"
    }
   ],
   "source": [
    "r.text"
   ]
  },
  {
   "cell_type": "markdown",
   "id": "b827fef5",
   "metadata": {},
   "source": [
    "## Sending A Request To MathPix\n",
    "\n",
    "https://mathpix.com/docs/ocr/examples\n",
    "\n",
    "https://docs.mathpix.com/#process-image-v3-text\n",
    "\n",
    "https://api.mathpix.com/v3/text"
   ]
  },
  {
   "cell_type": "markdown",
   "id": "4869c7db",
   "metadata": {
    "tags": []
   },
   "source": [
    "Send an API request and get the response back. \n",
    "Transform this request.\n",
    "\n",
    "First use a hand-written picture you used.\n",
    "\n",
    "The values `app_id` and `app_key` come from an individual MathPix account. "
   ]
  },
  {
   "cell_type": "code",
   "execution_count": null,
   "id": "9b31af70",
   "metadata": {},
   "outputs": [],
   "source": [
    "# This dictionary is for handing JSON requests.\n",
    "{\n",
    "    \"src\": \"data:image/jpeg;base64,...\",\n",
    "    \"formats\": [\"text\", \"data\", \"html\"],\n",
    "    \"data_options\": {\n",
    "        \"include_asciimath\": True,\n",
    "        \"include_latex\": True\n",
    "    }\n",
    "}\n",
    "\n",
    "# Specify the file path to apply OCR on.\n",
    "file_path = 'figures/integral_smpl_1.png'\n",
    "image_uri = \"data:image/jpg;base64,\" + base64.b64encode(open(file_path, \"rb\").read()).decode()\n",
    "\n",
    "r = requests.post(\"https://api.mathpix.com/v3/text\",\n",
    "    data=json.dumps({'src': image_uri}),\n",
    "    headers={\"app_id\": ,  \n",
    "             \"app_key\":,\n",
    "             \"Content-type\": \"application/json\"})\n",
    "\n",
    "print(json.dumps(json.loads(r.text), indent=4, sort_keys=True))"
   ]
  },
  {
   "cell_type": "markdown",
   "id": "bc51a5bf-e561-4857-9f71-2964947fab6b",
   "metadata": {},
   "source": [
    "<img src=\"figures/mathpix_return.png\" width = 500 />"
   ]
  },
  {
   "cell_type": "markdown",
   "id": "60537179",
   "metadata": {},
   "source": [
    "## Process The LaTeX\n",
    "\n",
    "With the inital request, turn it into regular LaTeX printed to the screen. \n",
    "\n",
    "Beyond this, produce several test cases with varying image inputs."
   ]
  },
  {
   "cell_type": "code",
   "execution_count": null,
   "id": "11fdc5c3",
   "metadata": {},
   "outputs": [],
   "source": [
    "json_return = json.loads(r.text)\n",
    "latex_return = json_return.get(\"latex_styled\")\n",
    "\n",
    "# The expected return is: \\int \\frac{1}{x^{2}+5^{2}} d x. \n",
    "print(latex_return)"
   ]
  },
  {
   "cell_type": "markdown",
   "id": "1c9df993-834f-40cc-88d8-a67153479312",
   "metadata": {},
   "source": [
    "<img src=\"figures/text_predict.png\" width = 400 />"
   ]
  },
  {
   "cell_type": "markdown",
   "id": "4ac92171",
   "metadata": {},
   "source": [
    "We can write to the screen using a code cell. There is a thread talking about widgets available for markdown to be able to do this. \n",
    "\n",
    "https://stackoverflow.com/questions/18878083/can-i-use-variables-on-an-ipython-notebook-markup-cell/43911937"
   ]
  },
  {
   "cell_type": "code",
   "execution_count": null,
   "id": "a9147140",
   "metadata": {},
   "outputs": [],
   "source": [
    "# Use a python cell to call a markdown command.\n",
    "md(\"$$ \\Huge %s $$\"%(latex_return))"
   ]
  },
  {
   "cell_type": "markdown",
   "id": "27a7e5a2-4c08-47d7-858e-5cf6a7bfa858",
   "metadata": {},
   "source": [
    "<img src=\"figures/ren_predict.png\" width = 500 />"
   ]
  },
  {
   "cell_type": "markdown",
   "id": "97128c5c",
   "metadata": {},
   "source": [
    "## How Well Did MathPix Do?\n",
    "We successfully translated the one-line equation correctly."
   ]
  },
  {
   "cell_type": "markdown",
   "id": "aa9c2c71-f0a0-4ba5-8a47-156db81cd4b2",
   "metadata": {},
   "source": [
    "<img style=\"transform: rotate(-90deg); width:400px\" src=\"figures/integral_smpl_1.png\" />"
   ]
  },
  {
   "cell_type": "markdown",
   "id": "905c7744",
   "metadata": {},
   "source": [
    "# Test Case 1\n",
    "\n",
    "Try submitting a block of hand-written equations.\n",
    "\n",
    "## Submit an API request\n",
    "When submitting the request, be sure to specify `app_id` and `app_key` which give you access to the API. They may be specified in a config file or directly supplied here in the `headers` dictionary."
   ]
  },
  {
   "cell_type": "code",
   "execution_count": null,
   "id": "5a60ea94",
   "metadata": {},
   "outputs": [],
   "source": [
    "file_path = 'figures/u_substitution_smpl_1.png'\n",
    "image_uri = \"data:image/jpg;base64,\" + base64.b64encode(open(file_path, \"rb\").read()).decode()\n",
    "\n",
    "r = requests.post(\"https://api.mathpix.com/v3/text\",\n",
    "    data=json.dumps({'src': image_uri}),\n",
    "    headers={\"app_id\": , \n",
    "             \"app_key\": ,\n",
    "             \"Content-type\": \"application/json\"})\n",
    "\n",
    "print(json.dumps(json.loads(r.text), indent=4, sort_keys=True))"
   ]
  },
  {
   "cell_type": "markdown",
   "id": "672725ae-0a0e-4f33-a964-67a9568fdb84",
   "metadata": {},
   "source": [
    "<img src=\"figures/text_predict_2.png\" width=700 />"
   ]
  },
  {
   "cell_type": "markdown",
   "id": "c97b06da",
   "metadata": {},
   "source": [
    "## Produce The Predicted LaTeX"
   ]
  },
  {
   "cell_type": "code",
   "execution_count": null,
   "id": "e21b7a33",
   "metadata": {},
   "outputs": [],
   "source": [
    "json_return = json.loads(r.text)\n",
    "latex_return = json_return.get(\"latex_styled\")\n",
    "\n",
    "print(latex_return)"
   ]
  },
  {
   "cell_type": "markdown",
   "id": "5a3601bf-b7ec-46c0-9e05-d687b0fa8d4c",
   "metadata": {},
   "source": [
    "<img src=\"figures/text_predict_2_extracted.png\" width = 600/>"
   ]
  },
  {
   "cell_type": "markdown",
   "id": "08f4391a",
   "metadata": {},
   "source": [
    "Print the LaTeX in a cell."
   ]
  },
  {
   "cell_type": "code",
   "execution_count": null,
   "id": "cc1f0827",
   "metadata": {},
   "outputs": [],
   "source": [
    "md(\"$$\\Huge %s $$\"%(latex_return))"
   ]
  },
  {
   "cell_type": "markdown",
   "id": "158400e4-4f9c-47ae-ab61-f9040f762f01",
   "metadata": {},
   "source": [
    "<img src=\"figures/ren_predict_2.png\" width =400 />"
   ]
  },
  {
   "cell_type": "markdown",
   "id": "8059fcb3",
   "metadata": {},
   "source": [
    "## How Well Did MathPix Do?\n",
    "\n",
    "The image below was converted perfectly.\n",
    "\n",
    "<img style=\"transform: rotate(-90deg); width:400px\" src=\"figures/u_substitution_smpl_1.png\" />"
   ]
  },
  {
   "cell_type": "markdown",
   "id": "9336c943-579f-4e0f-857f-c39e428a3490",
   "metadata": {},
   "source": [
    "## Conclusion"
   ]
  },
  {
   "cell_type": "markdown",
   "id": "3f58da73-8489-45e3-b590-c734a3c86b6e",
   "metadata": {},
   "source": [
    "We successfully built the backend code to send an aPI request to MathPix. The predictions were 100% accurate."
   ]
  }
 ],
 "metadata": {
  "kernelspec": {
   "display_name": "Python 3",
   "language": "python",
   "name": "python3"
  },
  "language_info": {
   "codemirror_mode": {
    "name": "ipython",
    "version": 3
   },
   "file_extension": ".py",
   "mimetype": "text/x-python",
   "name": "python",
   "nbconvert_exporter": "python",
   "pygments_lexer": "ipython3",
   "version": "3.9.4"
  }
 },
 "nbformat": 4,
 "nbformat_minor": 5
}
