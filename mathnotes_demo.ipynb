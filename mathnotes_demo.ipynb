{
 "cells": [
  {
   "cell_type": "markdown",
   "id": "561f9166-31cc-4c7c-8cda-abb2a5ccd08d",
   "metadata": {
    "tags": []
   },
   "source": [
    "# MathNotes Demo\n",
    "\n",
    "This nb demos the use of MathNotes with several walkthrough example cases including solving a time-dependent second-order differential equation and a  hypothesis testing problem in probability leading to a $p$-value result.\n",
    "\n",
    "MathNotes is used through a magic command `%mn` for convenience. The canvas feature can be accessed directly by using `open_canvas()`, which returns only the LaTeX prediction.\n",
    "\n",
    "After a canvas is open in a code cell, a user can draw the desired output (typically single-line mathematics) and receive both a LaTeX prediction both in raw and rendered form."
   ]
  },
  {
   "cell_type": "markdown",
   "id": "486ccbdd-65e7-4b56-a42f-68a1790583f1",
   "metadata": {},
   "source": [
    "## Contents\n",
    "\n",
    "1. Basic commands for MathNotes Magic\n",
    "    1. Drawing an image for prediction\n",
    "    2. Loading an image for prediction\n",
    "2. Example 1: Walkthrough of solving a second order, time-dependent differential equation\n",
    "3. Example 2: Walkthrough of hypothesis testing problem to achieve a $p$-value"
   ]
  },
  {
   "cell_type": "code",
   "execution_count": 1,
   "id": "43fb72b4-6b59-418e-aaff-4737a24adf10",
   "metadata": {},
   "outputs": [],
   "source": [
    "from pathlib import Path\n",
    "import csv\n",
    "from IPython.display import Markdown as md\n",
    "\n",
    "from math_notes import mathnotes"
   ]
  },
  {
   "cell_type": "markdown",
   "id": "129b6062-23d6-4a62-af84-951b11678e95",
   "metadata": {},
   "source": [
    "## Basic commands for MathNotes Magic"
   ]
  },
  {
   "cell_type": "markdown",
   "id": "55d82c0c-ae69-4477-b49f-2af8465f90a8",
   "metadata": {},
   "source": [
    "### Drawing an image for prediction.\n",
    "\n",
    "MathNotes is primary accessed using the magic `%mn`. Run the cell below to call in a canvas. Try writing the equation: $ x^2 + y^2 = 1$."
   ]
  },
  {
   "cell_type": "code",
   "execution_count": 4,
   "id": "89cd81f2-6cb9-40b0-b95a-b94fca6f461e",
   "metadata": {},
   "outputs": [
    {
     "name": "stdout",
     "output_type": "stream",
     "text": [
      "Raw LaTeX Prediction:   $ x^{2}+y^{2}=1 $ \n",
      "\n",
      "\n",
      "\n"
     ]
    },
    {
     "data": {
      "text/markdown": [
       "$$ \\Huge x^{2}+y^{2}=1 $$"
      ],
      "text/plain": [
       "<IPython.core.display.Markdown object>"
      ]
     },
     "execution_count": 4,
     "metadata": {},
     "output_type": "execute_result"
    }
   ],
   "source": [
    "%mn"
   ]
  },
  {
   "cell_type": "markdown",
   "id": "e8acd4fc-efcd-4560-beda-841bfc0a47df",
   "metadata": {},
   "source": [
    "#### An open canvas.\n",
    "<p style=\"text-align:center;\"><img src=\"figures_mathnotes_demo/fig1_opencv.png\" width=500 img>"
   ]
  },
  {
   "cell_type": "markdown",
   "id": "190654fd-331a-4e1c-b413-5091c44bb1a6",
   "metadata": {},
   "source": [
    "#### Draw an equation.\n",
    "<p style=\"text-align:center;\"><img src=\"figures_mathnotes_demo/fig2-draweq1.png\" width=500 img>"
   ]
  },
  {
   "cell_type": "markdown",
   "id": "0866a03d-b32b-4a4d-b777-58aea42ffdf8",
   "metadata": {},
   "source": [
    "#### Hit 'Predict LaTeX!'"
   ]
  },
  {
   "cell_type": "markdown",
   "id": "b202b028-a861-41fe-b914-e8cebb25b509",
   "metadata": {},
   "source": [
    "<p style=\"text-align:center;\"><p style=\"text-align:center;\"><img src=\"figures_mathnotes_demo/fig3-predict_latex1.png\" width = 500 img>"
   ]
  },
  {
   "cell_type": "markdown",
   "id": "cd7419f2-004d-4037-8a52-3ebd20718041",
   "metadata": {},
   "source": [
    "#### Quit the canvas to render prediction to a cell.\n",
    "\n",
    "We see a prediction is renderd in the notebook with the LaTeX prediction also provided for easy export to another environment."
   ]
  },
  {
   "cell_type": "code",
   "execution_count": 6,
   "id": "71cd422f-4717-4c81-a6b1-29af79f9d193",
   "metadata": {},
   "outputs": [
    {
     "name": "stdout",
     "output_type": "stream",
     "text": [
      "Raw LaTeX Prediction:   $ x^{2}+y^{2}=1 $ \n",
      "\n",
      "\n",
      "\n"
     ]
    },
    {
     "data": {
      "text/markdown": [
       "$$ \\Huge x^{2}+y^{2}=1 $$"
      ],
      "text/plain": [
       "<IPython.core.display.Markdown object>"
      ]
     },
     "execution_count": 6,
     "metadata": {},
     "output_type": "execute_result"
    }
   ],
   "source": [
    "%mn"
   ]
  },
  {
   "cell_type": "markdown",
   "id": "3fbaae06-16d7-4c34-92df-987fbb466c73",
   "metadata": {},
   "source": [
    "## Loading an image for prediction.\n",
    "\n",
    "When opening mathnotes, there is an option to choose a pre-existing file. Open a new magic command and browse to a file that contains math you'd like to have translated. Once the file is queued, selet `Predict LaTeX` then `Quit` to publish the results the to cell."
   ]
  },
  {
   "cell_type": "code",
   "execution_count": null,
   "id": "f09893e6-14c6-4940-84d2-253c3de8be75",
   "metadata": {},
   "outputs": [],
   "source": [
    "%mn"
   ]
  },
  {
   "cell_type": "markdown",
   "id": "e16486bb-ea2a-40d3-9724-e9ea1a70214e",
   "metadata": {},
   "source": [
    "#### Browse for a file. \n",
    "It should look similar to this\n",
    "<p style=\"text-align:center;\"><img src=\"figures_mathnotes_demo/fig5-selecting-preloaded-math.png\" width=500 img>\n",
    "\n",
    "#### Select a file. \n",
    "The name appears on the canvas.\n",
    "<p style=\"text-align:center;\"><img src=\"figures_mathnotes_demo/fig6-selecting-preloaded-math-2.png\" width=500 img>\n",
    "\n",
    "#### Hit 'Predict LaTeX!'\n",
    "This produces a prediction, similar to if we had drawn on the canvas.\n",
    "<p style=\"text-align:center;\"><img src=\"figures_mathnotes_demo/fig7-selecting-preloaded-math-3.png\" width=500 img>\n",
    "\n",
    "#### Close or hit 'Quit' \n",
    "Returns the LaTeX rendered and raw.\n",
    "<p style=\"text-align:center;\"><img src=\"figures_mathnotes_demo/fig8-selecting-preloaded-math-4.png\" width=600 img>"
   ]
  },
  {
   "cell_type": "markdown",
   "id": "c6fb20fb-0f1e-4bc8-a9a3-1307952fed5b",
   "metadata": {},
   "source": [
    "This concludes the basic functionality of MathNotes. Below we present two more examples of using MathNotes magic while solving a problem."
   ]
  },
  {
   "cell_type": "markdown",
   "id": "c20ed6f9-c5b7-4259-a7b8-ce1d4f45b57a",
   "metadata": {},
   "source": [
    "## Example 1: Walkthrough of solving a second order, nonhomogenous differential equation. "
   ]
  },
  {
   "cell_type": "markdown",
   "id": "af9f3882-2ea0-462e-adbb-9ade7da120e0",
   "metadata": {},
   "source": [
    "We show the steps to solve an equation and outline this solution by employing math notes to make the writing easier. The result of using `%mn` is immediately followed by the canvas image I used to receive the prediction. \n",
    "\n",
    "Suppose we want to solve: $$ \\huge y'' - 2y'+ y =\\frac{e^{t}}{t}$$ "
   ]
  },
  {
   "cell_type": "markdown",
   "id": "61a4102d-9860-4de6-b48e-6230df95d970",
   "metadata": {},
   "source": [
    "We'd like to use the general theory for second-order, nonhomogenous differential equations which says that:"
   ]
  },
  {
   "cell_type": "code",
   "execution_count": 14,
   "id": "9f885449-1b4b-4af9-85ed-26c055157e68",
   "metadata": {},
   "outputs": [
    {
     "name": "stdout",
     "output_type": "stream",
     "text": [
      "Raw LaTeX Prediction:   $ y_{g}(t)=c_{1} y_{1}(t)+C_{2} y_{2}(t)+y_{p}\\left(t^{2}\\right. $ \n",
      "\n",
      "\n",
      "\n"
     ]
    },
    {
     "data": {
      "text/markdown": [
       "$$ \\Huge y_{g}(t)=c_{1} y_{1}(t)+C_{2} y_{2}(t)+y_{p}\\left(t^{2}\\right. $$"
      ],
      "text/plain": [
       "<IPython.core.display.Markdown object>"
      ]
     },
     "execution_count": 14,
     "metadata": {},
     "output_type": "execute_result"
    }
   ],
   "source": [
    "%mn"
   ]
  },
  {
   "cell_type": "markdown",
   "id": "6a66cc94-f490-4d61-ade3-fd5b31c0edd8",
   "metadata": {},
   "source": [
    "<p style=\"text-align:center;\"><img src = \"figures_mathnotes_demo/fig9-wlkthr1-1.png\" width = 500 img>\n",
    "\n",
    "Our handwriting produced some errors, so we missed some LaTeX details and achieved an inexact result.\n",
    "\n",
    "This is an example canvas that produced the above LaTeX prediction.\n",
    "We can use the predicted LaTeX to get close and tweak it slightly to achieve better results: \n",
    "\n",
    "$$ \\huge y_{g}(t)=c_{1} y_{1}(t)+c_{2} y_{2}(t)+y_{p}(t) $$ \n",
    "\n",
    "From here on we continue to use the predicted latex for our document or continue calling mathnotes."
   ]
  },
  {
   "cell_type": "markdown",
   "id": "108714a6-95c5-440f-9fdd-049507ef7848",
   "metadata": {},
   "source": [
    "The above presumes:"
   ]
  },
  {
   "cell_type": "code",
   "execution_count": 7,
   "id": "fabef294-ccde-4b0e-9079-b558d629e06d",
   "metadata": {},
   "outputs": [
    {
     "name": "stdout",
     "output_type": "stream",
     "text": [
      "Raw LaTeX Prediction:   $ c_{1} y_{1}(x)+c_{2} y_{2}(x)=0 $ \n",
      "\n",
      "\n",
      "\n"
     ]
    },
    {
     "data": {
      "text/markdown": [
       "$$ \\Huge c_{1} y_{1}(x)+c_{2} y_{2}(x)=0 $$"
      ],
      "text/plain": [
       "<IPython.core.display.Markdown object>"
      ]
     },
     "execution_count": 7,
     "metadata": {},
     "output_type": "execute_result"
    }
   ],
   "source": [
    "%mn"
   ]
  },
  {
   "cell_type": "markdown",
   "id": "6b4b7532-0000-4fc1-b59a-a6e11533940b",
   "metadata": {},
   "source": [
    "Notice the output works well from the start.\n",
    "\n",
    "So we will find one particular solution $y_p(t)$ and the homogenous solution $y_g(t)$. Let's focus on the homogenous solution and solve:"
   ]
  },
  {
   "cell_type": "code",
   "execution_count": 15,
   "id": "e6c35e27-6a14-45fb-ae56-f69d3e4dac83",
   "metadata": {},
   "outputs": [
    {
     "name": "stdout",
     "output_type": "stream",
     "text": [
      "Raw LaTeX Prediction:   $ y^{\\prime \\prime}-2 y^{\\prime}+y=0 $ \n",
      "\n",
      "\n",
      "\n"
     ]
    },
    {
     "data": {
      "text/markdown": [
       "$$ \\Huge y^{\\prime \\prime}-2 y^{\\prime}+y=0 $$"
      ],
      "text/plain": [
       "<IPython.core.display.Markdown object>"
      ]
     },
     "execution_count": 15,
     "metadata": {},
     "output_type": "execute_result"
    }
   ],
   "source": [
    "%mn"
   ]
  },
  {
   "cell_type": "markdown",
   "id": "4e205556-b9e7-4968-bd23-f2e37e2ec3bb",
   "metadata": {},
   "source": [
    "<p style=\"text-align:center;\"> <p style=\"text-align:center;\"><img src=\"figures_mathnotes_demo/fig10-wlkthr1-4.png\" width=450 img>"
   ]
  },
  {
   "cell_type": "markdown",
   "id": "5c12db1c-f61e-4df9-aff2-6c31358795fc",
   "metadata": {},
   "source": [
    "We can solve this with a standard method in steps as follows:\n",
    "\n",
    "1. Find the roots of the corresponding polynomial:"
   ]
  },
  {
   "cell_type": "code",
   "execution_count": 16,
   "id": "01397f6f-8ad6-41eb-9937-07d6076f85c7",
   "metadata": {},
   "outputs": [
    {
     "name": "stdout",
     "output_type": "stream",
     "text": [
      "Raw LaTeX Prediction:   $ r^{2}-2 r+1=0 $ \n",
      "\n",
      "\n",
      "\n"
     ]
    },
    {
     "data": {
      "text/markdown": [
       "$$ \\Huge r^{2}-2 r+1=0 $$"
      ],
      "text/plain": [
       "<IPython.core.display.Markdown object>"
      ]
     },
     "execution_count": 16,
     "metadata": {},
     "output_type": "execute_result"
    }
   ],
   "source": [
    "%mn"
   ]
  },
  {
   "cell_type": "markdown",
   "id": "5001d392-2cda-4512-aab2-13ba51ca05ae",
   "metadata": {},
   "source": [
    "<p style=\"text-align:center;\"> <p style=\"text-align:center;\"><img src=\"figures_mathnotes_demo/fig11-wlkthr1-1.png\" width=500 img>"
   ]
  },
  {
   "cell_type": "markdown",
   "id": "f2023f26-1c79-4176-b093-1782274f766f",
   "metadata": {},
   "source": [
    "This solution can be found as:"
   ]
  },
  {
   "cell_type": "code",
   "execution_count": 19,
   "id": "c66db780-308c-425d-af73-ab3d3e14b2a3",
   "metadata": {},
   "outputs": [
    {
     "name": "stdout",
     "output_type": "stream",
     "text": [
      "Raw LaTeX Prediction:   $ \\begin{array}{c}\n",
      "(r-1)^{2}=0 \\\\\n",
      "\\quad r=1 \\\\\n",
      "\\text { multiplicity }=2\n",
      "\\end{array} $ \n",
      "\n",
      "\n",
      "\n"
     ]
    },
    {
     "data": {
      "text/markdown": [
       "$$ \\Huge \\begin{array}{c}\n",
       "(r-1)^{2}=0 \\\\\n",
       "\\quad r=1 \\\\\n",
       "\\text { multiplicity }=2\n",
       "\\end{array} $$"
      ],
      "text/plain": [
       "<IPython.core.display.Markdown object>"
      ]
     },
     "execution_count": 19,
     "metadata": {},
     "output_type": "execute_result"
    }
   ],
   "source": [
    "%mn"
   ]
  },
  {
   "cell_type": "markdown",
   "id": "ea51e0f7-9641-4666-ab3e-5dd62702a9cf",
   "metadata": {},
   "source": [
    "<p style=\"text-align:center;\"> <p style=\"text-align:center;\"><img src=\"figures_mathnotes_demo/fig11-wlkthr1-3.png\" width = 500 img>"
   ]
  },
  {
   "cell_type": "markdown",
   "id": "f83ebf2c-94a6-48fd-bd6e-c5d430ef6b21",
   "metadata": {},
   "source": [
    "2. Set the general form of the homogenous differential equation when a root has multiplicity so that"
   ]
  },
  {
   "cell_type": "code",
   "execution_count": 20,
   "id": "e6e08191-54a3-4f2c-ad26-e0e55545b30c",
   "metadata": {},
   "outputs": [
    {
     "name": "stdout",
     "output_type": "stream",
     "text": [
      "Raw LaTeX Prediction:   $ y_{1}(t)=c_{1} e^{r t} \\text { and } y_{2}(t)=c_{2} t e^{r t} $ \n",
      "\n",
      "\n",
      "\n"
     ]
    },
    {
     "data": {
      "text/markdown": [
       "$$ \\Huge y_{1}(t)=c_{1} e^{r t} \\text { and } y_{2}(t)=c_{2} t e^{r t} $$"
      ],
      "text/plain": [
       "<IPython.core.display.Markdown object>"
      ]
     },
     "execution_count": 20,
     "metadata": {},
     "output_type": "execute_result"
    }
   ],
   "source": [
    "%mn"
   ]
  },
  {
   "cell_type": "markdown",
   "id": "3eec74ad-4d1b-4cf3-8c59-5cafca0edbf0",
   "metadata": {},
   "source": [
    "<p style=\"text-align:center;\"> <p style=\"text-align:center;\"><img src=\"figures_mathnotes_demo/fig11-wlkthr1-4.png\" width = 500 img>"
   ]
  },
  {
   "cell_type": "markdown",
   "id": "58c3d323-ddd7-4f31-99e6-ab38adc78570",
   "metadata": {},
   "source": [
    "**Note** how in the past two uses of MathNotes, multiple equations are written on the same canvas and include some regular, non-math text translated perfectly. Though we shouldn't expect this good of accuracy every time, we can reasonably trust the engine will produce reliable results - we might have to tweak the LaTeX marginally."
   ]
  },
  {
   "cell_type": "markdown",
   "id": "941964a4-0351-4011-ac97-4dc7534a11f1",
   "metadata": {},
   "source": [
    "3. Find the particular solution $y_p(t)$ by using the method of variation of parameters. This means:"
   ]
  },
  {
   "cell_type": "code",
   "execution_count": null,
   "id": "01c28148-081e-4005-a0a3-585c703aca61",
   "metadata": {},
   "outputs": [],
   "source": [
    "%mn"
   ]
  },
  {
   "cell_type": "markdown",
   "id": "835f706b-f08a-4c51-b610-aacaa5fe8aac",
   "metadata": {},
   "source": [
    "We find functions $u(t)$ and $v(t)$ so that:"
   ]
  },
  {
   "cell_type": "code",
   "execution_count": 25,
   "id": "ab4cb954-b1f8-4989-9d57-6a2ff74cbee8",
   "metadata": {},
   "outputs": [
    {
     "name": "stdout",
     "output_type": "stream",
     "text": [
      "Raw LaTeX Prediction:   $ \\begin{array}{c}\n",
      "u^{\\prime} e^{t}+v^{\\prime} t e^{t}=0 \\\\\n",
      "u^{\\prime} e^{t}+v^{\\prime}\\left(e^{t}+t e^{t}\\right)=\\frac{e^{t}}{t^{2}}\n",
      "\\end{array} $ \n",
      "\n",
      "\n",
      "\n"
     ]
    },
    {
     "data": {
      "text/markdown": [
       "$$ \\Huge \\begin{array}{c}\n",
       "u^{\\prime} e^{t}+v^{\\prime} t e^{t}=0 \\\\\n",
       "u^{\\prime} e^{t}+v^{\\prime}\\left(e^{t}+t e^{t}\\right)=\\frac{e^{t}}{t^{2}}\n",
       "\\end{array} $$"
      ],
      "text/plain": [
       "<IPython.core.display.Markdown object>"
      ]
     },
     "execution_count": 25,
     "metadata": {},
     "output_type": "execute_result"
    }
   ],
   "source": [
    "%mn"
   ]
  },
  {
   "cell_type": "markdown",
   "id": "dde9ada2-359c-4a8d-aba8-683a8e9c974b",
   "metadata": {},
   "source": [
    "<p style=\"text-align:center;\"> <src img=\"fig11-wlkthr1-5.png\" width=500 src>"
   ]
  },
  {
   "cell_type": "markdown",
   "id": "a04675fa-74cf-430b-83fc-0c98dc374119",
   "metadata": {},
   "source": [
    "<p style=\"text-align:center;\"> <p style=\"text-align:center;\"><img src=\"figures_mathnotes_demo/fig11-wlkthr1-5.png\" width = 500 img>\n",
    "\n",
    "#### Apply raw LaTeX for visual clarity.\n",
    "$$\\begin{array}{c}\n",
    "u^{\\prime} e^{t}+v^{\\prime} t e^{t}=0 \\\\\n",
    "u^{\\prime} e^{t}+v^{\\prime}\\left(e^{t}+t e^{t}\\right)=\\frac{e^{t}}{t}\n",
    "\\end{array}$$\n"
   ]
  },
  {
   "cell_type": "markdown",
   "id": "1b2b504d-72c9-4c06-ae36-705ac3e14323",
   "metadata": {},
   "source": [
    "As seen above, any visual complications with mathnotes, we can rely on using the LaTeX prediction directly for renditions. We can see there was a mistake in the original canvas writing - this is corrected here in the Latex rewrite.\n",
    "\n",
    "We apply the variation of parameters method:"
   ]
  },
  {
   "cell_type": "code",
   "execution_count": 2,
   "id": "1af8dff8-13a7-4f75-9678-5df9a8a58956",
   "metadata": {},
   "outputs": [
    {
     "name": "stdout",
     "output_type": "stream",
     "text": [
      "Raw LaTeX Prediction:   $ U_{1}=-\\int \\frac{t e^{t}\\left(\\frac{e^{t}}{t}\\right)}{W\\left(e^{t}, t e^{t}\\right)} d t V=\\int \\frac{e^{t}\\left(\\frac{e^{t}}{t}\\right)}{W\\left(e^{t}, t e^{t}\\right)} d t $ \n",
      "\n",
      "\n",
      "\n"
     ]
    },
    {
     "data": {
      "text/markdown": [
       "$$ U_{1}=-\\int \\frac{t e^{t}\\left(\\frac{e^{t}}{t}\\right)}{W\\left(e^{t}, t e^{t}\\right)} d t V=\\int \\frac{e^{t}\\left(\\frac{e^{t}}{t}\\right)}{W\\left(e^{t}, t e^{t}\\right)} d t $$"
      ],
      "text/plain": [
       "<IPython.core.display.Markdown object>"
      ]
     },
     "execution_count": 2,
     "metadata": {},
     "output_type": "execute_result"
    }
   ],
   "source": [
    "%mn"
   ]
  },
  {
   "cell_type": "markdown",
   "id": "93a3c1b8-7b75-4b17-8411-87d1081aa870",
   "metadata": {},
   "source": [
    "<p style=\"text-align:center;\"> <p style=\"text-align:center;\"><img src=\"figures_mathnotes_demo/fig11-wlkthr1-7.png\" width = 500 img>\n",
    "    \n",
    "Corrected:\n",
    "    \n",
    "$$ U=-\\int \\frac{t e^{t}\\left(\\frac{e^{t}}{t}\\right)}{W\\left(e^{t}, t e^{t}\\right)} dt $$  \n",
    "      and  \n",
    "$$  V=\\int \\frac{e^{t}\\left(\\frac{e^{t}}{t}\\right)}{W\\left(e^{t}, t e^{t}\\right)} d t $$ "
   ]
  },
  {
   "cell_type": "markdown",
   "id": "3b19d643-df2a-4aca-91af-ea9584492580",
   "metadata": {},
   "source": [
    "Where $W\\left(e^{t}, t e^{t}\\right)$ = "
   ]
  },
  {
   "cell_type": "code",
   "execution_count": 16,
   "id": "0db7c3fa-d2a6-42e6-b191-92491108d3a9",
   "metadata": {},
   "outputs": [
    {
     "name": "stdout",
     "output_type": "stream",
     "text": [
      "Raw LaTeX Prediction:   $ W\\left(e^{t}, t e^{t}\\right)=\\left|\\begin{array}{cc}\n",
      "e^{t} & t e^{t} \\\\\n",
      "e^{t} & t e^{t}+e^{t}\n",
      "\\end{array}\\right| $ \n",
      "\n",
      "\n",
      "\n"
     ]
    },
    {
     "data": {
      "text/markdown": [
       "$$ W\\left(e^{t}, t e^{t}\\right)=\\left|\\begin{array}{cc}\n",
       "e^{t} & t e^{t} \\\\\n",
       "e^{t} & t e^{t}+e^{t}\n",
       "\\end{array}\\right| $$"
      ],
      "text/plain": [
       "<IPython.core.display.Markdown object>"
      ]
     },
     "execution_count": 16,
     "metadata": {},
     "output_type": "execute_result"
    }
   ],
   "source": [
    "%mn"
   ]
  },
  {
   "cell_type": "markdown",
   "id": "5a44943d-f982-4dce-8e6f-076b9ec152f6",
   "metadata": {},
   "source": [
    "<p style=\"text-align:center;\"><img src = \"figures_mathnotes_demo/fig11-wlkthr1-16.png\" width=300 img>"
   ]
  },
  {
   "cell_type": "code",
   "execution_count": 19,
   "id": "117304b3-bc55-4c72-a9e5-6602825bafc4",
   "metadata": {},
   "outputs": [
    {
     "name": "stdout",
     "output_type": "stream",
     "text": [
      "Raw LaTeX Prediction:   $ \\begin{aligned}\n",
      "W &=t e^{2 t}+e^{2 t}-t e^{2 t} \\\\\n",
      "&=e^{2 t}\n",
      "\\end{aligned} $ \n",
      "\n",
      "\n",
      "\n"
     ]
    },
    {
     "data": {
      "text/markdown": [
       "$$ \\begin{aligned}\n",
       "W &=t e^{2 t}+e^{2 t}-t e^{2 t} \\\\\n",
       "&=e^{2 t}\n",
       "\\end{aligned} $$"
      ],
      "text/plain": [
       "<IPython.core.display.Markdown object>"
      ]
     },
     "execution_count": 19,
     "metadata": {},
     "output_type": "execute_result"
    }
   ],
   "source": [
    "%mn"
   ]
  },
  {
   "cell_type": "markdown",
   "id": "0d3c94bc-489e-461e-8734-95a3e58be45f",
   "metadata": {},
   "source": [
    "<p style=\"text-align:center;\"><img src = \"figures_mathnotes_demo/fig11-wlkthr1-17.png\" width=300 img>"
   ]
  },
  {
   "cell_type": "code",
   "execution_count": 21,
   "id": "92a39287-0cfa-4c83-9656-7b8c11e44cd0",
   "metadata": {},
   "outputs": [
    {
     "name": "stdout",
     "output_type": "stream",
     "text": [
      "Raw LaTeX Prediction:   $ \\begin{aligned}\n",
      "u &=-\\int \\frac{t e^{t} \\frac{e^{t}}{t}}{e^{t}\\left(t e^{t}+e^{t}\\right)}-t e^{t} e^{t} \\\\\n",
      "&=-\\int \\frac{e^{2 t}}{e^{2 t}} d t=-\\int 1 d t=-\\emptyset t\n",
      "\\end{aligned} $ \n",
      "\n",
      "\n",
      "\n"
     ]
    },
    {
     "data": {
      "text/markdown": [
       "$$ \\begin{aligned}\n",
       "u &=-\\int \\frac{t e^{t} \\frac{e^{t}}{t}}{e^{t}\\left(t e^{t}+e^{t}\\right)}-t e^{t} e^{t} \\\\\n",
       "&=-\\int \\frac{e^{2 t}}{e^{2 t}} d t=-\\int 1 d t=-\\emptyset t\n",
       "\\end{aligned} $$"
      ],
      "text/plain": [
       "<IPython.core.display.Markdown object>"
      ]
     },
     "execution_count": 21,
     "metadata": {},
     "output_type": "execute_result"
    }
   ],
   "source": [
    "%mn"
   ]
  },
  {
   "cell_type": "markdown",
   "id": "cb4085f9-376b-4adc-a935-385ac1d92007",
   "metadata": {},
   "source": [
    "In this instance, the prediction was created using a picture of a notebook image loaded through the `Select a file` button.\n",
    "\n",
    "This is the image:\n",
    "<p style=\"text-align:center;\"> <p style=\"text-align:center;\"><img src=\"figures_mathnotes_demo/fig11-wlkthr1-8.jpg\" width = 300 img>\n",
    "    \n",
    "Here is the MathNotes prediction after queuing the image:\n",
    "<p style=\"text-align:center;\"> <p style=\"text-align:center;\"><img src=\"figures_mathnotes_demo/fig11-wlkthr1-9.png\" width = 500 img>\n",
    "\n",
    "With corrected LaTeX:\n",
    "\n",
    "$$ \\begin{aligned}\n",
    "u &=-\\int \\frac{t e^{t} \\frac{e^{t}}{t}}{e^{t}\\left(t e^{t}+e^{t}\\right)-t e^{t} e^{t} } \\\\\n",
    "&=-\\int \\frac{e^{2 t}}{e^{2 t}} d t=-\\int 1 d t= - t\n",
    "\\end{aligned} $$ "
   ]
  },
  {
   "cell_type": "markdown",
   "id": "4898762b-e6fb-4fb2-960d-fb3f3af339ee",
   "metadata": {},
   "source": [
    "We find $v(t)$ in a similar way:"
   ]
  },
  {
   "cell_type": "code",
   "execution_count": 15,
   "id": "c7e9ce2e-c7b3-45fa-8ddc-ed2982f9dc35",
   "metadata": {},
   "outputs": [
    {
     "name": "stdout",
     "output_type": "stream",
     "text": [
      "Raw LaTeX Prediction:   $ \\begin{aligned}\n",
      "\\nabla(t) &=\\int \\frac{e^{t}\\left(\\frac{e^{t}}{t}\\right)}{e^{t}\\left(t e^{t}+e^{t}\\right)-t e^{t}\\left(e^{t}\\right)} d t \\\\\n",
      "&=\\int \\frac{e^{2 t} \\mid t}{e^{2 t}} d t \\\\\n",
      "&=\\int \\frac{1}{t} d t=\\ln |t|\n",
      "\\end{aligned} $ \n",
      "\n",
      "\n",
      "\n"
     ]
    },
    {
     "data": {
      "text/markdown": [
       "$$ \\begin{aligned}\n",
       "\\nabla(t) &=\\int \\frac{e^{t}\\left(\\frac{e^{t}}{t}\\right)}{e^{t}\\left(t e^{t}+e^{t}\\right)-t e^{t}\\left(e^{t}\\right)} d t \\\\\n",
       "&=\\int \\frac{e^{2 t} \\mid t}{e^{2 t}} d t \\\\\n",
       "&=\\int \\frac{1}{t} d t=\\ln |t|\n",
       "\\end{aligned} $$"
      ],
      "text/plain": [
       "<IPython.core.display.Markdown object>"
      ]
     },
     "execution_count": 15,
     "metadata": {},
     "output_type": "execute_result"
    }
   ],
   "source": [
    "%mn"
   ]
  },
  {
   "cell_type": "markdown",
   "id": "4d93bf57-b426-4082-a3ed-8e90ecdf6bcc",
   "metadata": {},
   "source": [
    "As above, this LaTeX prediction was made by using browsing for a file:\n",
    "<p style=\"text-align:center;\"> <p style=\"text-align:center;\"><img src=\"figures_mathnotes_demo/fig11-wlkthr1-14.jpg\" width = 300 img>\n",
    "    \n",
    "Here is the MathNotes prediction after queuing the image:\n",
    "<p style=\"text-align:center;\"> <p style=\"text-align:center;\"><img src=\"figures_mathnotes_demo/fig11-wlkthr1-15.png\" width = 500 img> \n",
    "    \n",
    "And here is the corrected LaTeX:\n",
    "    \n",
    "$$ \\begin{aligned}\n",
    "v(t) &=\\int \\frac{e^{t}\\left(\\frac{e^{t}}{t}\\right)}{e^{t}\\left(t e^{t}+e^{t}\\right)-t e^{t}\\left(e^{t}\\right)} d t \\\\\n",
    "&=\\int \\frac{e^{2 t} \\mid t}{e^{2 t}} d t \\\\\n",
    "&=\\int \\frac{1}{t} d t=\\ln |t|\n",
    "\\end{aligned} $$"
   ]
  },
  {
   "cell_type": "markdown",
   "id": "f0a5cf65-5370-4a3c-ab92-d139908c2110",
   "metadata": {},
   "source": [
    "The particular solution is: "
   ]
  },
  {
   "cell_type": "code",
   "execution_count": 23,
   "id": "dda1921c-6dd7-4a4f-905a-54c63d51e955",
   "metadata": {},
   "outputs": [
    {
     "name": "stdout",
     "output_type": "stream",
     "text": [
      "Raw LaTeX Prediction:   $ \\begin{array}{c}\n",
      "y_{p}=u(t) e^{t}+v(t) t e^{t} \\\\\n",
      "=\n",
      "\\end{array} $ \n",
      "\n",
      "\n",
      "\n"
     ]
    },
    {
     "data": {
      "text/markdown": [
       "$$ \\begin{array}{c}\n",
       "y_{p}=u(t) e^{t}+v(t) t e^{t} \\\\\n",
       "=\n",
       "\\end{array} $$"
      ],
      "text/plain": [
       "<IPython.core.display.Markdown object>"
      ]
     },
     "execution_count": 23,
     "metadata": {},
     "output_type": "execute_result"
    }
   ],
   "source": [
    "%mn"
   ]
  },
  {
   "cell_type": "markdown",
   "id": "09fe0dd6-2633-4631-8774-0b94dd534fd6",
   "metadata": {},
   "source": [
    "As above, this LaTeX prediction was made by using browsing for a file:\n",
    "<p style=\"text-align:center;\"> <p style=\"text-align:center;\"><img src=\"figures_mathnotes_demo/fig11-wlkthr1-12.png\" width = 300 img>\n",
    "    \n",
    "Here is the corrected LaTeX:\n",
    "$$ y_{p}=u(t) e^{t}+v(t) t e^{t} $$"
   ]
  },
  {
   "cell_type": "markdown",
   "id": "159e5f4c-e194-4447-bfaf-7f3396fb4b91",
   "metadata": {},
   "source": [
    "More exactly:"
   ]
  },
  {
   "cell_type": "code",
   "execution_count": 25,
   "id": "3f028732-9b5e-429f-93b2-a4a7847035bc",
   "metadata": {},
   "outputs": [
    {
     "name": "stdout",
     "output_type": "stream",
     "text": [
      "Raw LaTeX Prediction:   $ y_{p}=-t e^{t}+\\left.\\right|_{n}|t| t e^{t} $ \n",
      "\n",
      "\n",
      "\n"
     ]
    },
    {
     "data": {
      "text/markdown": [
       "$$ y_{p}=-t e^{t}+\\left.\\right|_{n}|t| t e^{t} $$"
      ],
      "text/plain": [
       "<IPython.core.display.Markdown object>"
      ]
     },
     "execution_count": 25,
     "metadata": {},
     "output_type": "execute_result"
    }
   ],
   "source": [
    "%mn"
   ]
  },
  {
   "cell_type": "markdown",
   "id": "2b97db53-8575-46f3-a027-e60233d528ea",
   "metadata": {},
   "source": [
    "Original canvas:\n",
    "<p style=\"text-align:center;\"> <p style=\"text-align:center;\"><img src=\"figures_mathnotes_demo/fig12.png\" width = 200 img>\n",
    "\n",
    "Corrected LaTeX:\n",
    "$$ y_{p}=-t e^{t}+ \\ln|t|t e^{t} $$"
   ]
  },
  {
   "cell_type": "markdown",
   "id": "e4c5b14a-4dcb-4255-8405-aa5351c4923f",
   "metadata": {},
   "source": [
    "4. Verify the solution:"
   ]
  },
  {
   "cell_type": "code",
   "execution_count": 26,
   "id": "0fd2de87-d8bc-4b77-a1de-b7cb1c88b8b9",
   "metadata": {},
   "outputs": [
    {
     "name": "stdout",
     "output_type": "stream",
     "text": [
      "Raw LaTeX Prediction:   $ y=c_{1} e^{t}+c_{2} t e^{t}+-t e^{t}+\\ln |t| t e^{t} $ \n",
      "\n",
      "\n",
      "\n"
     ]
    },
    {
     "data": {
      "text/markdown": [
       "$$ y=c_{1} e^{t}+c_{2} t e^{t}+-t e^{t}+\\ln |t| t e^{t} $$"
      ],
      "text/plain": [
       "<IPython.core.display.Markdown object>"
      ]
     },
     "execution_count": 26,
     "metadata": {},
     "output_type": "execute_result"
    }
   ],
   "source": [
    "%mn"
   ]
  },
  {
   "cell_type": "markdown",
   "id": "50789a77-1051-48d2-bb0a-cc3ec7483da8",
   "metadata": {},
   "source": [
    "<p style=\"text-align:center;\"> <p style=\"text-align:center;\"><img src=\"figures_mathnotes_demo/fig13.png\" width = 300 img>\n"
   ]
  },
  {
   "cell_type": "markdown",
   "id": "a00ea146-3949-440e-b523-3a8a01c773cb",
   "metadata": {},
   "source": [
    "We already know that "
   ]
  }
 ],
 "metadata": {
  "kernelspec": {
   "display_name": "Python 3",
   "language": "python",
   "name": "python3"
  },
  "language_info": {
   "codemirror_mode": {
    "name": "ipython",
    "version": 3
   },
   "file_extension": ".py",
   "mimetype": "text/x-python",
   "name": "python",
   "nbconvert_exporter": "python",
   "pygments_lexer": "ipython3",
   "version": "3.9.2"
  }
 },
 "nbformat": 4,
 "nbformat_minor": 5
}
