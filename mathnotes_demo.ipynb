{
 "cells": [
  {
   "cell_type": "markdown",
   "id": "561f9166-31cc-4c7c-8cda-abb2a5ccd08d",
   "metadata": {
    "tags": []
   },
   "source": [
    "# MathNotes Demo\n",
    "\n",
    "This nb demos the basic use of MathNotes' basic functionality and walks through an example of using it in displaying the solution of a time-dependent, second-order differential equation. MathNotes is used to draw the desired output (typically single-line mathematics) and receive a LaTeX prediction both in raw and rendered form. "
   ]
  },
  {
   "cell_type": "markdown",
   "id": "486ccbdd-65e7-4b56-a42f-68a1790583f1",
   "metadata": {},
   "source": [
    "## Contents\n",
    "\n",
    "1. Basic commands for MathNotes Magic\n",
    "    1. Drawing an image for prediction\n",
    "    2. Loading an image for prediction\n",
    "    3. Passing a line argument for prediction\n",
    "2. Walkthrough of solving a second order, time-dependent differential equation\n",
    "    1. Problem to solve\n",
    "    2. Conclusion"
   ]
  },
  {
   "cell_type": "code",
   "execution_count": 1,
   "id": "43fb72b4-6b59-418e-aaff-4737a24adf10",
   "metadata": {},
   "outputs": [],
   "source": [
    "from pathlib import Path\n",
    "import csv\n",
    "from IPython.display import Markdown as md\n",
    "\n",
    "from math_notes import mathnotes"
   ]
  },
  {
   "cell_type": "markdown",
   "id": "129b6062-23d6-4a62-af84-951b11678e95",
   "metadata": {},
   "source": [
    "## Basic commands for MathNotes Magic\n",
    "\n",
    "MathNotes is invoked through a magic command `%mn`. Optionally, the central feature of MathNotes, the canvas, can be accessed directly by using `open_canvas()`. This function is used to obtain only the LaTeX prediction without any rendering. "
   ]
  },
  {
   "cell_type": "markdown",
   "id": "55d82c0c-ae69-4477-b49f-2af8465f90a8",
   "metadata": {},
   "source": [
    "### Drawing an image for prediction.\n",
    "\n",
    "Let's try writing the equation: $x^2 + y^2 = 1$.\n",
    "\n",
    "We follow these steps:"
   ]
  },
  {
   "cell_type": "markdown",
   "id": "e8acd4fc-efcd-4560-beda-841bfc0a47df",
   "metadata": {},
   "source": [
    "**Step 1 Open a canvas typing `%mn` in a codecell**\n",
    "<p style=\"text-align:center;\"><img src=\"figures_mathnotes_demo/fig1_opencv.png\" width=400 img>\n",
    " \n",
    "**Step 2 Draw an equation**\n",
    "<p style=\"text-align:center;\"><img src=\"figures_mathnotes_demo/fig2-draweq1.png\" width=400 img>\n",
    "    \n",
    "**Step 3 Hit 'Predict LaTeX!'**\n",
    "<p style=\"text-align:center;\"><img src=\"figures_mathnotes_demo/fig3-predict_latex1.png\" width=400 img>"
   ]
  },
  {
   "cell_type": "markdown",
   "id": "cd7419f2-004d-4037-8a52-3ebd20718041",
   "metadata": {},
   "source": [
    "**Step 4 Quit the canvas to render prediction to a cell.**\n",
    "\n",
    "We see a prediction is rendered in the notebook with the LaTeX prediction also provided for easy export to another environment."
   ]
  },
  {
   "cell_type": "code",
   "execution_count": 6,
   "id": "71cd422f-4717-4c81-a6b1-29af79f9d193",
   "metadata": {},
   "outputs": [
    {
     "name": "stdout",
     "output_type": "stream",
     "text": [
      "Raw LaTeX Prediction:   $ x^{2}+y^{2}=1 $ \n",
      "\n",
      "\n",
      "\n"
     ]
    },
    {
     "data": {
      "text/markdown": [
       "$$ \\Huge x^{2}+y^{2}=1 $$"
      ],
      "text/plain": [
       "<IPython.core.display.Markdown object>"
      ]
     },
     "execution_count": 6,
     "metadata": {},
     "output_type": "execute_result"
    }
   ],
   "source": [
    "%mn"
   ]
  },
  {
   "cell_type": "markdown",
   "id": "3fbaae06-16d7-4c34-92df-987fbb466c73",
   "metadata": {},
   "source": [
    "### Loading an image for prediction.\n",
    "\n",
    "MathNotes has an option to browse for a file to submit for prediction. Start with a MathNotes Magic command `%mn`.\n",
    "\n",
    "**Step 1 Click `Select a file` and browse for a file**\n",
    "<p style=\"text-align:center;\"><img src=\"figures_mathnotes_demo/fig5-selecting-preloaded-math.png\" width=500 img>\n",
    "    \n",
    "Once selected, the name appears on the canvas.\n",
    "<p style=\"text-align:center;\"><img src=\"figures_mathnotes_demo/fig6-selecting-preloaded-math-2.png\" width=500 img>\n",
    "\n",
    "**Step 2 Click `Predict LaTeX`**  \n",
    "This produces a prediction, similar to if we had drawn on the canvas.\n",
    "<p style=\"text-align:center;\"><img src=\"figures_mathnotes_demo/fig7-selecting-preloaded-math-3.png\" width=500 img>\n",
    "    \n",
    "**Step 3 Click `Quit`**   \n",
    "This publishes the results the to cell.\n",
    "<p style=\"text-align:center;\"><img src=\"figures_mathnotes_demo/fig8-selecting-preloaded-math-4.png\" width=600 img>"
   ]
  },
  {
   "cell_type": "markdown",
   "id": "8c425b92-d103-41f5-a2ca-f88f2d223491",
   "metadata": {},
   "source": [
    "### Passing a line argument for prediction.\n",
    "\n",
    "The MathNotes Magic command can be passed a fully qualified filename to send for prediction. \n",
    "\n",
    "We have a file 'fig_x.png' we would like to use for prediction.\n",
    "\n",
    "**Step 1 Type `%mn fig_x.png` in a code cell**\n",
    "\n",
    "**Step 2 Hit `Predict LaTeX!`** \n",
    "\n",
    "<p style=\"text-align:center;\"><img src=\"figures_mathnotes_demo/fig8-selecting-preloaded-math-4.png\" width=600 img>\n",
    "    \n",
    "**Step 3 Hit `Quit`**\n",
    "See the rendered prediction below as an example output."
   ]
  },
  {
   "cell_type": "code",
   "execution_count": 5,
   "id": "85474c55-dac7-407b-8fe1-a4bd9c388906",
   "metadata": {},
   "outputs": [
    {
     "name": "stdout",
     "output_type": "stream",
     "text": [
      "Raw LaTeX Prediction:   $ x $ \n",
      "\n",
      "\n",
      "\n"
     ]
    },
    {
     "data": {
      "text/markdown": [
       "$$ x $$"
      ],
      "text/plain": [
       "<IPython.core.display.Markdown object>"
      ]
     },
     "execution_count": 5,
     "metadata": {},
     "output_type": "execute_result"
    }
   ],
   "source": [
    "%mn fig_x.png"
   ]
  },
  {
   "cell_type": "markdown",
   "id": "c6fb20fb-0f1e-4bc8-a9a3-1307952fed5b",
   "metadata": {},
   "source": [
    "This concludes the basic functionality of MathNotes. Below we present two more examples of using MathNotes magic while solving a problem."
   ]
  },
  {
   "cell_type": "markdown",
   "id": "c20ed6f9-c5b7-4259-a7b8-ce1d4f45b57a",
   "metadata": {},
   "source": [
    "## Walkthrough of solving a second order, nonhomogenous differential equation. "
   ]
  },
  {
   "cell_type": "markdown",
   "id": "af9f3882-2ea0-462e-adbb-9ade7da120e0",
   "metadata": {},
   "source": [
    "We demo the use of mathnotes to narrate the story of solving a second order, nonhomogenous differential equation. \n",
    "\n",
    "### Problem to solve\n",
    "Suppose we want to solve: $$ \\huge y'' - 2y'+ y =\\frac{e^{t}}{t}$$ "
   ]
  },
  {
   "cell_type": "markdown",
   "id": "61a4102d-9860-4de6-b48e-6230df95d970",
   "metadata": {},
   "source": [
    "We'd like to use the general theory for second-order, nonhomogenous differential equations which says that:"
   ]
  },
  {
   "cell_type": "code",
   "execution_count": 14,
   "id": "9f885449-1b4b-4af9-85ed-26c055157e68",
   "metadata": {},
   "outputs": [
    {
     "name": "stdout",
     "output_type": "stream",
     "text": [
      "Raw LaTeX Prediction:   $ y_{g}(t)=c_{1} y_{1}(t)+C_{2} y_{2}(t)+y_{p}\\left(t^{2}\\right. $ \n",
      "\n",
      "\n",
      "\n"
     ]
    },
    {
     "data": {
      "text/markdown": [
       "$$ \\Huge y_{g}(t)=c_{1} y_{1}(t)+C_{2} y_{2}(t)+y_{p}\\left(t^{2}\\right. $$"
      ],
      "text/plain": [
       "<IPython.core.display.Markdown object>"
      ]
     },
     "execution_count": 14,
     "metadata": {},
     "output_type": "execute_result"
    }
   ],
   "source": [
    "%mn"
   ]
  },
  {
   "cell_type": "markdown",
   "id": "6a66cc94-f490-4d61-ade3-fd5b31c0edd8",
   "metadata": {},
   "source": [
    "*Canvas image:*\n",
    "<p style=\"text-align:center;\"><img src = \"figures_mathnotes_demo/fig9-wlkthr1-1.png\" width = 500 img>\n",
    "\n",
    "*Our handwriting produced some errors resulting in a less accurate LaTeX prediction.*\n",
    "\n",
    "*The prediction still serves as a good start to a desired result. We can tweak the LaTeX manually to this end:* \n",
    "\n",
    "$$ \\huge y_{g}(t)=c_{1} y_{1}(t)+c_{2} y_{2}(t)+y_{p}(t) $$ \n",
    "\n",
    "*From here on we continue to use the predicted latex for our document or continue calling MathNotes.*"
   ]
  },
  {
   "cell_type": "markdown",
   "id": "108714a6-95c5-440f-9fdd-049507ef7848",
   "metadata": {},
   "source": [
    "The above general solution presumes the homogenous component is: \n",
    "\n",
    "$$ \\huge y_h(t) = c_{1} y_{1}(t)+c_{2} y_{2}(t) $$\n",
    "\n",
    "*Above, we refactored the previously predicted LaTeX, extending the utility of that result.*\n",
    "\n"
   ]
  },
  {
   "cell_type": "markdown",
   "id": "6b4b7532-0000-4fc1-b59a-a6e11533940b",
   "metadata": {},
   "source": [
    "So we will find one particular solution $y_p(t)$ and the homogenous solution $y_h(t)$. Let's focus on the homogenous solution and solve:"
   ]
  },
  {
   "cell_type": "code",
   "execution_count": 15,
   "id": "e6c35e27-6a14-45fb-ae56-f69d3e4dac83",
   "metadata": {},
   "outputs": [
    {
     "name": "stdout",
     "output_type": "stream",
     "text": [
      "Raw LaTeX Prediction:   $ y^{\\prime \\prime}-2 y^{\\prime}+y=0 $ \n",
      "\n",
      "\n",
      "\n"
     ]
    },
    {
     "data": {
      "text/markdown": [
       "$$ \\Huge y^{\\prime \\prime}-2 y^{\\prime}+y=0 $$"
      ],
      "text/plain": [
       "<IPython.core.display.Markdown object>"
      ]
     },
     "execution_count": 15,
     "metadata": {},
     "output_type": "execute_result"
    }
   ],
   "source": [
    "%mn"
   ]
  },
  {
   "cell_type": "markdown",
   "id": "4e205556-b9e7-4968-bd23-f2e37e2ec3bb",
   "metadata": {},
   "source": [
    "*Canvas image*\n",
    "<p style=\"text-align:center;\"> <p style=\"text-align:center;\"><img src=\"figures_mathnotes_demo/fig10-wlkthr1-4.png\" width=450 img>"
   ]
  },
  {
   "cell_type": "markdown",
   "id": "5c12db1c-f61e-4df9-aff2-6c31358795fc",
   "metadata": {},
   "source": [
    "We can solve this with a varation of parameters step.\n",
    "\n",
    "**Step 1 Find the roots of the characteristic polynomial**"
   ]
  },
  {
   "cell_type": "code",
   "execution_count": 16,
   "id": "01397f6f-8ad6-41eb-9937-07d6076f85c7",
   "metadata": {},
   "outputs": [
    {
     "name": "stdout",
     "output_type": "stream",
     "text": [
      "Raw LaTeX Prediction:   $ r^{2}-2 r+1=0 $ \n",
      "\n",
      "\n",
      "\n"
     ]
    },
    {
     "data": {
      "text/markdown": [
       "$$ \\Huge r^{2}-2 r+1=0 $$"
      ],
      "text/plain": [
       "<IPython.core.display.Markdown object>"
      ]
     },
     "execution_count": 16,
     "metadata": {},
     "output_type": "execute_result"
    }
   ],
   "source": [
    "%mn"
   ]
  },
  {
   "cell_type": "markdown",
   "id": "5001d392-2cda-4512-aab2-13ba51ca05ae",
   "metadata": {},
   "source": [
    "*Canvas image*\n",
    "<p style=\"text-align:center;\"><img src=\"figures_mathnotes_demo/fig11-wlkthr1-1.png\" width=500 img>"
   ]
  },
  {
   "cell_type": "markdown",
   "id": "f2023f26-1c79-4176-b093-1782274f766f",
   "metadata": {},
   "source": [
    "This solution can be found as:"
   ]
  },
  {
   "cell_type": "code",
   "execution_count": 19,
   "id": "c66db780-308c-425d-af73-ab3d3e14b2a3",
   "metadata": {},
   "outputs": [
    {
     "name": "stdout",
     "output_type": "stream",
     "text": [
      "Raw LaTeX Prediction:   $ \\begin{array}{c}\n",
      "(r-1)^{2}=0 \\\\\n",
      "\\quad r=1 \\\\\n",
      "\\text { multiplicity }=2\n",
      "\\end{array} $ \n",
      "\n",
      "\n",
      "\n"
     ]
    },
    {
     "data": {
      "text/markdown": [
       "$$ \\Huge \\begin{array}{c}\n",
       "(r-1)^{2}=0 \\\\\n",
       "\\quad r=1 \\\\\n",
       "\\text { multiplicity }=2\n",
       "\\end{array} $$"
      ],
      "text/plain": [
       "<IPython.core.display.Markdown object>"
      ]
     },
     "execution_count": 19,
     "metadata": {},
     "output_type": "execute_result"
    }
   ],
   "source": [
    "%mn"
   ]
  },
  {
   "cell_type": "markdown",
   "id": "ea51e0f7-9641-4666-ab3e-5dd62702a9cf",
   "metadata": {},
   "source": [
    "*Canvas image*   \n",
    "*We are using a combination of multiline equations and words sent off for prediction, which are returned with high accuracy.*\n",
    "<p style=\"text-align:center;\"> <p style=\"text-align:center;\"><img src=\"figures_mathnotes_demo/fig11-wlkthr1-3.png\" width = 500 img>"
   ]
  },
  {
   "cell_type": "markdown",
   "id": "f83ebf2c-94a6-48fd-bd6e-c5d430ef6b21",
   "metadata": {},
   "source": [
    "**Step 2. Find the fundamental set of solutions for the homogenous differential equation**  \n",
    "A root with multiplicity 2 has a well-known corresponding solution form given by:"
   ]
  },
  {
   "cell_type": "code",
   "execution_count": 20,
   "id": "e6e08191-54a3-4f2c-ad26-e0e55545b30c",
   "metadata": {},
   "outputs": [
    {
     "name": "stdout",
     "output_type": "stream",
     "text": [
      "Raw LaTeX Prediction:   $ y_{1}(t)=c_{1} e^{r t} \\text { and } y_{2}(t)=c_{2} t e^{r t} $ \n",
      "\n",
      "\n",
      "\n"
     ]
    },
    {
     "data": {
      "text/markdown": [
       "$$ \\Huge y_{1}(t)=c_{1} e^{r t} \\text { and } y_{2}(t)=c_{2} t e^{r t} $$"
      ],
      "text/plain": [
       "<IPython.core.display.Markdown object>"
      ]
     },
     "execution_count": 20,
     "metadata": {},
     "output_type": "execute_result"
    }
   ],
   "source": [
    "%mn"
   ]
  },
  {
   "cell_type": "markdown",
   "id": "3eec74ad-4d1b-4cf3-8c59-5cafca0edbf0",
   "metadata": {},
   "source": [
    "*Canvas image*  \n",
    "*We continue combining equations and words and achieven high accuracy predictions.*\n",
    "<p style=\"text-align:center;\"> <p style=\"text-align:center;\"><img src=\"figures_mathnotes_demo/fig11-wlkthr1-4.png\" width = 500 img>"
   ]
  },
  {
   "cell_type": "markdown",
   "id": "58c3d323-ddd7-4f31-99e6-ab38adc78570",
   "metadata": {},
   "source": [
    "**Note:**  \n",
    "Thse past few instances of using MathNotes, multiple equations are written on the same canvas and include some regular, non-math text translated perfectly. We shouldn't expect this good of accuracy every time, but we can reasonably trust the engine will produce reliable results. We can adopt a strategy of 'try-and-fix' like before where we might have to tweak the LaTeX to get the results we want."
   ]
  },
  {
   "cell_type": "markdown",
   "id": "941964a4-0351-4011-ac97-4dc7534a11f1",
   "metadata": {},
   "source": [
    "**Step 3 Use variation of parameters to find $y_p(t)$**   \n",
    "The variation of parameters method is standard to solve equations of this sort. We find functions $u(t)$ and $v(t)$ so that:"
   ]
  },
  {
   "cell_type": "code",
   "execution_count": 6,
   "id": "ab4cb954-b1f8-4989-9d57-6a2ff74cbee8",
   "metadata": {},
   "outputs": [
    {
     "name": "stdout",
     "output_type": "stream",
     "text": [
      "Raw LaTeX Prediction:   $ y_{p}=u(t) e^{t}+v(t) t e^{t} $ \n",
      "\n",
      "\n",
      "\n"
     ]
    },
    {
     "data": {
      "text/markdown": [
       "$$ y_{p}=u(t) e^{t}+v(t) t e^{t} $$"
      ],
      "text/plain": [
       "<IPython.core.display.Markdown object>"
      ]
     },
     "execution_count": 6,
     "metadata": {},
     "output_type": "execute_result"
    }
   ],
   "source": [
    "%mn"
   ]
  },
  {
   "cell_type": "markdown",
   "id": "dde9ada2-359c-4a8d-aba8-683a8e9c974b",
   "metadata": {},
   "source": [
    "<p style=\"text-align:center;\"> <src img=\"fig11-wlkthr1-5.png\" width=500 src>"
   ]
  },
  {
   "cell_type": "markdown",
   "id": "a04675fa-74cf-430b-83fc-0c98dc374119",
   "metadata": {},
   "source": [
    "*Canvas image*\n",
    "<p style=\"text-align:center;\"> <p style=\"text-align:center;\"><img src=\"figures_mathnotes_demo/fig11-wlkthr1-12.png\" width = 300 img>"
   ]
  },
  {
   "cell_type": "markdown",
   "id": "1b2b504d-72c9-4c06-ae36-705ac3e14323",
   "metadata": {},
   "source": [
    "Variation of parameters says we can find $u(t)$ and $v(t)$ as:"
   ]
  },
  {
   "cell_type": "code",
   "execution_count": 2,
   "id": "1af8dff8-13a7-4f75-9678-5df9a8a58956",
   "metadata": {},
   "outputs": [
    {
     "name": "stdout",
     "output_type": "stream",
     "text": [
      "Raw LaTeX Prediction:   $ U_{1}=-\\int \\frac{t e^{t}\\left(\\frac{e^{t}}{t}\\right)}{W\\left(e^{t}, t e^{t}\\right)} d t V=\\int \\frac{e^{t}\\left(\\frac{e^{t}}{t}\\right)}{W\\left(e^{t}, t e^{t}\\right)} d t $ \n",
      "\n",
      "\n",
      "\n"
     ]
    },
    {
     "data": {
      "text/markdown": [
       "$$ U_{1}=-\\int \\frac{t e^{t}\\left(\\frac{e^{t}}{t}\\right)}{W\\left(e^{t}, t e^{t}\\right)} d t V=\\int \\frac{e^{t}\\left(\\frac{e^{t}}{t}\\right)}{W\\left(e^{t}, t e^{t}\\right)} d t $$"
      ],
      "text/plain": [
       "<IPython.core.display.Markdown object>"
      ]
     },
     "execution_count": 2,
     "metadata": {},
     "output_type": "execute_result"
    }
   ],
   "source": [
    "%mn"
   ]
  },
  {
   "cell_type": "markdown",
   "id": "93a3c1b8-7b75-4b17-8411-87d1081aa870",
   "metadata": {},
   "source": [
    "*Canvas image*\n",
    "<p style=\"text-align:center;\"> <p style=\"text-align:center;\"><img src=\"figures_mathnotes_demo/fig11-wlkthr1-7.png\" width = 500 img>\n",
    "    \n",
    "*Corrected LaTeX*\n",
    "    \n",
    "$$ U=-\\int \\frac{t e^{t}\\left(\\frac{e^{t}}{t}\\right)}{W\\left(e^{t}, t e^{t}\\right)} dt $$  \n",
    "      and  \n",
    "$$  V=\\int \\frac{e^{t}\\left(\\frac{e^{t}}{t}\\right)}{W\\left(e^{t}, t e^{t}\\right)} d t $$ "
   ]
  },
  {
   "cell_type": "markdown",
   "id": "3b19d643-df2a-4aca-91af-ea9584492580",
   "metadata": {},
   "source": [
    "Where the Wronskian is $W\\left(e^{t}, t e^{t}\\right)$ = "
   ]
  },
  {
   "cell_type": "code",
   "execution_count": 16,
   "id": "0db7c3fa-d2a6-42e6-b191-92491108d3a9",
   "metadata": {},
   "outputs": [
    {
     "name": "stdout",
     "output_type": "stream",
     "text": [
      "Raw LaTeX Prediction:   $ W\\left(e^{t}, t e^{t}\\right)=\\left|\\begin{array}{cc}\n",
      "e^{t} & t e^{t} \\\\\n",
      "e^{t} & t e^{t}+e^{t}\n",
      "\\end{array}\\right| $ \n",
      "\n",
      "\n",
      "\n"
     ]
    },
    {
     "data": {
      "text/markdown": [
       "$$ W\\left(e^{t}, t e^{t}\\right)=\\left|\\begin{array}{cc}\n",
       "e^{t} & t e^{t} \\\\\n",
       "e^{t} & t e^{t}+e^{t}\n",
       "\\end{array}\\right| $$"
      ],
      "text/plain": [
       "<IPython.core.display.Markdown object>"
      ]
     },
     "execution_count": 16,
     "metadata": {},
     "output_type": "execute_result"
    }
   ],
   "source": [
    "%mn"
   ]
  },
  {
   "cell_type": "markdown",
   "id": "5a44943d-f982-4dce-8e6f-076b9ec152f6",
   "metadata": {},
   "source": [
    "*Canvas image*\n",
    "<p style=\"text-align:center;\"><img src = \"figures_mathnotes_demo/fig11-wlkthr1-16.png\" width=300 img>"
   ]
  },
  {
   "cell_type": "code",
   "execution_count": 19,
   "id": "117304b3-bc55-4c72-a9e5-6602825bafc4",
   "metadata": {},
   "outputs": [
    {
     "name": "stdout",
     "output_type": "stream",
     "text": [
      "Raw LaTeX Prediction:   $ \\begin{aligned}\n",
      "W &=t e^{2 t}+e^{2 t}-t e^{2 t} \\\\\n",
      "&=e^{2 t}\n",
      "\\end{aligned} $ \n",
      "\n",
      "\n",
      "\n"
     ]
    },
    {
     "data": {
      "text/markdown": [
       "$$ \\begin{aligned}\n",
       "W &=t e^{2 t}+e^{2 t}-t e^{2 t} \\\\\n",
       "&=e^{2 t}\n",
       "\\end{aligned} $$"
      ],
      "text/plain": [
       "<IPython.core.display.Markdown object>"
      ]
     },
     "execution_count": 19,
     "metadata": {},
     "output_type": "execute_result"
    }
   ],
   "source": [
    "%mn"
   ]
  },
  {
   "cell_type": "markdown",
   "id": "0d3c94bc-489e-461e-8734-95a3e58be45f",
   "metadata": {},
   "source": [
    "*Canvas image*\n",
    "<p style=\"text-align:center;\"><img src = \"figures_mathnotes_demo/fig11-wlkthr1-17.png\" width=300 img>"
   ]
  },
  {
   "cell_type": "code",
   "execution_count": 21,
   "id": "92a39287-0cfa-4c83-9656-7b8c11e44cd0",
   "metadata": {},
   "outputs": [
    {
     "name": "stdout",
     "output_type": "stream",
     "text": [
      "Raw LaTeX Prediction:   $ \\begin{aligned}\n",
      "u &=-\\int \\frac{t e^{t} \\frac{e^{t}}{t}}{e^{t}\\left(t e^{t}+e^{t}\\right)}-t e^{t} e^{t} \\\\\n",
      "&=-\\int \\frac{e^{2 t}}{e^{2 t}} d t=-\\int 1 d t=-\\emptyset t\n",
      "\\end{aligned} $ \n",
      "\n",
      "\n",
      "\n"
     ]
    },
    {
     "data": {
      "text/markdown": [
       "$$ \\begin{aligned}\n",
       "u &=-\\int \\frac{t e^{t} \\frac{e^{t}}{t}}{e^{t}\\left(t e^{t}+e^{t}\\right)}-t e^{t} e^{t} \\\\\n",
       "&=-\\int \\frac{e^{2 t}}{e^{2 t}} d t=-\\int 1 d t=-\\emptyset t\n",
       "\\end{aligned} $$"
      ],
      "text/plain": [
       "<IPython.core.display.Markdown object>"
      ]
     },
     "execution_count": 21,
     "metadata": {},
     "output_type": "execute_result"
    }
   ],
   "source": [
    "%mn"
   ]
  },
  {
   "cell_type": "markdown",
   "id": "cb4085f9-376b-4adc-a935-385ac1d92007",
   "metadata": {},
   "source": [
    "*In this instance, the prediction was created using a picture of a notebook image loaded through the `Select a file` button.8\n",
    "\n",
    "*This is the image we submitted*\n",
    "<p style=\"text-align:center;\"> <p style=\"text-align:center;\"><img src=\"figures_mathnotes_demo/fig11-wlkthr1-8.jpg\" width = 300 img>\n",
    "    \n",
    "*Here is the MathNotes prediction after queuing the image*\n",
    "<p style=\"text-align:center;\"> <p style=\"text-align:center;\"><img src=\"figures_mathnotes_demo/fig11-wlkthr1-9.png\" width = 500 img>\n",
    "\n",
    "*Corrected LaTeX*  \n",
    "\n",
    "$$ \\begin{aligned}\n",
    "u &=-\\int \\frac{t e^{t} \\frac{e^{t}}{t}}{e^{t}\\left(t e^{t}+e^{t}\\right)-t e^{t} e^{t} } \\\\\n",
    "&=-\\int \\frac{e^{2 t}}{e^{2 t}} d t=-\\int 1 d t= - t\n",
    "\\end{aligned} $$ "
   ]
  },
  {
   "cell_type": "markdown",
   "id": "4898762b-e6fb-4fb2-960d-fb3f3af339ee",
   "metadata": {},
   "source": [
    "We find $v(t)$ in a similar way:"
   ]
  },
  {
   "cell_type": "code",
   "execution_count": 15,
   "id": "c7e9ce2e-c7b3-45fa-8ddc-ed2982f9dc35",
   "metadata": {},
   "outputs": [
    {
     "name": "stdout",
     "output_type": "stream",
     "text": [
      "Raw LaTeX Prediction:   $ \\begin{aligned}\n",
      "\\nabla(t) &=\\int \\frac{e^{t}\\left(\\frac{e^{t}}{t}\\right)}{e^{t}\\left(t e^{t}+e^{t}\\right)-t e^{t}\\left(e^{t}\\right)} d t \\\\\n",
      "&=\\int \\frac{e^{2 t} \\mid t}{e^{2 t}} d t \\\\\n",
      "&=\\int \\frac{1}{t} d t=\\ln |t|\n",
      "\\end{aligned} $ \n",
      "\n",
      "\n",
      "\n"
     ]
    },
    {
     "data": {
      "text/markdown": [
       "$$ \\begin{aligned}\n",
       "\\nabla(t) &=\\int \\frac{e^{t}\\left(\\frac{e^{t}}{t}\\right)}{e^{t}\\left(t e^{t}+e^{t}\\right)-t e^{t}\\left(e^{t}\\right)} d t \\\\\n",
       "&=\\int \\frac{e^{2 t} \\mid t}{e^{2 t}} d t \\\\\n",
       "&=\\int \\frac{1}{t} d t=\\ln |t|\n",
       "\\end{aligned} $$"
      ],
      "text/plain": [
       "<IPython.core.display.Markdown object>"
      ]
     },
     "execution_count": 15,
     "metadata": {},
     "output_type": "execute_result"
    }
   ],
   "source": [
    "%mn"
   ]
  },
  {
   "cell_type": "markdown",
   "id": "4d93bf57-b426-4082-a3ed-8e90ecdf6bcc",
   "metadata": {},
   "source": [
    "*As above, this LaTeX prediction was made by using browsing for a file* \n",
    "<p style=\"text-align:center;\"> <p style=\"text-align:center;\"><img src=\"figures_mathnotes_demo/fig11-wlkthr1-14.jpg\" width = 300 img>\n",
    "    \n",
    "*Here is the MathNotes prediction after queuing the image*\n",
    "<p style=\"text-align:center;\"> <p style=\"text-align:center;\"><img src=\"figures_mathnotes_demo/fig11-wlkthr1-15.png\" width = 500 img> \n",
    "    \n",
    "*Corrected LaTeX*\n",
    "    \n",
    "$$ \\begin{aligned}\n",
    "v(t) &=\\int \\frac{e^{t}\\left(\\frac{e^{t}}{t}\\right)}{e^{t}\\left(t e^{t}+e^{t}\\right)-t e^{t}\\left(e^{t}\\right)} d t \\\\\n",
    "&=\\int \\frac{e^{2 t} \\mid t}{e^{2 t}} d t \\\\\n",
    "&=\\int \\frac{1}{t} d t=\\ln |t|\n",
    "\\end{aligned} $$"
   ]
  },
  {
   "cell_type": "markdown",
   "id": "f0a5cf65-5370-4a3c-ab92-d139908c2110",
   "metadata": {},
   "source": [
    "The particular solution is: "
   ]
  },
  {
   "cell_type": "code",
   "execution_count": 23,
   "id": "dda1921c-6dd7-4a4f-905a-54c63d51e955",
   "metadata": {},
   "outputs": [
    {
     "name": "stdout",
     "output_type": "stream",
     "text": [
      "Raw LaTeX Prediction:   $ \\begin{array}{c}\n",
      "y_{p}=u(t) e^{t}+v(t) t e^{t} \\\\\n",
      "=\n",
      "\\end{array} $ \n",
      "\n",
      "\n",
      "\n"
     ]
    },
    {
     "data": {
      "text/markdown": [
       "$$ \\begin{array}{c}\n",
       "y_{p}=u(t) e^{t}+v(t) t e^{t} \\\\\n",
       "=\n",
       "\\end{array} $$"
      ],
      "text/plain": [
       "<IPython.core.display.Markdown object>"
      ]
     },
     "execution_count": 23,
     "metadata": {},
     "output_type": "execute_result"
    }
   ],
   "source": [
    "%mn"
   ]
  },
  {
   "cell_type": "markdown",
   "id": "09fe0dd6-2633-4631-8774-0b94dd534fd6",
   "metadata": {},
   "source": [
    "*As above, this LaTeX prediction was made by using browsing for a file*\n",
    "<p style=\"text-align:center;\"> <p style=\"text-align:center;\"><img src=\"figures_mathnotes_demo/fig11-wlkthr1-12.png\" width = 300 img>\n",
    "    \n",
    "*Corrected LaTeX:*\n",
    "$$ y_{p}=u(t) e^{t}+v(t) t e^{t} $$"
   ]
  },
  {
   "cell_type": "markdown",
   "id": "159e5f4c-e194-4447-bfaf-7f3396fb4b91",
   "metadata": {},
   "source": [
    "More explicitly:"
   ]
  },
  {
   "cell_type": "code",
   "execution_count": 25,
   "id": "3f028732-9b5e-429f-93b2-a4a7847035bc",
   "metadata": {},
   "outputs": [
    {
     "name": "stdout",
     "output_type": "stream",
     "text": [
      "Raw LaTeX Prediction:   $ y_{p}=-t e^{t}+\\left.\\right|_{n}|t| t e^{t} $ \n",
      "\n",
      "\n",
      "\n"
     ]
    },
    {
     "data": {
      "text/markdown": [
       "$$ y_{p}=-t e^{t}+\\left.\\right|_{n}|t| t e^{t} $$"
      ],
      "text/plain": [
       "<IPython.core.display.Markdown object>"
      ]
     },
     "execution_count": 25,
     "metadata": {},
     "output_type": "execute_result"
    }
   ],
   "source": [
    "%mn"
   ]
  },
  {
   "cell_type": "markdown",
   "id": "2b97db53-8575-46f3-a027-e60233d528ea",
   "metadata": {},
   "source": [
    "*Canvas image*\n",
    "<p style=\"text-align:center;\"> <p style=\"text-align:center;\"><img src=\"figures_mathnotes_demo/fig12.png\" width = 200 img>\n",
    "\n",
    "Corrected LaTeX\n",
    "$$ y_{p}=-t e^{t}+ \\ln|t|t e^{t} $$"
   ]
  },
  {
   "cell_type": "markdown",
   "id": "e4c5b14a-4dcb-4255-8405-aa5351c4923f",
   "metadata": {},
   "source": [
    "**Step 4 Verify the solution**  \n",
    "\n",
    "Apply the ODE to $y_g(t)$."
   ]
  },
  {
   "cell_type": "code",
   "execution_count": 26,
   "id": "0fd2de87-d8bc-4b77-a1de-b7cb1c88b8b9",
   "metadata": {},
   "outputs": [
    {
     "name": "stdout",
     "output_type": "stream",
     "text": [
      "Raw LaTeX Prediction:   $ y=c_{1} e^{t}+c_{2} t e^{t}+-t e^{t}+\\ln |t| t e^{t} $ \n",
      "\n",
      "\n",
      "\n"
     ]
    },
    {
     "data": {
      "text/markdown": [
       "$$ y=c_{1} e^{t}+c_{2} t e^{t}+-t e^{t}+\\ln |t| t e^{t} $$"
      ],
      "text/plain": [
       "<IPython.core.display.Markdown object>"
      ]
     },
     "execution_count": 26,
     "metadata": {},
     "output_type": "execute_result"
    }
   ],
   "source": [
    "%mn"
   ]
  },
  {
   "cell_type": "markdown",
   "id": "50789a77-1051-48d2-bb0a-cc3ec7483da8",
   "metadata": {},
   "source": [
    "*Canvas image*\n",
    "<p style=\"text-align:center;\"> <p style=\"text-align:center;\"><img src=\"figures_mathnotes_demo/fig13.png\" width = 300 img>\n"
   ]
  },
  {
   "cell_type": "markdown",
   "id": "a00ea146-3949-440e-b523-3a8a01c773cb",
   "metadata": {},
   "source": [
    "We already know that the first two terms satisfy the homogenous solution, so all that is left to verify is that $y_p$ satisfies the ODE as follows:"
   ]
  },
  {
   "cell_type": "code",
   "execution_count": 27,
   "id": "93e5cc30-cfbb-4c3d-809a-48e4d0d4d755",
   "metadata": {},
   "outputs": [
    {
     "name": "stdout",
     "output_type": "stream",
     "text": [
      "Raw LaTeX Prediction:   $ \\begin{array}{l}\n",
      "y_{p}=(-t) e^{t}+\\ln |t| t e^{t}\\\\\n",
      "y_{p}^{\\prime}=-t e^{t}-e^{t}+\\frac{1}{t} t e^{t}+\\ln |t| e^{t}+\\ln |t| t e^{t}\\\\\n",
      "=-t e^{t}+\\ln |t| e^{t}+\\ln |t| t e^{t}\\\\\n",
      "y_{p}^{\\prime \\prime}=-t e^{t}-e^{t}+\\frac{1}{t} e^{t}+\\ln |t| e^{t}+\\frac{1}{t} t e^{t}+h|t| e^{t}+h|t| t e^{t}\\\\\n",
      "=-t e^{t}-2 t^{t}+\\frac{1}{t} e^{t}+\\ln \\left|t l e^{t}+t^{t}+\\ln \\right| t\\left|e^{t}+\\ln \\right| t \\mid t e^{t}\\\\\n",
      "=-t e^{t}+\\frac{1}{t} e^{t}+2 \\ln |t| e^{t}+\\ln |t| t e^{t}\\\\\n",
      "-t e^{t}+\\frac{1}{t} e^{t}+21,1 t t e^{t}+\\ln |e| t e^{t}\\\\\n",
      "\\text { I2te } \\left.-21 n t e^{t}-2 \\ln / t\\right) t e^{t}\\\\\n",
      "-t e^{t}+\\ln \\not t h t e^{t}\\\\\n",
      "=\\frac{1}{t} e^{t} \\text { as desiret. }\n",
      "\\end{array} $ \n",
      "\n",
      "\n",
      "\n"
     ]
    },
    {
     "data": {
      "text/markdown": [
       "$$ \\begin{array}{l}\n",
       "y_{p}=(-t) e^{t}+\\ln |t| t e^{t}\\\\\n",
       "y_{p}^{\\prime}=-t e^{t}-e^{t}+\\frac{1}{t} t e^{t}+\\ln |t| e^{t}+\\ln |t| t e^{t}\\\\\n",
       "=-t e^{t}+\\ln |t| e^{t}+\\ln |t| t e^{t}\\\\\n",
       "y_{p}^{\\prime \\prime}=-t e^{t}-e^{t}+\\frac{1}{t} e^{t}+\\ln |t| e^{t}+\\frac{1}{t} t e^{t}+h|t| e^{t}+h|t| t e^{t}\\\\\n",
       "=-t e^{t}-2 t^{t}+\\frac{1}{t} e^{t}+\\ln \\left|t l e^{t}+t^{t}+\\ln \\right| t\\left|e^{t}+\\ln \\right| t \\mid t e^{t}\\\\\n",
       "=-t e^{t}+\\frac{1}{t} e^{t}+2 \\ln |t| e^{t}+\\ln |t| t e^{t}\\\\\n",
       "-t e^{t}+\\frac{1}{t} e^{t}+21,1 t t e^{t}+\\ln |e| t e^{t}\\\\\n",
       "\\text { I2te } \\left.-21 n t e^{t}-2 \\ln / t\\right) t e^{t}\\\\\n",
       "-t e^{t}+\\ln \\not t h t e^{t}\\\\\n",
       "=\\frac{1}{t} e^{t} \\text { as desiret. }\n",
       "\\end{array} $$"
      ],
      "text/plain": [
       "<IPython.core.display.Markdown object>"
      ]
     },
     "execution_count": 27,
     "metadata": {},
     "output_type": "execute_result"
    }
   ],
   "source": [
    "%mn"
   ]
  },
  {
   "cell_type": "markdown",
   "id": "aca9ccc5-5f37-415f-9082-cef217067758",
   "metadata": {},
   "source": [
    "*Submitted image*\n",
    "<p style=\"text-align:center;\"> <p style=\"text-align:center;\"><img src=\"figures_mathnotes_demo/fig14.jpg\" width = 400 img>\n",
    "\n",
    "*Canvas image*\n",
    "<p style=\"text-align:center;\"> <p style=\"text-align:center;\"><img src=\"figures_mathnotes_demo/fig15.png\" width = 600 img>\n",
    "\n",
    "*Corrected and Utilized LaTeX*\n",
    "$$ \\begin{array}{l}\n",
    "y_{p}=(-t) e^{t}+\\ln |t| t e^{t}\\\\\n",
    "y_{p}^{\\prime}=-t e^{t}+\\ln |t| e^{t}+\\ln |t| t e^{t}\\\\\n",
    "y_{p}^{\\prime \\prime}=-t e^{t}+\\frac{1}{t} e^{t}+2 \\ln |t| e^{t}+\\ln |t| t e^{t}\\\\\n",
    "\\text{so that: } \\\\\n",
    "%\n",
    "-t e^{t}+\\frac{1}{t} e^{t}+2\\ln|t| e^{t}+\\ln|t| t e^{t}\\\\\n",
    "2te^{t} -2\\ln |t|  e^{t} - 2 \\ln|t| t e^{t}\\\\\n",
    "-t e^{t}+\\ln |t| t e^{t}\\\\\n",
    "=\\frac{1}{t} e^{t} \\text { as desired. }\n",
    "\\end{array} $$ \n"
   ]
  },
  {
   "cell_type": "markdown",
   "id": "947b9ec1-c6a7-43f7-8ab3-4e5dd6091acb",
   "metadata": {},
   "source": [
    "### Conclusion\n",
    "\n",
    "From this walkthrough, we've seen a demo of how the MathNotes can be applied to seamlessly embed LaTeX rendered equations in a Jupter Notebook from a hand-written canvas or by selecting in image file. The result is editable LaTeX that can be corrected to achieve an exact result or whose parts can be reused to write out other equations.  \n",
    "\n",
    "MathNotes can be used as a way to document university-level mathematics at the graduate and undergraduate level.  This increases the utility of markdown. A user can choose to write simple LaTeX immediately into a markdown cell or decide to use a canvas for more complicated math-to-LaTeX processing.\n",
    "\n",
    "#### Drawbacks\n",
    "A few drawbacks we can highlight for future improvements are:\n",
    "1. There is no 'back' or 'undo' button. This means if we make a mistake while using the canvas, we cannot undo it. We have two choices: either proceed and hope the prediction is close enough so we can correct it or restart the canvas writing from scratch. An 'undo' button has the potential to significantly increase workflow. \n",
    "\n",
    "2. We are not saving predictions performed throughout the notebook. This means if we want to go back and revise, we may have to screen capture the result of the rendered LaTeX, then resubmit it as a selected file. While the last prediction is saved, it may be useful to track all predictions created. This would open up a problem with storage. \n",
    "\n",
    "#### Advantages\n",
    "We some few advantages we highlight are:\n",
    "\n",
    "1. We are able to quickly decide if we want to hand draw an image or write several lines of equation of loose-leaf paper, then capture and submit through the canvas. This maintains a similar, repeatable sense of workflow when creating notes.\n",
    "\n",
    "2. The prediction does not need to be perfect! Since the raw LaTeX is reported, if a user needs to increase their speed, they can write something close to their desired result, obtain the prediction, then come back to edit later. This is particularly useful, since even an iPad and similar tablet devices do not allow this.\n",
    "\n",
    "This concludes the MathNotes demo."
   ]
  }
 ],
 "metadata": {
  "kernelspec": {
   "display_name": "Python 3",
   "language": "python",
   "name": "python3"
  },
  "language_info": {
   "codemirror_mode": {
    "name": "ipython",
    "version": 3
   },
   "file_extension": ".py",
   "mimetype": "text/x-python",
   "name": "python",
   "nbconvert_exporter": "python",
   "pygments_lexer": "ipython3",
   "version": "3.9.2"
  }
 },
 "nbformat": 4,
 "nbformat_minor": 5
}
