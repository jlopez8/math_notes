{
 "cells": [
  {
   "cell_type": "markdown",
   "id": "561f9166-31cc-4c7c-8cda-abb2a5ccd08d",
   "metadata": {
    "tags": []
   },
   "source": [
    "# MathNotes Demo\n",
    "\n",
    "This nb demos the use of MathNotes with several walkthrough example cases including solving a time-dependent second-order differential equation and a  hypothesis testing problem in probability leading to a $p$-value result.\n",
    "\n",
    "MathNotes is used through a magic command `%mn` for convenience. The canvas feature can be accessed directly by using `open_canvas()`, which returns only the LaTeX prediction.\n",
    "\n",
    "After a canvas is open in a code cell, a user can draw the desired output (typically single-line mathematics) and receive both a LaTeX prediction both in raw and rendered form."
   ]
  },
  {
   "cell_type": "markdown",
   "id": "486ccbdd-65e7-4b56-a42f-68a1790583f1",
   "metadata": {},
   "source": [
    "## Contents\n",
    "\n",
    "1. Basic commands for MathNotes Magic\n",
    "    1. Drawing an image for prediction\n",
    "    2. Loading an image for prediction\n",
    "2. Example 1: Walkthrough of solving a second order, time-dependent differential equation\n",
    "3. Example 2: Walkthrough of hypothesis testing problem to achieve a $p$-value"
   ]
  },
  {
   "cell_type": "code",
   "execution_count": 1,
   "id": "43fb72b4-6b59-418e-aaff-4737a24adf10",
   "metadata": {},
   "outputs": [],
   "source": [
    "from pathlib import Path\n",
    "import csv\n",
    "from IPython.display import Markdown as md\n",
    "\n",
    "from math_notes import mathnotes"
   ]
  },
  {
   "cell_type": "markdown",
   "id": "129b6062-23d6-4a62-af84-951b11678e95",
   "metadata": {},
   "source": [
    "## Basic commands for MathNotes Magic"
   ]
  },
  {
   "cell_type": "markdown",
   "id": "55d82c0c-ae69-4477-b49f-2af8465f90a8",
   "metadata": {},
   "source": [
    "### Drawing an image for prediction.\n",
    "\n",
    "MathNotes is primary accessed using the magic `%mn`. Run the cell below to call in a canvas. Try writing the equation: $ x^2 + y^2 = 1$."
   ]
  },
  {
   "cell_type": "code",
   "execution_count": 4,
   "id": "89cd81f2-6cb9-40b0-b95a-b94fca6f461e",
   "metadata": {},
   "outputs": [
    {
     "name": "stdout",
     "output_type": "stream",
     "text": [
      "Raw LaTeX Prediction:   $ x^{2}+y^{2}=1 $ \n",
      "\n",
      "\n",
      "\n"
     ]
    },
    {
     "data": {
      "text/markdown": [
       "$$ \\Huge x^{2}+y^{2}=1 $$"
      ],
      "text/plain": [
       "<IPython.core.display.Markdown object>"
      ]
     },
     "execution_count": 4,
     "metadata": {},
     "output_type": "execute_result"
    }
   ],
   "source": [
    "%mn"
   ]
  },
  {
   "cell_type": "markdown",
   "id": "e8acd4fc-efcd-4560-beda-841bfc0a47df",
   "metadata": {},
   "source": [
    "#### An open canvas.\n",
    "<p style=\"text-align:center;\"><img src=\"figures_mathnotes_demo/fig1_opencv.png\" width=500 img>"
   ]
  },
  {
   "cell_type": "markdown",
   "id": "190654fd-331a-4e1c-b413-5091c44bb1a6",
   "metadata": {},
   "source": [
    "#### Draw an equation.\n",
    "<p style=\"text-align:center;\"><img src=\"figures_mathnotes_demo/fig2-draweq1.png\" width=500 img>"
   ]
  },
  {
   "cell_type": "markdown",
   "id": "0866a03d-b32b-4a4d-b777-58aea42ffdf8",
   "metadata": {},
   "source": [
    "#### Hit 'Predict LaTeX!'"
   ]
  },
  {
   "cell_type": "markdown",
   "id": "b202b028-a861-41fe-b914-e8cebb25b509",
   "metadata": {},
   "source": [
    "<p style=\"text-align:center;\"><p style=\"text-align:center;\"><img src=\"figures_mathnotes_demo/fig3-predict_latex1.png\" width = 500 img>"
   ]
  },
  {
   "cell_type": "markdown",
   "id": "cd7419f2-004d-4037-8a52-3ebd20718041",
   "metadata": {},
   "source": [
    "#### Quit the canvas to render prediction to a cell.\n",
    "\n",
    "We see a prediction is renderd in the notebook with the LaTeX prediction also provided for easy export to another environment."
   ]
  },
  {
   "cell_type": "code",
   "execution_count": 6,
   "id": "71cd422f-4717-4c81-a6b1-29af79f9d193",
   "metadata": {},
   "outputs": [
    {
     "name": "stdout",
     "output_type": "stream",
     "text": [
      "Raw LaTeX Prediction:   $ x^{2}+y^{2}=1 $ \n",
      "\n",
      "\n",
      "\n"
     ]
    },
    {
     "data": {
      "text/markdown": [
       "$$ \\Huge x^{2}+y^{2}=1 $$"
      ],
      "text/plain": [
       "<IPython.core.display.Markdown object>"
      ]
     },
     "execution_count": 6,
     "metadata": {},
     "output_type": "execute_result"
    }
   ],
   "source": [
    "%mn"
   ]
  },
  {
   "cell_type": "markdown",
   "id": "3fbaae06-16d7-4c34-92df-987fbb466c73",
   "metadata": {},
   "source": [
    "## Loading an image for prediction.\n",
    "\n",
    "When opening mathnotes, there is an option to choose a pre-existing file. Open a new magic command and browse to a file that contains math you'd like to have translated. Once the file is queued, selet `Predict LaTeX` then `Quit` to publish the results the to cell."
   ]
  },
  {
   "cell_type": "code",
   "execution_count": null,
   "id": "f09893e6-14c6-4940-84d2-253c3de8be75",
   "metadata": {},
   "outputs": [],
   "source": [
    "%mn"
   ]
  },
  {
   "cell_type": "markdown",
   "id": "e16486bb-ea2a-40d3-9724-e9ea1a70214e",
   "metadata": {},
   "source": [
    "#### Browse for a file. \n",
    "It should look similar to this\n",
    "<p style=\"text-align:center;\"><img src=\"figures_mathnotes_demo/fig5-selecting-preloaded-math.png\" width=500 img>\n",
    "\n",
    "#### Select a file. \n",
    "The name appears on the canvas.\n",
    "<p style=\"text-align:center;\"><img src=\"figures_mathnotes_demo/fig6-selecting-preloaded-math-2.png\" width=500 img>\n",
    "\n",
    "#### Hit 'Predict LaTeX!'\n",
    "This produces a prediction, similar to if we had drawn on the canvas.\n",
    "<p style=\"text-align:center;\"><img src=\"figures_mathnotes_demo/fig7-selecting-preloaded-math-3.png\" width=500 img>\n",
    "\n",
    "#### Close or hit 'Quit' \n",
    "Returns the LaTeX rendered and raw.\n",
    "<p style=\"text-align:center;\"><img src=\"figures_mathnotes_demo/fig8-selecting-preloaded-math-4.png\" width=600 img>"
   ]
  },
  {
   "cell_type": "markdown",
   "id": "c6fb20fb-0f1e-4bc8-a9a3-1307952fed5b",
   "metadata": {},
   "source": [
    "This concludes the basic functionality of MathNotes. Below we present two more examples of using MathNotes magic while solving a problem."
   ]
  },
  {
   "cell_type": "markdown",
   "id": "c20ed6f9-c5b7-4259-a7b8-ce1d4f45b57a",
   "metadata": {},
   "source": [
    "## Example 1: Walkthrough of solving a second order, nonhomogenous differential equation. "
   ]
  },
  {
   "cell_type": "markdown",
   "id": "af9f3882-2ea0-462e-adbb-9ade7da120e0",
   "metadata": {},
   "source": [
    "Suppose we want to solve: $$ \\huge y'' - 2y'+ y =\\frac{e^{t}}{t}$$ "
   ]
  },
  {
   "cell_type": "markdown",
   "id": "61a4102d-9860-4de6-b48e-6230df95d970",
   "metadata": {},
   "source": [
    "We'd like to use the general theory for second-order, nonhomogenous differential equations which says that:"
   ]
  },
  {
   "cell_type": "code",
   "execution_count": 14,
   "id": "9f885449-1b4b-4af9-85ed-26c055157e68",
   "metadata": {},
   "outputs": [
    {
     "name": "stdout",
     "output_type": "stream",
     "text": [
      "Raw LaTeX Prediction:   $ y_{g}(t)=c_{1} y_{1}(t)+C_{2} y_{2}(t)+y_{p}\\left(t^{2}\\right. $ \n",
      "\n",
      "\n",
      "\n"
     ]
    },
    {
     "data": {
      "text/markdown": [
       "$$ \\Huge y_{g}(t)=c_{1} y_{1}(t)+C_{2} y_{2}(t)+y_{p}\\left(t^{2}\\right. $$"
      ],
      "text/plain": [
       "<IPython.core.display.Markdown object>"
      ]
     },
     "execution_count": 14,
     "metadata": {},
     "output_type": "execute_result"
    }
   ],
   "source": [
    "%mn"
   ]
  },
  {
   "cell_type": "markdown",
   "id": "6a66cc94-f490-4d61-ade3-fd5b31c0edd8",
   "metadata": {},
   "source": [
    "We wanted to avoid LaTeX the equation ourselves and relied to mathnotes. Our handwriting had some errors, so we missed a few details and achieved an inexact result.\n",
    "\n",
    "This is an example canvas that produced the above LaTeX prediction.\n",
    "<p style=\"text-align:center;\"><img src = \"figures_mathnotes_demo/fig9-wlkthr1-1.png\" width = 500 img>\n",
    "\n",
    "We can use the predicted LaTeX to get close and tweak it slightly to produce this instead: \n",
    "\n",
    "$$ \\huge y_{g}(t)=c_{1} y_{1}(t)+c_{2} y_{2}(t)+y_{p}(t) $$ \n",
    "\n",
    "From here on we continue to use the predicted latex for our document or continue calling mathnotes."
   ]
  },
  {
   "cell_type": "markdown",
   "id": "108714a6-95c5-440f-9fdd-049507ef7848",
   "metadata": {},
   "source": [
    "The above presumes:"
   ]
  },
  {
   "cell_type": "code",
   "execution_count": 7,
   "id": "fabef294-ccde-4b0e-9079-b558d629e06d",
   "metadata": {},
   "outputs": [
    {
     "name": "stdout",
     "output_type": "stream",
     "text": [
      "Raw LaTeX Prediction:   $ c_{1} y_{1}(x)+c_{2} y_{2}(x)=0 $ \n",
      "\n",
      "\n",
      "\n"
     ]
    },
    {
     "data": {
      "text/markdown": [
       "$$ \\Huge c_{1} y_{1}(x)+c_{2} y_{2}(x)=0 $$"
      ],
      "text/plain": [
       "<IPython.core.display.Markdown object>"
      ]
     },
     "execution_count": 7,
     "metadata": {},
     "output_type": "execute_result"
    }
   ],
   "source": [
    "%mn"
   ]
  },
  {
   "cell_type": "markdown",
   "id": "6b4b7532-0000-4fc1-b59a-a6e11533940b",
   "metadata": {},
   "source": [
    "Notice the output works well from the start. Moving on with the math document... \n",
    "\n",
    "So we will find one particular solution $y_p(t)$ and the homogenous solution $y_g(t)$. Let's focus on the homogenous solution and solve:"
   ]
  },
  {
   "cell_type": "code",
   "execution_count": 15,
   "id": "e6c35e27-6a14-45fb-ae56-f69d3e4dac83",
   "metadata": {},
   "outputs": [
    {
     "name": "stdout",
     "output_type": "stream",
     "text": [
      "Raw LaTeX Prediction:   $ y^{\\prime \\prime}-2 y^{\\prime}+y=0 $ \n",
      "\n",
      "\n",
      "\n"
     ]
    },
    {
     "data": {
      "text/markdown": [
       "$$ \\Huge y^{\\prime \\prime}-2 y^{\\prime}+y=0 $$"
      ],
      "text/plain": [
       "<IPython.core.display.Markdown object>"
      ]
     },
     "execution_count": 15,
     "metadata": {},
     "output_type": "execute_result"
    }
   ],
   "source": [
    "%mn"
   ]
  },
  {
   "cell_type": "markdown",
   "id": "4e205556-b9e7-4968-bd23-f2e37e2ec3bb",
   "metadata": {},
   "source": [
    "This handwriting sample results in the above LaTeX prediction. \n",
    "\n",
    "<p style=\"text-align:center;\"> <p style=\"text-align:center;\"><img src=\"figures_mathnotes_demo/fig10-wlkthr1-4.png\" width=500 img>"
   ]
  },
  {
   "cell_type": "markdown",
   "id": "5c12db1c-f61e-4df9-aff2-6c31358795fc",
   "metadata": {},
   "source": [
    "Now "
   ]
  }
 ],
 "metadata": {
  "kernelspec": {
   "display_name": "Python 3",
   "language": "python",
   "name": "python3"
  },
  "language_info": {
   "codemirror_mode": {
    "name": "ipython",
    "version": 3
   },
   "file_extension": ".py",
   "mimetype": "text/x-python",
   "name": "python",
   "nbconvert_exporter": "python",
   "pygments_lexer": "ipython3",
   "version": "3.9.2"
  }
 },
 "nbformat": 4,
 "nbformat_minor": 5
}
